{
 "cells": [
  {
   "cell_type": "code",
   "execution_count": 1,
   "id": "73d5c0c2",
   "metadata": {
    "execution": {
     "iopub.execute_input": "2024-03-08T00:30:17.268839Z",
     "iopub.status.busy": "2024-03-08T00:30:17.268412Z",
     "iopub.status.idle": "2024-03-08T00:30:18.217555Z",
     "shell.execute_reply": "2024-03-08T00:30:18.216311Z"
    },
    "papermill": {
     "duration": 0.974919,
     "end_time": "2024-03-08T00:30:18.219897",
     "exception": false,
     "start_time": "2024-03-08T00:30:17.244978",
     "status": "completed"
    },
    "tags": []
   },
   "outputs": [],
   "source": [
    "#please don't run this cell on local device\n",
    "!rm -rf /kaggle/working/*"
   ]
  },
  {
   "cell_type": "code",
   "execution_count": 2,
   "id": "5fc3eafd",
   "metadata": {
    "_cell_guid": "b1076dfc-b9ad-4769-8c92-a6c4dae69d19",
    "_uuid": "8f2839f25d086af736a60e9eeb907d3b93b6e0e5",
    "execution": {
     "iopub.execute_input": "2024-03-08T00:30:18.265166Z",
     "iopub.status.busy": "2024-03-08T00:30:18.264860Z",
     "iopub.status.idle": "2024-03-08T00:30:23.930036Z",
     "shell.execute_reply": "2024-03-08T00:30:23.929093Z"
    },
    "papermill": {
     "duration": 5.689812,
     "end_time": "2024-03-08T00:30:23.932501",
     "exception": false,
     "start_time": "2024-03-08T00:30:18.242689",
     "status": "completed"
    },
    "tags": []
   },
   "outputs": [
    {
     "data": {
      "text/plain": [
       "device(type='cuda')"
      ]
     },
     "execution_count": 2,
     "metadata": {},
     "output_type": "execute_result"
    }
   ],
   "source": [
    "import os\n",
    "os.environ['CUDA_LAUNCH_BLOCKING'] = '1'\n",
    "os.environ['TORCH_USE_CUDA_DSA'] = '1'\n",
    "\n",
    "import torch\n",
    "import torch.nn as nn\n",
    "import torch.optim as optim\n",
    "import torch.nn.functional as F\n",
    "from torch.utils.data import DataLoader, TensorDataset\n",
    "from sklearn.model_selection import train_test_split\n",
    "from sklearn.metrics import accuracy_score\n",
    "import pandas as pd\n",
    "from tqdm.notebook import tqdm\n",
    "import re\n",
    "\n",
    "\n",
    "device = torch.device(\"cuda\" if torch.cuda.is_available() else \"cpu\")\n",
    "device"
   ]
  },
  {
   "cell_type": "markdown",
   "id": "dd169fa6",
   "metadata": {
    "papermill": {
     "duration": 0.021038,
     "end_time": "2024-03-08T00:30:23.979083",
     "exception": false,
     "start_time": "2024-03-08T00:30:23.958045",
     "status": "completed"
    },
    "tags": []
   },
   "source": [
    "# Preparing Dataset"
   ]
  },
  {
   "cell_type": "markdown",
   "id": "6e808019",
   "metadata": {
    "papermill": {
     "duration": 0.020952,
     "end_time": "2024-03-08T00:30:24.021285",
     "exception": false,
     "start_time": "2024-03-08T00:30:24.000333",
     "status": "completed"
    },
    "tags": []
   },
   "source": [
    "Using Amazon Books Reviews Dataset - [link](https://www.kaggle.com/datasets/mohamedbakhet/amazon-books-reviews)"
   ]
  },
  {
   "cell_type": "code",
   "execution_count": 3,
   "id": "4ed36604",
   "metadata": {
    "execution": {
     "iopub.execute_input": "2024-03-08T00:30:24.066601Z",
     "iopub.status.busy": "2024-03-08T00:30:24.065424Z",
     "iopub.status.idle": "2024-03-08T00:31:24.142819Z",
     "shell.execute_reply": "2024-03-08T00:31:24.141933Z"
    },
    "papermill": {
     "duration": 60.103014,
     "end_time": "2024-03-08T00:31:24.145289",
     "exception": false,
     "start_time": "2024-03-08T00:30:24.042275",
     "status": "completed"
    },
    "tags": []
   },
   "outputs": [],
   "source": [
    "reviews_file_path = '/kaggle/input/amazon-books-reviews/Books_rating.csv'\n",
    "books_details_file_path = '/kaggle/input/amazon-books-reviews/books_data.csv'\n",
    "\n",
    "# Load the reviews file\n",
    "reviews_df = pd.read_csv(reviews_file_path)\n",
    "\n",
    "# Load the Books Details file\n",
    "books_details_df = pd.read_csv(books_details_file_path)"
   ]
  },
  {
   "cell_type": "code",
   "execution_count": 4,
   "id": "41d22f56",
   "metadata": {
    "execution": {
     "iopub.execute_input": "2024-03-08T00:31:24.190312Z",
     "iopub.status.busy": "2024-03-08T00:31:24.189696Z",
     "iopub.status.idle": "2024-03-08T00:31:24.400991Z",
     "shell.execute_reply": "2024-03-08T00:31:24.399953Z"
    },
    "papermill": {
     "duration": 0.235913,
     "end_time": "2024-03-08T00:31:24.403565",
     "exception": false,
     "start_time": "2024-03-08T00:31:24.167652",
     "status": "completed"
    },
    "tags": []
   },
   "outputs": [
    {
     "name": "stdout",
     "output_type": "stream",
     "text": [
      "Reviews Dataset:\n",
      "<class 'pandas.core.frame.DataFrame'>\n",
      "RangeIndex: 3000000 entries, 0 to 2999999\n",
      "Data columns (total 10 columns):\n",
      " #   Column              Dtype  \n",
      "---  ------              -----  \n",
      " 0   Id                  object \n",
      " 1   Title               object \n",
      " 2   Price               float64\n",
      " 3   User_id             object \n",
      " 4   profileName         object \n",
      " 5   review/helpfulness  object \n",
      " 6   review/score        float64\n",
      " 7   review/time         int64  \n",
      " 8   review/summary      object \n",
      " 9   review/text         object \n",
      "dtypes: float64(2), int64(1), object(7)\n",
      "memory usage: 228.9+ MB\n",
      "None\n",
      "\n",
      "Books Details Dataset:\n",
      "<class 'pandas.core.frame.DataFrame'>\n",
      "RangeIndex: 212404 entries, 0 to 212403\n",
      "Data columns (total 10 columns):\n",
      " #   Column         Non-Null Count   Dtype  \n",
      "---  ------         --------------   -----  \n",
      " 0   Title          212403 non-null  object \n",
      " 1   description    143962 non-null  object \n",
      " 2   authors        180991 non-null  object \n",
      " 3   image          160329 non-null  object \n",
      " 4   previewLink    188568 non-null  object \n",
      " 5   publisher      136518 non-null  object \n",
      " 6   publishedDate  187099 non-null  object \n",
      " 7   infoLink       188568 non-null  object \n",
      " 8   categories     171205 non-null  object \n",
      " 9   ratingsCount   49752 non-null   float64\n",
      "dtypes: float64(1), object(9)\n",
      "memory usage: 16.2+ MB\n",
      "None\n"
     ]
    }
   ],
   "source": [
    "# Explore the reviews dataset\n",
    "print(\"Reviews Dataset:\")\n",
    "print(reviews_df.info())\n",
    "\n",
    "\n",
    "# Explore the Books Details dataset\n",
    "print(\"\\nBooks Details Dataset:\")\n",
    "print(books_details_df.info())\n",
    "\n"
   ]
  },
  {
   "cell_type": "code",
   "execution_count": 5,
   "id": "576c810e",
   "metadata": {
    "execution": {
     "iopub.execute_input": "2024-03-08T00:31:24.449695Z",
     "iopub.status.busy": "2024-03-08T00:31:24.449389Z",
     "iopub.status.idle": "2024-03-08T00:31:26.720799Z",
     "shell.execute_reply": "2024-03-08T00:31:26.719342Z"
    },
    "papermill": {
     "duration": 2.297012,
     "end_time": "2024-03-08T00:31:26.723049",
     "exception": false,
     "start_time": "2024-03-08T00:31:24.426037",
     "status": "completed"
    },
    "tags": []
   },
   "outputs": [
    {
     "name": "stdout",
     "output_type": "stream",
     "text": [
      "Reviews Missing Values:\n",
      "Id                          0\n",
      "Title                     208\n",
      "Price                 2518829\n",
      "User_id                561787\n",
      "profileName            561905\n",
      "review/helpfulness          0\n",
      "review/score                0\n",
      "review/time                 0\n",
      "review/summary            407\n",
      "review/text                 8\n",
      "dtype: int64\n",
      "\n",
      "Books Details Missing Values:\n",
      "Title                 1\n",
      "description       68442\n",
      "authors           31413\n",
      "image             52075\n",
      "previewLink       23836\n",
      "publisher         75886\n",
      "publishedDate     25305\n",
      "infoLink          23836\n",
      "categories        41199\n",
      "ratingsCount     162652\n",
      "dtype: int64\n"
     ]
    }
   ],
   "source": [
    "# Check for missing values in Reviews dataset\n",
    "reviews_missing = reviews_df.isnull().sum()\n",
    "\n",
    "# Check for missing values in Books Details dataset\n",
    "books_missing = books_details_df.isnull().sum()\n",
    "\n",
    "# Display missing values\n",
    "print(\"Reviews Missing Values:\")\n",
    "print(reviews_missing)\n",
    "\n",
    "print(\"\\nBooks Details Missing Values:\")\n",
    "print(books_missing)\n"
   ]
  },
  {
   "cell_type": "markdown",
   "id": "59cf6e4d",
   "metadata": {
    "papermill": {
     "duration": 0.021073,
     "end_time": "2024-03-08T00:31:26.767357",
     "exception": false,
     "start_time": "2024-03-08T00:31:26.746284",
     "status": "completed"
    },
    "tags": []
   },
   "source": [
    "## Dealing with Missing Values"
   ]
  },
  {
   "cell_type": "code",
   "execution_count": 6,
   "id": "7da913c7",
   "metadata": {
    "execution": {
     "iopub.execute_input": "2024-03-08T00:31:26.813109Z",
     "iopub.status.busy": "2024-03-08T00:31:26.812326Z",
     "iopub.status.idle": "2024-03-08T00:31:31.158333Z",
     "shell.execute_reply": "2024-03-08T00:31:31.157448Z"
    },
    "papermill": {
     "duration": 4.37065,
     "end_time": "2024-03-08T00:31:31.160803",
     "exception": false,
     "start_time": "2024-03-08T00:31:26.790153",
     "status": "completed"
    },
    "tags": []
   },
   "outputs": [
    {
     "name": "stdout",
     "output_type": "stream",
     "text": [
      "Reviews Missing Values After Handling:\n",
      "Id                    0\n",
      "Title                 0\n",
      "User_id               0\n",
      "review/helpfulness    0\n",
      "review/score          0\n",
      "review/time           0\n",
      "review/summary        0\n",
      "review/text           0\n",
      "dtype: int64\n"
     ]
    }
   ],
   "source": [
    "# Drop rows with missing 'Title' and 'User_id'\n",
    "reviews_df = reviews_df.dropna(subset=['Title', 'User_id'])\n",
    "\n",
    "# Drop 'profileName' column, we won't be using it\n",
    "reviews_df = reviews_df.drop(columns=['profileName'])\n",
    "\n",
    "# Drop 'Price' column, we won't be using it\n",
    "reviews_df = reviews_df.drop(columns=['Price'])\n",
    "\n",
    "# Fill missing values in 'review/summary' and 'review/text' with empty strings\n",
    "reviews_df['review/summary'] = reviews_df['review/summary'].fillna('')\n",
    "reviews_df['review/text'] = reviews_df['review/text'].fillna('')\n",
    "\n",
    "# Display updated information about missing values\n",
    "reviews_missing_values = reviews_df.isnull().sum()\n",
    "print(\"Reviews Missing Values After Handling:\")\n",
    "print(reviews_missing_values)\n"
   ]
  },
  {
   "cell_type": "code",
   "execution_count": 7,
   "id": "cf665ebd",
   "metadata": {
    "execution": {
     "iopub.execute_input": "2024-03-08T00:31:31.206104Z",
     "iopub.status.busy": "2024-03-08T00:31:31.205818Z",
     "iopub.status.idle": "2024-03-08T00:31:31.654489Z",
     "shell.execute_reply": "2024-03-08T00:31:31.653239Z"
    },
    "papermill": {
     "duration": 0.47391,
     "end_time": "2024-03-08T00:31:31.657428",
     "exception": false,
     "start_time": "2024-03-08T00:31:31.183518",
     "status": "completed"
    },
    "tags": []
   },
   "outputs": [
    {
     "name": "stdout",
     "output_type": "stream",
     "text": [
      "Books Details Missing Values After Handling:\n",
      "Title            0\n",
      "description      0\n",
      "authors          0\n",
      "publisher        0\n",
      "publishedDate    0\n",
      "categories       0\n",
      "ratingsCount     0\n",
      "dtype: int64\n"
     ]
    }
   ],
   "source": [
    "# Drop rows with missing 'Title'\n",
    "books_details_df = books_details_df.dropna(subset=['Title'])\n",
    "\n",
    "# Impute missing values in 'ratingsCount' with the median\n",
    "books_details_df['ratingsCount'] = books_details_df['ratingsCount'].fillna(books_details_df['ratingsCount'].median())\n",
    "\n",
    "# Fill missing values in textual columns with empty strings\n",
    "textual_columns = ['description', 'authors', 'publisher', 'publishedDate', 'categories']\n",
    "books_details_df[textual_columns] = books_details_df[textual_columns].fillna('')\n",
    "\n",
    "# Dropping columns we are not going to use\n",
    "columns_to_drop = ['image', 'previewLink', 'infoLink']\n",
    "books_details_df = books_details_df.drop(columns=columns_to_drop)\n",
    "\n",
    "# Display updated information about missing values\n",
    "books_details_missing_values = books_details_df.isnull().sum()\n",
    "print(\"Books Details Missing Values After Handling:\")\n",
    "print(books_details_missing_values)\n"
   ]
  },
  {
   "cell_type": "markdown",
   "id": "f2a8af75",
   "metadata": {
    "papermill": {
     "duration": 0.066379,
     "end_time": "2024-03-08T00:31:31.752725",
     "exception": false,
     "start_time": "2024-03-08T00:31:31.686346",
     "status": "completed"
    },
    "tags": []
   },
   "source": [
    "## Merging Datasets"
   ]
  },
  {
   "cell_type": "code",
   "execution_count": 8,
   "id": "f55bfe7f",
   "metadata": {
    "execution": {
     "iopub.execute_input": "2024-03-08T00:31:31.799327Z",
     "iopub.status.busy": "2024-03-08T00:31:31.798660Z",
     "iopub.status.idle": "2024-03-08T00:31:33.978242Z",
     "shell.execute_reply": "2024-03-08T00:31:33.977482Z"
    },
    "papermill": {
     "duration": 2.205959,
     "end_time": "2024-03-08T00:31:33.980569",
     "exception": false,
     "start_time": "2024-03-08T00:31:31.774610",
     "status": "completed"
    },
    "tags": []
   },
   "outputs": [],
   "source": [
    "\n",
    "#Merge DataFrame or named Series objects with a database-style join.\n",
    "#here i want to get all user id from left dataframe so, using left join\n",
    "merged_df = pd.merge(reviews_df, books_details_df, on='Title', how='left')"
   ]
  },
  {
   "cell_type": "code",
   "execution_count": 9,
   "id": "9788ec63",
   "metadata": {
    "execution": {
     "iopub.execute_input": "2024-03-08T00:31:34.025349Z",
     "iopub.status.busy": "2024-03-08T00:31:34.025088Z",
     "iopub.status.idle": "2024-03-08T00:31:36.598009Z",
     "shell.execute_reply": "2024-03-08T00:31:36.597026Z"
    },
    "papermill": {
     "duration": 2.598193,
     "end_time": "2024-03-08T00:31:36.600806",
     "exception": false,
     "start_time": "2024-03-08T00:31:34.002613",
     "status": "completed"
    },
    "tags": []
   },
   "outputs": [
    {
     "name": "stdout",
     "output_type": "stream",
     "text": [
      "Merged Dataframe Missing Values:\n",
      "Id                    0\n",
      "Title                 0\n",
      "User_id               0\n",
      "review/helpfulness    0\n",
      "review/score          0\n",
      "review/time           0\n",
      "review/summary        0\n",
      "review/text           0\n",
      "description           0\n",
      "authors               0\n",
      "publisher             0\n",
      "publishedDate         0\n",
      "categories            0\n",
      "ratingsCount          0\n",
      "dtype: int64\n"
     ]
    }
   ],
   "source": [
    "#analyzing merged dataframe\n",
    "merged_df_missing_values = merged_df.isnull().sum()\n",
    "print(\"Merged Dataframe Missing Values:\")\n",
    "print(merged_df_missing_values)"
   ]
  },
  {
   "cell_type": "code",
   "execution_count": 10,
   "id": "e6777075",
   "metadata": {
    "execution": {
     "iopub.execute_input": "2024-03-08T00:31:36.646157Z",
     "iopub.status.busy": "2024-03-08T00:31:36.645835Z",
     "iopub.status.idle": "2024-03-08T00:31:36.666243Z",
     "shell.execute_reply": "2024-03-08T00:31:36.665400Z"
    },
    "papermill": {
     "duration": 0.045198,
     "end_time": "2024-03-08T00:31:36.668224",
     "exception": false,
     "start_time": "2024-03-08T00:31:36.623026",
     "status": "completed"
    },
    "tags": []
   },
   "outputs": [
    {
     "data": {
      "text/html": [
       "<div>\n",
       "<style scoped>\n",
       "    .dataframe tbody tr th:only-of-type {\n",
       "        vertical-align: middle;\n",
       "    }\n",
       "\n",
       "    .dataframe tbody tr th {\n",
       "        vertical-align: top;\n",
       "    }\n",
       "\n",
       "    .dataframe thead th {\n",
       "        text-align: right;\n",
       "    }\n",
       "</style>\n",
       "<table border=\"1\" class=\"dataframe\">\n",
       "  <thead>\n",
       "    <tr style=\"text-align: right;\">\n",
       "      <th></th>\n",
       "      <th>Id</th>\n",
       "      <th>Title</th>\n",
       "      <th>User_id</th>\n",
       "      <th>review/helpfulness</th>\n",
       "      <th>review/score</th>\n",
       "      <th>review/time</th>\n",
       "      <th>review/summary</th>\n",
       "      <th>review/text</th>\n",
       "      <th>description</th>\n",
       "      <th>authors</th>\n",
       "      <th>publisher</th>\n",
       "      <th>publishedDate</th>\n",
       "      <th>categories</th>\n",
       "      <th>ratingsCount</th>\n",
       "    </tr>\n",
       "  </thead>\n",
       "  <tbody>\n",
       "    <tr>\n",
       "      <th>0</th>\n",
       "      <td>1882931173</td>\n",
       "      <td>Its Only Art If Its Well Hung!</td>\n",
       "      <td>AVCGYZL8FQQTD</td>\n",
       "      <td>7/7</td>\n",
       "      <td>4.0</td>\n",
       "      <td>940636800</td>\n",
       "      <td>Nice collection of Julie Strain images</td>\n",
       "      <td>This is only for Julie Strain fans. It's a col...</td>\n",
       "      <td></td>\n",
       "      <td>['Julie Strain']</td>\n",
       "      <td></td>\n",
       "      <td>1996</td>\n",
       "      <td>['Comics &amp; Graphic Novels']</td>\n",
       "      <td>2.0</td>\n",
       "    </tr>\n",
       "    <tr>\n",
       "      <th>1</th>\n",
       "      <td>0826414346</td>\n",
       "      <td>Dr. Seuss: American Icon</td>\n",
       "      <td>A30TK6U7DNS82R</td>\n",
       "      <td>10/10</td>\n",
       "      <td>5.0</td>\n",
       "      <td>1095724800</td>\n",
       "      <td>Really Enjoyed It</td>\n",
       "      <td>I don't care much for Dr. Seuss but after read...</td>\n",
       "      <td>Philip Nel takes a fascinating look into the k...</td>\n",
       "      <td>['Philip Nel']</td>\n",
       "      <td>A&amp;C Black</td>\n",
       "      <td>2005-01-01</td>\n",
       "      <td>['Biography &amp; Autobiography']</td>\n",
       "      <td>2.0</td>\n",
       "    </tr>\n",
       "    <tr>\n",
       "      <th>2</th>\n",
       "      <td>0826414346</td>\n",
       "      <td>Dr. Seuss: American Icon</td>\n",
       "      <td>A3UH4UZ4RSVO82</td>\n",
       "      <td>10/11</td>\n",
       "      <td>5.0</td>\n",
       "      <td>1078790400</td>\n",
       "      <td>Essential for every personal and Public Library</td>\n",
       "      <td>If people become the books they read and if \"t...</td>\n",
       "      <td>Philip Nel takes a fascinating look into the k...</td>\n",
       "      <td>['Philip Nel']</td>\n",
       "      <td>A&amp;C Black</td>\n",
       "      <td>2005-01-01</td>\n",
       "      <td>['Biography &amp; Autobiography']</td>\n",
       "      <td>2.0</td>\n",
       "    </tr>\n",
       "    <tr>\n",
       "      <th>3</th>\n",
       "      <td>0826414346</td>\n",
       "      <td>Dr. Seuss: American Icon</td>\n",
       "      <td>A2MVUWT453QH61</td>\n",
       "      <td>7/7</td>\n",
       "      <td>4.0</td>\n",
       "      <td>1090713600</td>\n",
       "      <td>Phlip Nel gives silly Seuss a serious treatment</td>\n",
       "      <td>Theodore Seuss Geisel (1904-1991), aka &amp;quot;D...</td>\n",
       "      <td>Philip Nel takes a fascinating look into the k...</td>\n",
       "      <td>['Philip Nel']</td>\n",
       "      <td>A&amp;C Black</td>\n",
       "      <td>2005-01-01</td>\n",
       "      <td>['Biography &amp; Autobiography']</td>\n",
       "      <td>2.0</td>\n",
       "    </tr>\n",
       "    <tr>\n",
       "      <th>4</th>\n",
       "      <td>0826414346</td>\n",
       "      <td>Dr. Seuss: American Icon</td>\n",
       "      <td>A22X4XUPKF66MR</td>\n",
       "      <td>3/3</td>\n",
       "      <td>4.0</td>\n",
       "      <td>1107993600</td>\n",
       "      <td>Good academic overview</td>\n",
       "      <td>Philip Nel - Dr. Seuss: American IconThis is b...</td>\n",
       "      <td>Philip Nel takes a fascinating look into the k...</td>\n",
       "      <td>['Philip Nel']</td>\n",
       "      <td>A&amp;C Black</td>\n",
       "      <td>2005-01-01</td>\n",
       "      <td>['Biography &amp; Autobiography']</td>\n",
       "      <td>2.0</td>\n",
       "    </tr>\n",
       "  </tbody>\n",
       "</table>\n",
       "</div>"
      ],
      "text/plain": [
       "           Id                           Title         User_id  \\\n",
       "0  1882931173  Its Only Art If Its Well Hung!   AVCGYZL8FQQTD   \n",
       "1  0826414346        Dr. Seuss: American Icon  A30TK6U7DNS82R   \n",
       "2  0826414346        Dr. Seuss: American Icon  A3UH4UZ4RSVO82   \n",
       "3  0826414346        Dr. Seuss: American Icon  A2MVUWT453QH61   \n",
       "4  0826414346        Dr. Seuss: American Icon  A22X4XUPKF66MR   \n",
       "\n",
       "  review/helpfulness  review/score  review/time  \\\n",
       "0                7/7           4.0    940636800   \n",
       "1              10/10           5.0   1095724800   \n",
       "2              10/11           5.0   1078790400   \n",
       "3                7/7           4.0   1090713600   \n",
       "4                3/3           4.0   1107993600   \n",
       "\n",
       "                                    review/summary  \\\n",
       "0           Nice collection of Julie Strain images   \n",
       "1                                Really Enjoyed It   \n",
       "2  Essential for every personal and Public Library   \n",
       "3  Phlip Nel gives silly Seuss a serious treatment   \n",
       "4                           Good academic overview   \n",
       "\n",
       "                                         review/text  \\\n",
       "0  This is only for Julie Strain fans. It's a col...   \n",
       "1  I don't care much for Dr. Seuss but after read...   \n",
       "2  If people become the books they read and if \"t...   \n",
       "3  Theodore Seuss Geisel (1904-1991), aka &quot;D...   \n",
       "4  Philip Nel - Dr. Seuss: American IconThis is b...   \n",
       "\n",
       "                                         description           authors  \\\n",
       "0                                                     ['Julie Strain']   \n",
       "1  Philip Nel takes a fascinating look into the k...    ['Philip Nel']   \n",
       "2  Philip Nel takes a fascinating look into the k...    ['Philip Nel']   \n",
       "3  Philip Nel takes a fascinating look into the k...    ['Philip Nel']   \n",
       "4  Philip Nel takes a fascinating look into the k...    ['Philip Nel']   \n",
       "\n",
       "   publisher publishedDate                     categories  ratingsCount  \n",
       "0                     1996    ['Comics & Graphic Novels']           2.0  \n",
       "1  A&C Black    2005-01-01  ['Biography & Autobiography']           2.0  \n",
       "2  A&C Black    2005-01-01  ['Biography & Autobiography']           2.0  \n",
       "3  A&C Black    2005-01-01  ['Biography & Autobiography']           2.0  \n",
       "4  A&C Black    2005-01-01  ['Biography & Autobiography']           2.0  "
      ]
     },
     "execution_count": 10,
     "metadata": {},
     "output_type": "execute_result"
    }
   ],
   "source": [
    "merged_df.head()"
   ]
  },
  {
   "cell_type": "markdown",
   "id": "ab5563f6",
   "metadata": {
    "papermill": {
     "duration": 0.021762,
     "end_time": "2024-03-08T00:31:36.711914",
     "exception": false,
     "start_time": "2024-03-08T00:31:36.690152",
     "status": "completed"
    },
    "tags": []
   },
   "source": [
    "# Importing Sentiment Analysis Model\n",
    "Trained in previous notebook- [kaggle notebook](https://www.kaggle.com/code/anshkgoyal/sentiment-analysis-model/edit)"
   ]
  },
  {
   "cell_type": "code",
   "execution_count": 11,
   "id": "7e477cf0",
   "metadata": {
    "execution": {
     "iopub.execute_input": "2024-03-08T00:31:36.757494Z",
     "iopub.status.busy": "2024-03-08T00:31:36.757099Z",
     "iopub.status.idle": "2024-03-08T00:31:36.978324Z",
     "shell.execute_reply": "2024-03-08T00:31:36.977474Z"
    },
    "papermill": {
     "duration": 0.246201,
     "end_time": "2024-03-08T00:31:36.980416",
     "exception": false,
     "start_time": "2024-03-08T00:31:36.734215",
     "status": "completed"
    },
    "tags": []
   },
   "outputs": [
    {
     "data": {
      "text/plain": [
       "SentimentModel(\n",
       "  (sequential): Sequential(\n",
       "    (0): Linear(in_features=12000, out_features=32, bias=True)\n",
       "    (1): ReLU()\n",
       "    (2): Dropout(p=0.4, inplace=False)\n",
       "    (3): Linear(in_features=32, out_features=64, bias=True)\n",
       "    (4): ReLU()\n",
       "    (5): Dropout(p=0.4, inplace=False)\n",
       "    (6): Linear(in_features=64, out_features=128, bias=True)\n",
       "    (7): ReLU()\n",
       "    (8): Dropout(p=0.4, inplace=False)\n",
       "    (9): Linear(in_features=128, out_features=256, bias=True)\n",
       "    (10): ReLU()\n",
       "    (11): Dropout(p=0.4, inplace=False)\n",
       "    (12): Linear(in_features=256, out_features=1, bias=True)\n",
       "    (13): Sigmoid()\n",
       "  )\n",
       ")"
      ]
     },
     "execution_count": 11,
     "metadata": {},
     "output_type": "execute_result"
    }
   ],
   "source": [
    "model_path = '/kaggle/input/sentiment-model/sentiment_model.pth'\n",
    "\n",
    "class SentimentModel(nn.Module):\n",
    "    def __init__(self, input_size, hidden_size=32,dropout_rate=0.4):\n",
    "        super().__init__()\n",
    "        self.sequential = nn.Sequential(\n",
    "            nn.Linear(input_size, hidden_size),\n",
    "            nn.ReLU(),\n",
    "            nn.Dropout(dropout_rate), #Dropout is a regularization technique commonly used in neural networks during training to prevent overfitting\n",
    "            nn.Linear(hidden_size, hidden_size*2), #  linear layer (y=mx+c)\n",
    "            nn.ReLU(), # max(0,x) , basically adds non-linearity\n",
    "            nn.Dropout(dropout_rate),\n",
    "            nn.Linear(hidden_size*2, hidden_size*4),\n",
    "            nn.ReLU(),\n",
    "            nn.Dropout(dropout_rate),\n",
    "            nn.Linear(hidden_size*4, hidden_size*8),\n",
    "            nn.ReLU(),\n",
    "            nn.Dropout(dropout_rate),\n",
    "            nn.Linear(hidden_size*8, 1),\n",
    "            nn.Sigmoid()\n",
    "        )\n",
    "\n",
    "    def forward(self, x):\n",
    "        return self.sequential(x)\n",
    "\n",
    "\n",
    "# Load the entire model\n",
    "sentiment_model=torch.load(model_path)\n",
    "sentiment_model.to(device)"
   ]
  },
  {
   "cell_type": "markdown",
   "id": "ad7deb05",
   "metadata": {
    "papermill": {
     "duration": 0.022006,
     "end_time": "2024-03-08T00:31:37.025466",
     "exception": false,
     "start_time": "2024-03-08T00:31:37.003460",
     "status": "completed"
    },
    "tags": []
   },
   "source": [
    "## Preprocessing Text\n",
    "Processing sentiment analysis in batches using PyTorch's DataLoader, the code assigns sentiment scores to a DataFrame (merged_df) by making predictions based on the 'review/text' column. Each batch of text is preprocessed, tokenized, and converted into a dense tensor for inference, and the resulting sentiment scores are added to the corresponding rows in the DataFrame."
   ]
  },
  {
   "cell_type": "markdown",
   "id": "899c48a4",
   "metadata": {
    "papermill": {
     "duration": 0.02203,
     "end_time": "2024-03-08T00:31:37.069501",
     "exception": false,
     "start_time": "2024-03-08T00:31:37.047471",
     "status": "completed"
    },
    "tags": []
   },
   "source": [
    "\n",
    ">Countvectorizer stores vocabulary(basically list of words) as a sparse matrix which only stores non-zero elements along with their positions(index value)\n",
    ">\n",
    ">When a sparse matrix is converted to a dense matrix (ND array), it becomes memory intensive because all the zero values in the sparse matrix, which were not stored due to their sparsity, need to be explicitly represented in the dense matrix.\n",
    ">\n",
    ">In a sparse matrix, only the non-zero elements are stored along with their positions. So, if you have a large matrix where most of the elements are zero, a sparse matrix representation will save a lot of memory. But when you convert this sparse matrix to a dense matrix, you need to allocate memory for all elements of the matrix, including the zeros. This leads to a significant increase in memory usage\n",
    ">\n",
    ">sparse matrices can be considered as a form of Embeddings, particularly in the context of representing high-dimensional and sparse data.Embeddings make it easier to do machine learning on large inputs like sparse vectors representing words. Ideally, an embedding captures some of the semantics of the input by placing semantically similar inputs close together in the embedding space. An embedding can be learned and reused across models.\n",
    "\n",
    "Sparse Matrices Example:\n",
    "\n",
    ">(0, 0) -> 1\n",
    ">\n",
    ">(0, 2) -> 2\n",
    ">\n",
    ">(0, 4) -> 1\n",
    ">\n",
    ">(1, 1) -> 1\n",
    ">\n",
    ">(1, 3) -> 1\n",
    ">\n",
    ">(2, 0) -> 1\n",
    ">\n",
    ">(2, 1) -> 1\n",
    "\n",
    "Dense Matrices Example:\n",
    "\n",
    "|      | \"cat\" | \"dog\" | \"apple\" | \"banana\" | \"orange\" |\n",
    "|------|-------|-------|---------|----------|----------|\n",
    "| Doc1 |   1   |   0   |    2    |    0     |    1     |\n",
    "| Doc2 |   0   |   1   |    0    |    1     |    0     |\n",
    "| Doc3 |   1   |   1   |    0    |    0     |    0     |\n",
    "\n"
   ]
  },
  {
   "cell_type": "markdown",
   "id": "39284a29",
   "metadata": {
    "papermill": {
     "duration": 0.021781,
     "end_time": "2024-03-08T00:31:37.113159",
     "exception": false,
     "start_time": "2024-03-08T00:31:37.091378",
     "status": "completed"
    },
    "tags": []
   },
   "source": [
    "The basic dataset class in PyTorch is often used for handling custom datasets. It requires you to override the `__len__` and `__getitem__` methods. This class is suitable for scenarios where your data can be loaded on-the-fly or is not stored in memory as tensors.\n",
    "\n",
    "- `__init__`: Initializes the dataset with the texts to be analyzed, the vectorizer used to convert text into numerical vectors, the sentiment model used for scoring, and the device on which computations should be performed.\n",
    "- `__len__`: Returns the number of texts in the dataset.\n",
    "- `__getitem__`: Retrieves a particular item from the dataset. This function also performs preprocessing on the text, including converting to lowercase, removing HTML line breaks, removing special characters, tokenizing the text, removing non-alphabetic tokens, and removing English stopwords. The processed text is then transformed into a numerical vector using the provided vectorizer and passed through the sentiment model to generate a sentiment score. The score is returned as a PyTorch tensor and moved to the specified device.\n",
    "\n",
    "When you convert a sparse matrix to a dense tensor using torch.tensor(vectorized_text.toarray(), dtype=torch.float32), you are indeed creating a dense representation of the data. In theory, increasing the batch size would lead to more data being loaded into memory, potentially increasing memory consumption. However, PyTorch has optimizations to handle this more efficiently.\n",
    "\n",
    "PyTorch's memory management is designed to optimize GPU usage, and it often performs operations in-place or uses memory pooling to minimize unnecessary memory allocations. When you use the DataLoader to load batches, PyTorch handles the memory allocation and deallocation efficiently."
   ]
  },
  {
   "cell_type": "code",
   "execution_count": 12,
   "id": "a3107a99",
   "metadata": {
    "execution": {
     "iopub.execute_input": "2024-03-08T00:31:37.158652Z",
     "iopub.status.busy": "2024-03-08T00:31:37.158345Z",
     "iopub.status.idle": "2024-03-08T01:25:57.651292Z",
     "shell.execute_reply": "2024-03-08T01:25:57.650258Z"
    },
    "papermill": {
     "duration": 3260.518217,
     "end_time": "2024-03-08T01:25:57.653329",
     "exception": false,
     "start_time": "2024-03-08T00:31:37.135112",
     "status": "completed"
    },
    "tags": []
   },
   "outputs": [
    {
     "data": {
      "application/vnd.jupyter.widget-view+json": {
       "model_id": "e24484ed1092443a8a0845cb17f395d4",
       "version_major": 2,
       "version_minor": 0
      },
      "text/plain": [
       "Processing Reviews:   0%|          | 0/244 [00:00<?, ?it/s]"
      ]
     },
     "metadata": {},
     "output_type": "display_data"
    }
   ],
   "source": [
    "from torchtext.data.utils import get_tokenizer\n",
    "from nltk.corpus import stopwords\n",
    "from sklearn.feature_extraction.text import CountVectorizer\n",
    "import joblib\n",
    "import re\n",
    "\n",
    "class SentimentAnalysisDataset(torch.utils.data.Dataset):  \n",
    "    def __init__(self, texts, vectorizer, sentiment_model, device):\n",
    "        \"\"\"\n",
    "        A dataset for sentiment analysis.\n",
    "\n",
    "        Args:\n",
    "            texts (list): List of text reviews.\n",
    "            vectorizer: The vectorizer used during training.\n",
    "            sentiment_model: The trained sentiment analysis model.\n",
    "            device: The device (CPU/GPU) to which the tensor should be sent.\n",
    "        \"\"\"\n",
    "        self.texts = texts\n",
    "        self.vectorizer = vectorizer\n",
    "        self.sentiment_model = sentiment_model\n",
    "        self.device = device\n",
    "\n",
    "    def __len__(self):\n",
    "        \"\"\"\n",
    "        Returns the total number of samples in the dataset.\n",
    "\n",
    "        Returns:\n",
    "            int: The number of samples in the dataset.\n",
    "        \"\"\"\n",
    "        return len(self.texts)\n",
    "\n",
    "    def __getitem__(self, idx):\n",
    "        \"\"\"\n",
    "        Retrieves and processes a single sample from the dataset.\n",
    "\n",
    "        Args:\n",
    "            idx (int): Index of the sample to retrieve.\n",
    "\n",
    "        Returns:\n",
    "            torch.Tensor: The sentiment score for the input text.\n",
    "        \"\"\"\n",
    "        text = self.texts[idx]\n",
    "        text = text.lower() # Convert to lowercase\n",
    "        text = re.sub(r'<br\\s*/*\\s*><br\\s*/*\\s*>', '', text) \n",
    "        text = re.sub(r\"[^a-zA-Z0-9]\", \" \", text) # Remove special characters\n",
    "        tokenizer = get_tokenizer(\"basic_english\")\n",
    "        tokens = tokenizer(text) # Tokenization\n",
    "        tokens = [word for word in tokens if word.isalpha()] # Remove non-alphabetic tokens\n",
    "        stop_words = set(stopwords.words(\"english\")) - {'not'}\n",
    "        tokens = [word for word in tokens if word not in stop_words] # Remove stopwords\n",
    "\n",
    "        # Use the same vectorizer used during training\n",
    "        vectorized_text = self.vectorizer.transform([\" \".join(tokens)])\n",
    "        tensor = torch.tensor(vectorized_text.toarray(), dtype=torch.float32)\n",
    "        tensor = tensor.to(self.device)\n",
    "\n",
    "        with torch.inference_mode():\n",
    "            score = self.sentiment_model(tensor)\n",
    "        return score\n",
    "\n",
    "# Load the vectorizer\n",
    "vectorizer = joblib.load('/kaggle/input/sentiment-analysis-vectorizer/vectorizer.pkl')\n",
    "\n",
    "# Batch size for processing\n",
    "batch_size = 10000\n",
    "\n",
    "dataset = SentimentAnalysisDataset(merged_df[\"review/text\"], vectorizer, sentiment_model, device)\n",
    "loader = torch.utils.data.DataLoader(dataset, batch_size=batch_size)\n",
    "\n",
    "if 'sentiment_score' not in merged_df.columns:\n",
    "    merged_df['sentiment_score'] = None\n",
    "\n",
    "# __getitem__ is automatically(implicitely) called when using for loops\n",
    "for i, scores in tqdm(enumerate(loader), total=len(loader), desc=\"Processing Reviews\"):\n",
    "    start = i * batch_size\n",
    "    for j, score in enumerate(scores):\n",
    "        score = score.item()\n",
    "        merged_df.at[start+j, 'sentiment_score'] = score\n"
   ]
  },
  {
   "cell_type": "code",
   "execution_count": 13,
   "id": "a14a8e2e",
   "metadata": {
    "execution": {
     "iopub.execute_input": "2024-03-08T01:25:57.703119Z",
     "iopub.status.busy": "2024-03-08T01:25:57.702121Z",
     "iopub.status.idle": "2024-03-08T01:25:57.711426Z",
     "shell.execute_reply": "2024-03-08T01:25:57.710573Z"
    },
    "papermill": {
     "duration": 0.035435,
     "end_time": "2024-03-08T01:25:57.713333",
     "exception": false,
     "start_time": "2024-03-08T01:25:57.677898",
     "status": "completed"
    },
    "tags": []
   },
   "outputs": [
    {
     "data": {
      "text/plain": [
       "'\\n#class SentimentAnalysisDataset method is much better which is using dataloader instead of generator\\n#so i will comment this previous method\\n\\nfrom torchtext.data.utils import get_tokenizer\\nfrom nltk.corpus import stopwords\\nfrom sklearn.feature_extraction.text import CountVectorizer\\nimport joblib\\nimport re\\n\\n\\n\\ndef preprocess_and_predict(texts, vectorizer, sentiment_model, device):\\n    for text in texts:\\n        text = text.lower() # Convert to lowercase\\n        text = re.sub(r\\'<br\\\\s*/*\\\\s*><br\\\\s*/*\\\\s*>\\', \\'\\', text) \\n        text = re.sub(r\"[^a-zA-Z0-9]\", \" \", text) # Remove special characters\\n        tokenizer = get_tokenizer(\"basic_english\")\\n        tokens = tokenizer(text) # Tokenization\\n        tokens = [word for word in tokens if word.isalpha()] # Remove non-alphabetic tokens\\n        stop_words = set(stopwords.words(\"english\")) - {\\'not\\'}\\n        tokens = [word for word in tokens if word not in stop_words] # Remove stopwords\\n\\n        # Use the same vectorizer used during training\\n        vectorized_text = vectorizer.transform([\" \".join(tokens)])\\n        tensor = torch.tensor(vectorized_text.toarray(), dtype=torch.float32)\\n        tensor = tensor.to(device)\\n\\n        with torch.inference_mode():\\n            score = sentiment_model(tensor)\\n         #return immediately exits the function and returns a value, yield produces a value and pauses \\n        #the function, saving all its states. The function can be resumed later on from where it left \\n        #off, allowing it to produce a series of values over time, instead of computing them at once and \\n        #sending them back like a list\\n        yield score.item()\\n\\n# Load the vectorizer\\nvectorizer = joblib.load(\\'/kaggle/input/sentiment-analysis-vectorizer/vectorizer.pkl\\')\\n\\n# Batch size for processing\\nbatch_size = 1000\\n\\n\\nfor i in tqdm(range(0, len(merged_df), batch_size), desc=\"Processing Reviews\"):\\n    batch_texts = merged_df[\"review/text\"].iloc[i:i + batch_size].tolist()\\n    scores_generator = preprocess_and_predict(batch_texts, vectorizer, sentiment_model, device)\\n    for j, score in enumerate(scores_generator):\\n        merged_df.at[i+j, \\'sentiment_score\\'] = score'"
      ]
     },
     "execution_count": 13,
     "metadata": {},
     "output_type": "execute_result"
    }
   ],
   "source": [
    "'''\n",
    "#class SentimentAnalysisDataset method is much better which is using dataloader instead of generator\n",
    "#so i will comment this previous method\n",
    "\n",
    "from torchtext.data.utils import get_tokenizer\n",
    "from nltk.corpus import stopwords\n",
    "from sklearn.feature_extraction.text import CountVectorizer\n",
    "import joblib\n",
    "import re\n",
    "\n",
    "\n",
    "\n",
    "def preprocess_and_predict(texts, vectorizer, sentiment_model, device):\n",
    "    for text in texts:\n",
    "        text = text.lower() # Convert to lowercase\n",
    "        text = re.sub(r'<br\\s*/*\\s*><br\\s*/*\\s*>', '', text) \n",
    "        text = re.sub(r\"[^a-zA-Z0-9]\", \" \", text) # Remove special characters\n",
    "        tokenizer = get_tokenizer(\"basic_english\")\n",
    "        tokens = tokenizer(text) # Tokenization\n",
    "        tokens = [word for word in tokens if word.isalpha()] # Remove non-alphabetic tokens\n",
    "        stop_words = set(stopwords.words(\"english\")) - {'not'}\n",
    "        tokens = [word for word in tokens if word not in stop_words] # Remove stopwords\n",
    "\n",
    "        # Use the same vectorizer used during training\n",
    "        vectorized_text = vectorizer.transform([\" \".join(tokens)])\n",
    "        tensor = torch.tensor(vectorized_text.toarray(), dtype=torch.float32)\n",
    "        tensor = tensor.to(device)\n",
    "\n",
    "        with torch.inference_mode():\n",
    "            score = sentiment_model(tensor)\n",
    "         #return immediately exits the function and returns a value, yield produces a value and pauses \n",
    "        #the function, saving all its states. The function can be resumed later on from where it left \n",
    "        #off, allowing it to produce a series of values over time, instead of computing them at once and \n",
    "        #sending them back like a list\n",
    "        yield score.item()\n",
    "\n",
    "# Load the vectorizer\n",
    "vectorizer = joblib.load('/kaggle/input/sentiment-analysis-vectorizer/vectorizer.pkl')\n",
    "\n",
    "# Batch size for processing\n",
    "batch_size = 1000\n",
    "\n",
    "\n",
    "for i in tqdm(range(0, len(merged_df), batch_size), desc=\"Processing Reviews\"):\n",
    "    batch_texts = merged_df[\"review/text\"].iloc[i:i + batch_size].tolist()\n",
    "    scores_generator = preprocess_and_predict(batch_texts, vectorizer, sentiment_model, device)\n",
    "    for j, score in enumerate(scores_generator):\n",
    "        merged_df.at[i+j, 'sentiment_score'] = score'''\n"
   ]
  },
  {
   "cell_type": "markdown",
   "id": "b49cef71",
   "metadata": {
    "papermill": {
     "duration": 0.024177,
     "end_time": "2024-03-08T01:25:57.761422",
     "exception": false,
     "start_time": "2024-03-08T01:25:57.737245",
     "status": "completed"
    },
    "tags": []
   },
   "source": [
    "## Saving The Merged Dataframe\n",
    "after processing reviews and assigning sentiment_score(as a new column or feature) to each review using sentiment analysis model, now will be saving the current dataframe"
   ]
  },
  {
   "cell_type": "code",
   "execution_count": 14,
   "id": "17da1aaf",
   "metadata": {
    "execution": {
     "iopub.execute_input": "2024-03-08T01:25:57.810594Z",
     "iopub.status.busy": "2024-03-08T01:25:57.809981Z",
     "iopub.status.idle": "2024-03-08T01:28:56.463051Z",
     "shell.execute_reply": "2024-03-08T01:28:56.462052Z"
    },
    "papermill": {
     "duration": 178.680206,
     "end_time": "2024-03-08T01:28:56.465397",
     "exception": false,
     "start_time": "2024-03-08T01:25:57.785191",
     "status": "completed"
    },
    "tags": []
   },
   "outputs": [],
   "source": [
    "# Convert numerical sentiment scores to binary labels\n",
    "merged_df['sentiment_label'] = (merged_df['sentiment_score'] >= 0.5).astype(int)\n",
    "# Save the updated dataframe with sentiment labels\n",
    "#When index is set to False, it means that the index column will not be included in the saved CSV file.\n",
    "merged_df.to_csv('merged_dataframe_with_sentiment_labels.csv', index=False)\n"
   ]
  },
  {
   "cell_type": "markdown",
   "id": "28c108e4",
   "metadata": {
    "papermill": {
     "duration": 0.022719,
     "end_time": "2024-03-08T01:28:56.511627",
     "exception": false,
     "start_time": "2024-03-08T01:28:56.488908",
     "status": "completed"
    },
    "tags": []
   },
   "source": [
    "## Retrieving the Merged Dataframe"
   ]
  },
  {
   "cell_type": "code",
   "execution_count": 15,
   "id": "f81facd5",
   "metadata": {
    "execution": {
     "iopub.execute_input": "2024-03-08T01:28:56.558586Z",
     "iopub.status.busy": "2024-03-08T01:28:56.558208Z",
     "iopub.status.idle": "2024-03-08T01:30:19.738994Z",
     "shell.execute_reply": "2024-03-08T01:30:19.738160Z"
    },
    "papermill": {
     "duration": 83.207137,
     "end_time": "2024-03-08T01:30:19.741300",
     "exception": false,
     "start_time": "2024-03-08T01:28:56.534163",
     "status": "completed"
    },
    "tags": []
   },
   "outputs": [],
   "source": [
    "merged_dataframe_pth=\"/kaggle/input/merged-dataframe/merged_dataframe_with_sentiment_labels.csv\"\n",
    "merged_df= pd.read_csv(merged_dataframe_pth)\n",
    "merged_df=merged_df.fillna('')  "
   ]
  },
  {
   "cell_type": "code",
   "execution_count": 16,
   "id": "bc25d0d0",
   "metadata": {
    "execution": {
     "iopub.execute_input": "2024-03-08T01:30:19.789070Z",
     "iopub.status.busy": "2024-03-08T01:30:19.788758Z",
     "iopub.status.idle": "2024-03-08T01:30:19.866523Z",
     "shell.execute_reply": "2024-03-08T01:30:19.865565Z"
    },
    "papermill": {
     "duration": 0.103916,
     "end_time": "2024-03-08T01:30:19.868622",
     "exception": false,
     "start_time": "2024-03-08T01:30:19.764706",
     "status": "completed"
    },
    "tags": []
   },
   "outputs": [
    {
     "data": {
      "text/html": [
       "<div>\n",
       "<style scoped>\n",
       "    .dataframe tbody tr th:only-of-type {\n",
       "        vertical-align: middle;\n",
       "    }\n",
       "\n",
       "    .dataframe tbody tr th {\n",
       "        vertical-align: top;\n",
       "    }\n",
       "\n",
       "    .dataframe thead th {\n",
       "        text-align: right;\n",
       "    }\n",
       "</style>\n",
       "<table border=\"1\" class=\"dataframe\">\n",
       "  <thead>\n",
       "    <tr style=\"text-align: right;\">\n",
       "      <th></th>\n",
       "      <th>sentiment_score</th>\n",
       "      <th>review/text</th>\n",
       "      <th>sentiment_label</th>\n",
       "    </tr>\n",
       "  </thead>\n",
       "  <tbody>\n",
       "    <tr>\n",
       "      <th>0</th>\n",
       "      <td>0.373340</td>\n",
       "      <td>This is only for Julie Strain fans. It's a col...</td>\n",
       "      <td>0</td>\n",
       "    </tr>\n",
       "    <tr>\n",
       "      <th>1</th>\n",
       "      <td>0.895577</td>\n",
       "      <td>I don't care much for Dr. Seuss but after read...</td>\n",
       "      <td>1</td>\n",
       "    </tr>\n",
       "    <tr>\n",
       "      <th>2</th>\n",
       "      <td>0.989574</td>\n",
       "      <td>If people become the books they read and if \"t...</td>\n",
       "      <td>1</td>\n",
       "    </tr>\n",
       "    <tr>\n",
       "      <th>3</th>\n",
       "      <td>0.851607</td>\n",
       "      <td>Theodore Seuss Geisel (1904-1991), aka &amp;quot;D...</td>\n",
       "      <td>1</td>\n",
       "    </tr>\n",
       "    <tr>\n",
       "      <th>4</th>\n",
       "      <td>0.790474</td>\n",
       "      <td>Philip Nel - Dr. Seuss: American IconThis is b...</td>\n",
       "      <td>1</td>\n",
       "    </tr>\n",
       "  </tbody>\n",
       "</table>\n",
       "</div>"
      ],
      "text/plain": [
       "   sentiment_score                                        review/text  \\\n",
       "0         0.373340  This is only for Julie Strain fans. It's a col...   \n",
       "1         0.895577  I don't care much for Dr. Seuss but after read...   \n",
       "2         0.989574  If people become the books they read and if \"t...   \n",
       "3         0.851607  Theodore Seuss Geisel (1904-1991), aka &quot;D...   \n",
       "4         0.790474  Philip Nel - Dr. Seuss: American IconThis is b...   \n",
       "\n",
       "   sentiment_label  \n",
       "0                0  \n",
       "1                1  \n",
       "2                1  \n",
       "3                1  \n",
       "4                1  "
      ]
     },
     "execution_count": 16,
     "metadata": {},
     "output_type": "execute_result"
    }
   ],
   "source": [
    "merged_df[['sentiment_score','review/text','sentiment_label']][:5]\n",
    "#print(merged_df['review/text'].loc[0])"
   ]
  },
  {
   "cell_type": "code",
   "execution_count": 17,
   "id": "7ca375e0",
   "metadata": {
    "execution": {
     "iopub.execute_input": "2024-03-08T01:30:19.916506Z",
     "iopub.status.busy": "2024-03-08T01:30:19.916176Z",
     "iopub.status.idle": "2024-03-08T01:30:19.921997Z",
     "shell.execute_reply": "2024-03-08T01:30:19.921223Z"
    },
    "papermill": {
     "duration": 0.032128,
     "end_time": "2024-03-08T01:30:19.924045",
     "exception": false,
     "start_time": "2024-03-08T01:30:19.891917",
     "status": "completed"
    },
    "tags": []
   },
   "outputs": [
    {
     "data": {
      "text/plain": [
       "Index(['Id', 'Title', 'User_id', 'review/helpfulness', 'review/score',\n",
       "       'review/time', 'review/summary', 'review/text', 'description',\n",
       "       'authors', 'publisher', 'publishedDate', 'categories', 'ratingsCount',\n",
       "       'sentiment_score', 'sentiment_label'],\n",
       "      dtype='object')"
      ]
     },
     "execution_count": 17,
     "metadata": {},
     "output_type": "execute_result"
    }
   ],
   "source": [
    "merged_df.columns"
   ]
  },
  {
   "cell_type": "markdown",
   "id": "88e14de4",
   "metadata": {
    "papermill": {
     "duration": 0.022844,
     "end_time": "2024-03-08T01:30:19.969860",
     "exception": false,
     "start_time": "2024-03-08T01:30:19.947016",
     "status": "completed"
    },
    "tags": []
   },
   "source": [
    "# Recommendation System\n",
    "\n",
    ">1. Collaborative Filtering:\n",
    "\n",
    ">   Collaborative filtering recommends items based on the preferences of users or similar users. There are two main types of collaborative filtering: [more detail-(developers.google)](https://developers.google.com/machine-learning/recommendation/collaborative/basics)\n",
    "\n",
    ">- User-Based Collaborative Filtering:\n",
    "    - Idea: Recommends items based on the preferences and behaviors of users who are similar to the target user.\n",
    "    - Process: It identifies users who have similar preferences to the target user and recommends items that those similar users have liked.\n",
    "    - Matrix: The user-item interaction matrix is used to find similarities between users.\n",
    ">- Item-Based Collaborative Filtering:\n",
    "    - Idea: Recommends items based on the similarity between items rather than users.\n",
    "    - Process: It identifies items that are similar to those the target user has liked or interacted with and recommends those similar items.\n",
    "    - Matrix: The transpose of the user-item interaction matrix is used to find similarities between items.\n",
    "\n",
    ">so basically in user based filtering output will be users and in item based filtering output will be items like books\n",
    "\n",
    ">2. Content-Based Filtering:\n",
    ">\n",
    ">Content-based filtering recommends items based on their features and the user's preferences. This approach leverages the content (features) of the items and the user's historical preferences. For books, features could include genres, authors, sentiment scores, etc.\n",
    "> [more detail-(developers.google)](https://developers.google.com/machine-learning/recommendation/content-based/basics#:~:text=Content%2Dbased%20filtering%20uses%20item,for%20the%20Google%20Play%20store.)\n",
    ">- Features for Content-Based Filtering:\n",
    "    - Utilize features like 'description', 'authors', 'categories', 'sentiment_score', etc.\n",
    "    - Create item profiles based on these features.\n",
    "\n",
    ">3. Hybrid Approach:\n",
    ">- Combining Collaborative and Content-Based Recommendations:\n",
    "    - Generate collaborative filtering recommendations based on user preferences.\n",
    "    - Use content-based filtering to fine-tune recommendations based on features such as book descriptions, authors, sentiment scores, etc.\n",
    "    \n",
    ">**Example:** Suppose the CF model recommends a list of books for a user:\n",
    ">\n",
    ">- Book A (CF score: 0.8)\n",
    ">- Book B (CF score: 0.6)\n",
    ">- Book C (CF score: 0.7)\n",
    ">\n",
    ">Now, use the CBF model to calculate sentiment scores:\n",
    ">\n",
    ">- Book A (CBF score: 0.9)\n",
    ">- Book B (CBF score: 0.7)\n",
    ">- Book C (CBF score: 0.8)\n",
    ">\n",
    ">Combine CF and CBF scores:\n",
    ">\n",
    ">- Book A (Combined score: 1.7)\n",
    ">- Book B (Combined score: 1.3)\n",
    ">- Book C (Combined score: 1.5)\n",
    "\n",
    "    "
   ]
  },
  {
   "cell_type": "markdown",
   "id": "d625ce6c",
   "metadata": {
    "papermill": {
     "duration": 0.023247,
     "end_time": "2024-03-08T01:30:20.016764",
     "exception": false,
     "start_time": "2024-03-08T01:30:19.993517",
     "status": "completed"
    },
    "tags": []
   },
   "source": [
    "**In collaborative filtering, you recommend items based on user behavior, while in content-based filtering, you recommend items based on their features.By combining both approaches, you can provide more personalized and diverse recommendations.**"
   ]
  },
  {
   "cell_type": "markdown",
   "id": "5ea29fc9",
   "metadata": {
    "papermill": {
     "duration": 0.023112,
     "end_time": "2024-03-08T01:30:20.063096",
     "exception": false,
     "start_time": "2024-03-08T01:30:20.039984",
     "status": "completed"
    },
    "tags": []
   },
   "source": [
    "## Collaborative filtering \n"
   ]
  },
  {
   "cell_type": "code",
   "execution_count": 18,
   "id": "1813c63a",
   "metadata": {
    "execution": {
     "iopub.execute_input": "2024-03-08T01:30:20.110402Z",
     "iopub.status.busy": "2024-03-08T01:30:20.110058Z",
     "iopub.status.idle": "2024-03-08T01:30:23.574119Z",
     "shell.execute_reply": "2024-03-08T01:30:23.573071Z"
    },
    "papermill": {
     "duration": 3.490752,
     "end_time": "2024-03-08T01:30:23.576717",
     "exception": false,
     "start_time": "2024-03-08T01:30:20.085965",
     "status": "completed"
    },
    "tags": []
   },
   "outputs": [],
   "source": [
    "# Create a mapping of user and item indices\n",
    "user_ids = merged_df['User_id'].unique()\n",
    "item_ids = merged_df['Title'].unique()\n",
    "user_to_index = {user_id: idx for idx, user_id in enumerate(user_ids)}\n",
    "item_to_index = {item_id: idx for idx, item_id in enumerate(item_ids)}\n",
    "index_to_title = {idx: title for title, idx in item_to_index.items()}\n",
    "\n",
    "# Convert user and item indices to tensors\n",
    "user_indices = torch.tensor([user_to_index[user_id] for user_id in merged_df['User_id']], dtype=torch.long)\n",
    "item_indices = torch.tensor([item_to_index[item_id] for item_id in merged_df['Title']], dtype=torch.long)\n",
    "ratings = torch.tensor(merged_df['review/score'].values, dtype=torch.float32)"
   ]
  },
  {
   "cell_type": "code",
   "execution_count": 19,
   "id": "5144051d",
   "metadata": {
    "execution": {
     "iopub.execute_input": "2024-03-08T01:30:23.625736Z",
     "iopub.status.busy": "2024-03-08T01:30:23.625113Z",
     "iopub.status.idle": "2024-03-08T01:30:23.630473Z",
     "shell.execute_reply": "2024-03-08T01:30:23.629615Z"
    },
    "papermill": {
     "duration": 0.031844,
     "end_time": "2024-03-08T01:30:23.632477",
     "exception": false,
     "start_time": "2024-03-08T01:30:23.600633",
     "status": "completed"
    },
    "tags": []
   },
   "outputs": [],
   "source": [
    "# Create a DataLoader\n",
    "dataset = TensorDataset(user_indices, item_indices, ratings)\n",
    "dataloader = DataLoader(dataset, batch_size=64, shuffle=True) # i want to set batch size to lower number so that during training , model can adjust its parameters more as i will try to set total epochs lower\n",
    "#A lower batch size can allow the model to update its parameters more frequently within each epoch."
   ]
  },
  {
   "cell_type": "markdown",
   "id": "ece9d560",
   "metadata": {
    "papermill": {
     "duration": 0.022895,
     "end_time": "2024-03-08T01:30:23.678755",
     "exception": false,
     "start_time": "2024-03-08T01:30:23.655860",
     "status": "completed"
    },
    "tags": []
   },
   "source": [
    "Using smaller batch sizes can indeed lead to more frequent updates and potentially faster convergence, but it can also make the model more prone to overfitting to the specific patterns present in each batch. On the other hand, larger batch sizes may provide a more stable estimate of the gradients and reduce the risk of overfitting, but they can slow down the training process."
   ]
  },
  {
   "cell_type": "markdown",
   "id": "37c1ea4e",
   "metadata": {
    "papermill": {
     "duration": 0.023021,
     "end_time": "2024-03-08T01:30:23.725241",
     "exception": false,
     "start_time": "2024-03-08T01:30:23.702220",
     "status": "completed"
    },
    "tags": []
   },
   "source": [
    "**Model based on user-item interaction**\n",
    "\n",
    ">Initialization: The nn.Embedding layers are initialized with random values. The shape of these embeddings is determined by the number of unique users/items and the specified embedding dimension.\n",
    ">\n",
    ">Input IDs: User and item IDs are used to index into the embedding layers, obtaining the corresponding embedding vectors. Each ID corresponds to a unique user or item.\n",
    ">\n",
    ">Concatenation: The user and item embeddings are concatenated along a specified dimension (usually along the last dimension). This creates a combined vector that represents both the user and item for a given interaction.\n",
    ">\n",
    ">Learning Patterns: During training, the model learns to adjust the embedding values through backpropagation. The objective is to minimize a certain loss function, and in the process, the model learns meaningful representations for users and items based on the observed interactions (user-item pairs).\n",
    ">\n",
    ">Pattern Discovery: The model aims to capture latent patterns or features in the data. For example, it might learn that certain users prefer items with specific characteristics, or certain items are similar to each other based on user interactions."
   ]
  },
  {
   "cell_type": "code",
   "execution_count": 20,
   "id": "fb94913b",
   "metadata": {
    "execution": {
     "iopub.execute_input": "2024-03-08T01:30:23.774186Z",
     "iopub.status.busy": "2024-03-08T01:30:23.773579Z",
     "iopub.status.idle": "2024-03-08T01:30:23.784551Z",
     "shell.execute_reply": "2024-03-08T01:30:23.783646Z"
    },
    "papermill": {
     "duration": 0.037689,
     "end_time": "2024-03-08T01:30:23.786452",
     "exception": false,
     "start_time": "2024-03-08T01:30:23.748763",
     "status": "completed"
    },
    "tags": []
   },
   "outputs": [],
   "source": [
    "class CollaborativeFilteringModel(nn.Module):\n",
    "    def __init__(self, num_users, num_items, embedding_dim, hidden_dim):\n",
    "        super().__init__()\n",
    "        self.user_embedding = nn.Embedding(num_users, embedding_dim)\n",
    "        self.item_embedding = nn.Embedding(num_items, embedding_dim)\n",
    "        self.hidden_layer = nn.Linear(embedding_dim * 2, hidden_dim)\n",
    "        self.relu = nn.ReLU()\n",
    "        self.output_layer = nn.Linear(hidden_dim, 1)\n",
    "\n",
    "    def forward(self, user_indices, item_indices):\n",
    "        user_embedded = self.user_embedding(user_indices)\n",
    "        item_embedded = self.item_embedding(item_indices)\n",
    "        concatenated = torch.cat([user_embedded, item_embedded], dim=1)\n",
    "        hidden_output = self.relu(self.hidden_layer(concatenated))\n",
    "        output = self.output_layer(hidden_output)\n",
    "        return output\n",
    "    \n",
    "    def get_similar_titles(self, input_title_index, top_k=100):\n",
    "        device = self.item_embedding.weight.device  # Get the device of the embeddings\n",
    "\n",
    "        # Move the input title index to the same device as the model\n",
    "        input_title_index = torch.tensor([input_title_index], device=device)\n",
    "\n",
    "        # Get the embedding for the input title\n",
    "        input_title_embedding = self.item_embedding(input_title_index)\n",
    "\n",
    "        # Get embeddings for all titles\n",
    "        all_title_embeddings = self.item_embedding.weight\n",
    "\n",
    "        # Calculate cosine similarity\n",
    "        similarities = F.cosine_similarity(input_title_embedding, all_title_embeddings)\n",
    "\n",
    "        # Get indices of top-k similar titles\n",
    "        #argsort returns the indices that sort a tensor along a given dimension in ascending order(default) by value.\n",
    "        similar_title_indices = torch.argsort(similarities, descending=True)[:top_k] \n",
    "        \n",
    "        # Convert indices to a list of titles\n",
    "        similar_titles = [index_to_title[idx.item()] for idx in similar_title_indices]\n",
    "        #we are using item() to get scalar value instead of tensor which can be used as an key index for dictionary\n",
    "        return similar_titles"
   ]
  },
  {
   "cell_type": "markdown",
   "id": "6cd752c0",
   "metadata": {
    "papermill": {
     "duration": 0.023083,
     "end_time": "2024-03-08T01:30:23.832720",
     "exception": false,
     "start_time": "2024-03-08T01:30:23.809637",
     "status": "completed"
    },
    "tags": []
   },
   "source": [
    "**Example on embeddings structure and shape-**"
   ]
  },
  {
   "cell_type": "code",
   "execution_count": 21,
   "id": "3a3a3f3c",
   "metadata": {
    "execution": {
     "iopub.execute_input": "2024-03-08T01:30:23.880905Z",
     "iopub.status.busy": "2024-03-08T01:30:23.880199Z",
     "iopub.status.idle": "2024-03-08T01:30:23.931258Z",
     "shell.execute_reply": "2024-03-08T01:30:23.930221Z"
    },
    "papermill": {
     "duration": 0.077457,
     "end_time": "2024-03-08T01:30:23.933346",
     "exception": false,
     "start_time": "2024-03-08T01:30:23.855889",
     "status": "completed"
    },
    "tags": []
   },
   "outputs": [
    {
     "name": "stdout",
     "output_type": "stream",
     "text": [
      "Embedding(3, 2)\n",
      "Embedding(4, 2)\n",
      "User Embeddings:\n",
      "tensor([[-1.4201, -0.3907],\n",
      "        [-0.2488,  1.1381],\n",
      "        [-0.1466,  0.2169],\n",
      "        [-0.1466,  0.2169],\n",
      "        [-0.2488,  1.1381]], grad_fn=<EmbeddingBackward0>)\n",
      "\n",
      "Item Embeddings:\n",
      "tensor([[ 0.7084,  0.3120],\n",
      "        [-1.2473, -0.8385],\n",
      "        [-0.6238,  0.3150],\n",
      "        [ 1.2820,  0.4545],\n",
      "        [ 1.2820,  0.4545]], grad_fn=<EmbeddingBackward0>)\n",
      "\n",
      "concatnated:\n",
      "tensor([[-1.4201, -0.3907,  0.7084,  0.3120],\n",
      "        [-0.2488,  1.1381, -1.2473, -0.8385],\n",
      "        [-0.1466,  0.2169, -0.6238,  0.3150],\n",
      "        [-0.1466,  0.2169,  1.2820,  0.4545],\n",
      "        [-0.2488,  1.1381,  1.2820,  0.4545]], grad_fn=<CatBackward0>)\n"
     ]
    }
   ],
   "source": [
    "import torch.nn as nn\n",
    "import torch\n",
    "\n",
    "# Suppose we have 3 unique users and 4 unique items\n",
    "num_users = 3\n",
    "num_items = 4\n",
    "\n",
    "# Embedding dimensions\n",
    "embedding_dim = 2\n",
    "\n",
    "# Create user and item embeddings\n",
    "user_embeddings = nn.Embedding(num_users, embedding_dim)\n",
    "item_embeddings = nn.Embedding(num_items, embedding_dim)\n",
    "print(user_embeddings)\n",
    "print(item_embeddings)\n",
    "\n",
    "# Generate example user and item IDs\n",
    "user_ids_ex = torch.LongTensor([0, 1, 2,2,1])  # User IDs\n",
    "item_ids_ex = torch.LongTensor([2, 1, 3, 0,0])  # Item IDs\n",
    "\n",
    "# Get embeddings for user and item IDs\n",
    "user_embedded = user_embeddings(user_ids_ex)\n",
    "item_embedded = item_embeddings(item_ids_ex)\n",
    "\n",
    "print(\"User Embeddings:\")\n",
    "print(user_embedded)\n",
    "\n",
    "print(\"\\nItem Embeddings:\")\n",
    "print(item_embedded)\n",
    "print(\"\\nconcatnated:\")\n",
    "print(torch.cat([user_embedded, item_embedded], dim=1))"
   ]
  },
  {
   "cell_type": "markdown",
   "id": "6c28411e",
   "metadata": {
    "papermill": {
     "duration": 0.022832,
     "end_time": "2024-03-08T01:30:23.979908",
     "exception": false,
     "start_time": "2024-03-08T01:30:23.957076",
     "status": "completed"
    },
    "tags": []
   },
   "source": [
    "**example for cosine similarity**"
   ]
  },
  {
   "cell_type": "code",
   "execution_count": 22,
   "id": "5d3a54e4",
   "metadata": {
    "execution": {
     "iopub.execute_input": "2024-03-08T01:30:24.027631Z",
     "iopub.status.busy": "2024-03-08T01:30:24.026906Z",
     "iopub.status.idle": "2024-03-08T01:30:24.050413Z",
     "shell.execute_reply": "2024-03-08T01:30:24.049263Z"
    },
    "papermill": {
     "duration": 0.049616,
     "end_time": "2024-03-08T01:30:24.052392",
     "exception": false,
     "start_time": "2024-03-08T01:30:24.002776",
     "status": "completed"
    },
    "tags": []
   },
   "outputs": [
    {
     "name": "stdout",
     "output_type": "stream",
     "text": [
      "tensor([[-2.1462,  1.2333]]) tensor([[ 1.2464, -1.1876],\n",
      "        [-0.8105, -0.8131],\n",
      "        [-1.2557,  1.1369],\n",
      "        [ 1.4726,  0.4518],\n",
      "        [-2.0567,  0.3047]])\n",
      "tensor([-0.9714,  0.2592,  0.9771, -0.6828,  0.9307])\n",
      "tensor([2, 4, 1, 3, 0])\n"
     ]
    }
   ],
   "source": [
    "input1 = torch.randn(1, 2)\n",
    "input2 = torch.randn(5, 2)\n",
    "print(input1,input2)\n",
    "c_s=F.cosine_similarity(input1,input2)\n",
    "print(c_s)\n",
    "print(torch.argsort(c_s, descending=True))"
   ]
  },
  {
   "cell_type": "markdown",
   "id": "6f67a878",
   "metadata": {
    "papermill": {
     "duration": 0.023499,
     "end_time": "2024-03-08T01:30:24.147675",
     "exception": false,
     "start_time": "2024-03-08T01:30:24.124176",
     "status": "completed"
    },
    "tags": []
   },
   "source": [
    "**Instantiating the model**"
   ]
  },
  {
   "cell_type": "code",
   "execution_count": 23,
   "id": "29029c1b",
   "metadata": {
    "execution": {
     "iopub.execute_input": "2024-03-08T01:30:24.196305Z",
     "iopub.status.busy": "2024-03-08T01:30:24.195471Z",
     "iopub.status.idle": "2024-03-08T01:30:25.439773Z",
     "shell.execute_reply": "2024-03-08T01:30:25.438962Z"
    },
    "papermill": {
     "duration": 1.27102,
     "end_time": "2024-03-08T01:30:25.442118",
     "exception": false,
     "start_time": "2024-03-08T01:30:24.171098",
     "status": "completed"
    },
    "tags": []
   },
   "outputs": [],
   "source": [
    "# Instantiate the model and move it to device\n",
    "num_users = len(user_ids)\n",
    "num_items = len(item_ids)\n",
    "embedding_dim = 100  # You can adjust this dimension based on your needs\n",
    "model = CollaborativeFilteringModel(num_users, num_items, embedding_dim,32)\n"
   ]
  },
  {
   "cell_type": "markdown",
   "id": "be051c5b",
   "metadata": {
    "papermill": {
     "duration": 0.023706,
     "end_time": "2024-03-08T01:30:25.489995",
     "exception": false,
     "start_time": "2024-03-08T01:30:25.466289",
     "status": "completed"
    },
    "tags": []
   },
   "source": [
    "**Training the model**"
   ]
  },
  {
   "cell_type": "code",
   "execution_count": 24,
   "id": "34bd1542",
   "metadata": {
    "execution": {
     "iopub.execute_input": "2024-03-08T01:30:25.539090Z",
     "iopub.status.busy": "2024-03-08T01:30:25.538719Z",
     "iopub.status.idle": "2024-03-08T01:30:27.449330Z",
     "shell.execute_reply": "2024-03-08T01:30:27.448332Z"
    },
    "papermill": {
     "duration": 1.938074,
     "end_time": "2024-03-08T01:30:27.451862",
     "exception": false,
     "start_time": "2024-03-08T01:30:25.513788",
     "status": "completed"
    },
    "tags": []
   },
   "outputs": [],
   "source": [
    "model.to(device)\n",
    "# Define loss function and optimizer\n",
    "criterion = nn.MSELoss()\n",
    "optimizer = optim.Adam(model.parameters(), lr=0.001)"
   ]
  },
  {
   "cell_type": "code",
   "execution_count": 25,
   "id": "06624fbd",
   "metadata": {
    "execution": {
     "iopub.execute_input": "2024-03-08T01:30:27.501617Z",
     "iopub.status.busy": "2024-03-08T01:30:27.501049Z",
     "iopub.status.idle": "2024-03-08T01:44:22.516472Z",
     "shell.execute_reply": "2024-03-08T01:44:22.515556Z"
    },
    "papermill": {
     "duration": 835.042969,
     "end_time": "2024-03-08T01:44:22.519453",
     "exception": false,
     "start_time": "2024-03-08T01:30:27.476484",
     "status": "completed"
    },
    "tags": []
   },
   "outputs": [
    {
     "data": {
      "application/vnd.jupyter.widget-view+json": {
       "model_id": "00ab6f3f48404cf9bdbb70a65fdd3656",
       "version_major": 2,
       "version_minor": 0
      },
      "text/plain": [
       "Training Collaborative Model:   0%|          | 0/1 [00:00<?, ?it/s]"
      ]
     },
     "metadata": {},
     "output_type": "display_data"
    },
    {
     "data": {
      "application/vnd.jupyter.widget-view+json": {
       "model_id": "5867d19920da4b6a93886827024ef420",
       "version_major": 2,
       "version_minor": 0
      },
      "text/plain": [
       "Epoch 1/1:   0%|          | 0/38095 [00:00<?, ?it/s]"
      ]
     },
     "metadata": {},
     "output_type": "display_data"
    },
    {
     "name": "stdout",
     "output_type": "stream",
     "text": [
      "Epoch 1/1, Average Loss: 1.3535\n"
     ]
    }
   ],
   "source": [
    "epochs = 1 #total epochs used : 8, for quick save just using one epoch to demonstrate tqdm but maybe progress bar is not visible because of quick save\n",
    "for epoch in tqdm(range(epochs),desc=\"Training Collaborative Model\"):\n",
    "    model.train()\n",
    "    total_loss = 0.0\n",
    "    for user_batch, item_batch, rating_batch in tqdm(dataloader, desc=f\"Epoch {epoch + 1}/{epochs}\"):\n",
    "        user_batch, item_batch, rating_batch = user_batch.to(device), item_batch.to(device), rating_batch.to(device)\n",
    "        #user_batch = user_batch.long()  \n",
    "        #item_batch = item_batch.long()  \n",
    "        optimizer.zero_grad()\n",
    "        predictions = model(user_batch, item_batch).squeeze()\n",
    "        loss = criterion(predictions, rating_batch)\n",
    "        loss.backward()\n",
    "        optimizer.step()\n",
    "        total_loss += loss.item()\n",
    "\n",
    "    average_loss = total_loss / len(dataloader)\n",
    "    print(f'Epoch {epoch + 1}/{epochs}, Average Loss: {average_loss:.4f}')\n",
    "\n"
   ]
  },
  {
   "cell_type": "code",
   "execution_count": 26,
   "id": "d317bc47",
   "metadata": {
    "execution": {
     "iopub.execute_input": "2024-03-08T01:44:22.571580Z",
     "iopub.status.busy": "2024-03-08T01:44:22.571200Z",
     "iopub.status.idle": "2024-03-08T01:44:22.578352Z",
     "shell.execute_reply": "2024-03-08T01:44:22.577352Z"
    },
    "papermill": {
     "duration": 0.03461,
     "end_time": "2024-03-08T01:44:22.580286",
     "exception": false,
     "start_time": "2024-03-08T01:44:22.545676",
     "status": "completed"
    },
    "tags": []
   },
   "outputs": [
    {
     "name": "stdout",
     "output_type": "stream",
     "text": [
      "Predicted Rating: 4.1840\n"
     ]
    }
   ],
   "source": [
    "    \n",
    "user_index = torch.tensor([5], dtype=torch.long).to(device)\n",
    "item_index = torch.tensor([1], dtype=torch.long).to(device)\n",
    "prediction = model(user_index, item_index).item()\n",
    "print(f'Predicted Rating: {prediction:.4f}')"
   ]
  },
  {
   "cell_type": "markdown",
   "id": "69b7bb68",
   "metadata": {
    "papermill": {
     "duration": 0.023653,
     "end_time": "2024-03-08T01:44:22.627603",
     "exception": false,
     "start_time": "2024-03-08T01:44:22.603950",
     "status": "completed"
    },
    "tags": []
   },
   "source": [
    "**evaluation**"
   ]
  },
  {
   "cell_type": "code",
   "execution_count": 27,
   "id": "b36ffb22",
   "metadata": {
    "execution": {
     "iopub.execute_input": "2024-03-08T01:44:22.678163Z",
     "iopub.status.busy": "2024-03-08T01:44:22.677323Z",
     "iopub.status.idle": "2024-03-08T01:45:16.041369Z",
     "shell.execute_reply": "2024-03-08T01:45:16.040351Z"
    },
    "papermill": {
     "duration": 53.392101,
     "end_time": "2024-03-08T01:45:16.043754",
     "exception": false,
     "start_time": "2024-03-08T01:44:22.651653",
     "status": "completed"
    },
    "tags": []
   },
   "outputs": [
    {
     "data": {
      "application/vnd.jupyter.widget-view+json": {
       "model_id": "0bcaf780444245d2b9a5991fcffaeca8",
       "version_major": 2,
       "version_minor": 0
      },
      "text/plain": [
       "evaluating...:   0%|          | 0/38095 [00:00<?, ?it/s]"
      ]
     },
     "metadata": {},
     "output_type": "display_data"
    },
    {
     "name": "stdout",
     "output_type": "stream",
     "text": [
      "Mean Squared Error: 1.1096\n",
      "Root Mean Squared Error: 1.0534\n"
     ]
    }
   ],
   "source": [
    "# Evaluate the model using Mean Squared Error\n",
    "model.eval()\n",
    "total_mse = 0.0\n",
    "\n",
    "with torch.inference_mode():\n",
    "    for user_batch, item_batch, rating_batch in tqdm(dataloader,desc=\"evaluating...\"):\n",
    "        user_batch, item_batch, rating_batch = user_batch.to(device), item_batch.to(device), rating_batch.to(device)\n",
    "        predictions = model(user_batch, item_batch).squeeze()\n",
    "        mse = nn.functional.mse_loss(predictions, rating_batch)\n",
    "        total_mse += mse.item()\n",
    "\n",
    "average_mse = total_mse / len(dataloader)\n",
    "rmse = average_mse ** 0.5\n",
    "\n",
    "print(f'Mean Squared Error: {average_mse:.4f}')\n",
    "print(f'Root Mean Squared Error: {rmse:.4f}')\n"
   ]
  },
  {
   "cell_type": "markdown",
   "id": "42f5fb3e",
   "metadata": {
    "papermill": {
     "duration": 0.024232,
     "end_time": "2024-03-08T01:45:16.092404",
     "exception": false,
     "start_time": "2024-03-08T01:45:16.068172",
     "status": "completed"
    },
    "tags": []
   },
   "source": [
    "**saving the model**"
   ]
  },
  {
   "cell_type": "code",
   "execution_count": 28,
   "id": "a9234c4d",
   "metadata": {
    "execution": {
     "iopub.execute_input": "2024-03-08T01:45:16.144649Z",
     "iopub.status.busy": "2024-03-08T01:45:16.144011Z",
     "iopub.status.idle": "2024-03-08T01:45:17.098890Z",
     "shell.execute_reply": "2024-03-08T01:45:17.097751Z"
    },
    "papermill": {
     "duration": 0.982126,
     "end_time": "2024-03-08T01:45:17.101106",
     "exception": false,
     "start_time": "2024-03-08T01:45:16.118980",
     "status": "completed"
    },
    "tags": []
   },
   "outputs": [
    {
     "name": "stdout",
     "output_type": "stream",
     "text": [
      "Model saved to collaborative_filtering_model.pth\n"
     ]
    }
   ],
   "source": [
    "# Save the collaborative filtering model\n",
    "model_path = 'collaborative_filtering_model.pth'\n",
    "# Save the entire model\n",
    "torch.save(model, model_path)\n",
    "print(f'Model saved to {model_path}')\n"
   ]
  },
  {
   "cell_type": "markdown",
   "id": "caafafd2",
   "metadata": {
    "papermill": {
     "duration": 0.024444,
     "end_time": "2024-03-08T01:45:17.151156",
     "exception": false,
     "start_time": "2024-03-08T01:45:17.126712",
     "status": "completed"
    },
    "tags": []
   },
   "source": [
    "**retrieving the model**"
   ]
  },
  {
   "cell_type": "code",
   "execution_count": 29,
   "id": "3ab969e4",
   "metadata": {
    "execution": {
     "iopub.execute_input": "2024-03-08T01:45:17.203240Z",
     "iopub.status.busy": "2024-03-08T01:45:17.202422Z",
     "iopub.status.idle": "2024-03-08T01:45:21.704583Z",
     "shell.execute_reply": "2024-03-08T01:45:21.703597Z"
    },
    "papermill": {
     "duration": 4.530545,
     "end_time": "2024-03-08T01:45:21.706648",
     "exception": false,
     "start_time": "2024-03-08T01:45:17.176103",
     "status": "completed"
    },
    "tags": []
   },
   "outputs": [
    {
     "data": {
      "text/plain": [
       "CollaborativeFilteringModel(\n",
       "  (user_embedding): Embedding(1008961, 100)\n",
       "  (item_embedding): Embedding(206711, 100)\n",
       "  (hidden_layer): Linear(in_features=200, out_features=32, bias=True)\n",
       "  (relu): ReLU()\n",
       "  (output_layer): Linear(in_features=32, out_features=1, bias=True)\n",
       ")"
      ]
     },
     "execution_count": 29,
     "metadata": {},
     "output_type": "execute_result"
    }
   ],
   "source": [
    "model_path=\"/kaggle/input/collaborative-filtering-model/collaborative_filtering_model_2.pth\"\n",
    "# Load the entire model\n",
    "model = torch.load(model_path, map_location=device)\n",
    "model.to(device)\n"
   ]
  },
  {
   "cell_type": "code",
   "execution_count": 30,
   "id": "34e3599f",
   "metadata": {
    "execution": {
     "iopub.execute_input": "2024-03-08T01:45:21.761359Z",
     "iopub.status.busy": "2024-03-08T01:45:21.760782Z",
     "iopub.status.idle": "2024-03-08T01:45:21.766824Z",
     "shell.execute_reply": "2024-03-08T01:45:21.765983Z"
    },
    "papermill": {
     "duration": 0.035931,
     "end_time": "2024-03-08T01:45:21.768883",
     "exception": false,
     "start_time": "2024-03-08T01:45:21.732952",
     "status": "completed"
    },
    "tags": []
   },
   "outputs": [
    {
     "data": {
      "text/plain": [
       "<bound method Module.parameters of CollaborativeFilteringModel(\n",
       "  (user_embedding): Embedding(1008961, 100)\n",
       "  (item_embedding): Embedding(206711, 100)\n",
       "  (hidden_layer): Linear(in_features=200, out_features=32, bias=True)\n",
       "  (relu): ReLU()\n",
       "  (output_layer): Linear(in_features=32, out_features=1, bias=True)\n",
       ")>"
      ]
     },
     "execution_count": 30,
     "metadata": {},
     "output_type": "execute_result"
    }
   ],
   "source": [
    "model.parameters"
   ]
  },
  {
   "cell_type": "code",
   "execution_count": 31,
   "id": "86559768",
   "metadata": {
    "execution": {
     "iopub.execute_input": "2024-03-08T01:45:21.821899Z",
     "iopub.status.busy": "2024-03-08T01:45:21.821105Z",
     "iopub.status.idle": "2024-03-08T01:45:21.825276Z",
     "shell.execute_reply": "2024-03-08T01:45:21.824363Z"
    },
    "papermill": {
     "duration": 0.032714,
     "end_time": "2024-03-08T01:45:21.827244",
     "exception": false,
     "start_time": "2024-03-08T01:45:21.794530",
     "status": "completed"
    },
    "tags": []
   },
   "outputs": [],
   "source": [
    "#merged_df[merged_df['User_id']==\"A30TK6U7DNS82R\"]"
   ]
  },
  {
   "cell_type": "code",
   "execution_count": 32,
   "id": "2023f8b1",
   "metadata": {
    "execution": {
     "iopub.execute_input": "2024-03-08T01:45:21.878891Z",
     "iopub.status.busy": "2024-03-08T01:45:21.878536Z",
     "iopub.status.idle": "2024-03-08T01:45:21.882488Z",
     "shell.execute_reply": "2024-03-08T01:45:21.881641Z"
    },
    "papermill": {
     "duration": 0.031772,
     "end_time": "2024-03-08T01:45:21.884550",
     "exception": false,
     "start_time": "2024-03-08T01:45:21.852778",
     "status": "completed"
    },
    "tags": []
   },
   "outputs": [],
   "source": [
    "#merged_df['review/text'][1]"
   ]
  },
  {
   "cell_type": "code",
   "execution_count": 33,
   "id": "07e4b417",
   "metadata": {
    "execution": {
     "iopub.execute_input": "2024-03-08T01:45:21.935765Z",
     "iopub.status.busy": "2024-03-08T01:45:21.934929Z",
     "iopub.status.idle": "2024-03-08T01:45:21.942568Z",
     "shell.execute_reply": "2024-03-08T01:45:21.941615Z"
    },
    "papermill": {
     "duration": 0.035265,
     "end_time": "2024-03-08T01:45:21.944420",
     "exception": false,
     "start_time": "2024-03-08T01:45:21.909155",
     "status": "completed"
    },
    "tags": []
   },
   "outputs": [
    {
     "name": "stdout",
     "output_type": "stream",
     "text": [
      "Predicted Rating: 3.9196\n"
     ]
    }
   ],
   "source": [
    "user_index = torch.tensor([user_to_index['A30TK6U7DNS82R']], dtype=torch.long)\n",
    "item_index = torch.tensor([item_to_index['The Insiders (Insiders (Bloomsbury))']], dtype=torch.long)\n",
    "user_index , item_index= user_index.to(device), item_index.to(device)\n",
    "prediction = model(user_index, item_index).item()\n",
    "print(f'Predicted Rating: {prediction:.4f}')"
   ]
  },
  {
   "cell_type": "markdown",
   "id": "2148bfb7",
   "metadata": {
    "papermill": {
     "duration": 0.02476,
     "end_time": "2024-03-08T01:45:21.994319",
     "exception": false,
     "start_time": "2024-03-08T01:45:21.969559",
     "status": "completed"
    },
    "tags": []
   },
   "source": [
    "## Content Based Filtering\n"
   ]
  },
  {
   "cell_type": "markdown",
   "id": "4270d8aa",
   "metadata": {
    "papermill": {
     "duration": 0.024571,
     "end_time": "2024-03-08T01:45:22.043789",
     "exception": false,
     "start_time": "2024-03-08T01:45:22.019218",
     "status": "completed"
    },
    "tags": []
   },
   "source": [
    "- Extract features from the items (books) such as genres, authors, sentiment scores, etc.\n",
    "- Use these features to build a content-based model that can recommend items similar to those a user has liked."
   ]
  },
  {
   "cell_type": "code",
   "execution_count": 34,
   "id": "10c8b4fe",
   "metadata": {
    "execution": {
     "iopub.execute_input": "2024-03-08T01:45:22.095073Z",
     "iopub.status.busy": "2024-03-08T01:45:22.094363Z",
     "iopub.status.idle": "2024-03-08T01:45:22.105338Z",
     "shell.execute_reply": "2024-03-08T01:45:22.104373Z"
    },
    "papermill": {
     "duration": 0.03927,
     "end_time": "2024-03-08T01:45:22.107586",
     "exception": false,
     "start_time": "2024-03-08T01:45:22.068316",
     "status": "completed"
    },
    "tags": []
   },
   "outputs": [
    {
     "name": "stdout",
     "output_type": "stream",
     "text": [
      "<class 'pandas.core.frame.DataFrame'>\n",
      "RangeIndex: 2438018 entries, 0 to 2438017\n",
      "Data columns (total 16 columns):\n",
      " #   Column              Dtype  \n",
      "---  ------              -----  \n",
      " 0   Id                  object \n",
      " 1   Title               object \n",
      " 2   User_id             object \n",
      " 3   review/helpfulness  object \n",
      " 4   review/score        float64\n",
      " 5   review/time         int64  \n",
      " 6   review/summary      object \n",
      " 7   review/text         object \n",
      " 8   description         object \n",
      " 9   authors             object \n",
      " 10  publisher           object \n",
      " 11  publishedDate       object \n",
      " 12  categories          object \n",
      " 13  ratingsCount        float64\n",
      " 14  sentiment_score     float64\n",
      " 15  sentiment_label     int64  \n",
      "dtypes: float64(3), int64(2), object(11)\n",
      "memory usage: 297.6+ MB\n"
     ]
    }
   ],
   "source": [
    "# Display information about the merged dataset\n",
    "merged_df.info()"
   ]
  },
  {
   "cell_type": "code",
   "execution_count": 35,
   "id": "ff649f1b",
   "metadata": {
    "execution": {
     "iopub.execute_input": "2024-03-08T01:45:22.159741Z",
     "iopub.status.busy": "2024-03-08T01:45:22.159139Z",
     "iopub.status.idle": "2024-03-08T01:45:23.894721Z",
     "shell.execute_reply": "2024-03-08T01:45:23.893650Z"
    },
    "papermill": {
     "duration": 1.764468,
     "end_time": "2024-03-08T01:45:23.897069",
     "exception": false,
     "start_time": "2024-03-08T01:45:22.132601",
     "status": "completed"
    },
    "tags": []
   },
   "outputs": [],
   "source": [
    "title_sentiment_aggregated = merged_df.groupby(['Title','authors','categories'])['sentiment_score'].mean().reset_index()"
   ]
  },
  {
   "cell_type": "code",
   "execution_count": 36,
   "id": "ba287480",
   "metadata": {
    "execution": {
     "iopub.execute_input": "2024-03-08T01:45:23.949976Z",
     "iopub.status.busy": "2024-03-08T01:45:23.949176Z",
     "iopub.status.idle": "2024-03-08T01:45:23.960355Z",
     "shell.execute_reply": "2024-03-08T01:45:23.959465Z"
    },
    "papermill": {
     "duration": 0.039193,
     "end_time": "2024-03-08T01:45:23.962198",
     "exception": false,
     "start_time": "2024-03-08T01:45:23.923005",
     "status": "completed"
    },
    "tags": []
   },
   "outputs": [
    {
     "data": {
      "text/html": [
       "<div>\n",
       "<style scoped>\n",
       "    .dataframe tbody tr th:only-of-type {\n",
       "        vertical-align: middle;\n",
       "    }\n",
       "\n",
       "    .dataframe tbody tr th {\n",
       "        vertical-align: top;\n",
       "    }\n",
       "\n",
       "    .dataframe thead th {\n",
       "        text-align: right;\n",
       "    }\n",
       "</style>\n",
       "<table border=\"1\" class=\"dataframe\">\n",
       "  <thead>\n",
       "    <tr style=\"text-align: right;\">\n",
       "      <th></th>\n",
       "      <th>Title</th>\n",
       "      <th>authors</th>\n",
       "      <th>categories</th>\n",
       "      <th>sentiment_score</th>\n",
       "    </tr>\n",
       "  </thead>\n",
       "  <tbody>\n",
       "    <tr>\n",
       "      <th>0</th>\n",
       "      <td>\" Film technique, \" and, \" Film acting \"</td>\n",
       "      <td>['V. I. Pudovkin']</td>\n",
       "      <td>['Drama']</td>\n",
       "      <td>0.662370</td>\n",
       "    </tr>\n",
       "    <tr>\n",
       "      <th>1</th>\n",
       "      <td>\" We'll Always Have Paris\": The Definitive Gui...</td>\n",
       "      <td>['Robert A. Nowlan', 'Gwendolyn Wright Nowlan']</td>\n",
       "      <td>['Reference']</td>\n",
       "      <td>0.576704</td>\n",
       "    </tr>\n",
       "    <tr>\n",
       "      <th>2</th>\n",
       "      <td>\"... And Poetry is Born ...\" Russian Classical...</td>\n",
       "      <td>['Aleksandr Sergeevich Pushkin']</td>\n",
       "      <td>['Russian poetry']</td>\n",
       "      <td>0.927460</td>\n",
       "    </tr>\n",
       "    <tr>\n",
       "      <th>3</th>\n",
       "      <td>\"A Titanic hero\" Thomas Andrews, shipbuilder</td>\n",
       "      <td>['Shan F. Bullock']</td>\n",
       "      <td></td>\n",
       "      <td>0.867688</td>\n",
       "    </tr>\n",
       "    <tr>\n",
       "      <th>4</th>\n",
       "      <td>\"A Truthful Impression of the Country\": Britis...</td>\n",
       "      <td>['Nicholas J. Clifford', 'Nicholas Rowland Cli...</td>\n",
       "      <td>['History']</td>\n",
       "      <td>0.063062</td>\n",
       "    </tr>\n",
       "  </tbody>\n",
       "</table>\n",
       "</div>"
      ],
      "text/plain": [
       "                                               Title  \\\n",
       "0           \" Film technique, \" and, \" Film acting \"   \n",
       "1  \" We'll Always Have Paris\": The Definitive Gui...   \n",
       "2  \"... And Poetry is Born ...\" Russian Classical...   \n",
       "3       \"A Titanic hero\" Thomas Andrews, shipbuilder   \n",
       "4  \"A Truthful Impression of the Country\": Britis...   \n",
       "\n",
       "                                             authors          categories  \\\n",
       "0                                 ['V. I. Pudovkin']           ['Drama']   \n",
       "1    ['Robert A. Nowlan', 'Gwendolyn Wright Nowlan']       ['Reference']   \n",
       "2                   ['Aleksandr Sergeevich Pushkin']  ['Russian poetry']   \n",
       "3                                ['Shan F. Bullock']                       \n",
       "4  ['Nicholas J. Clifford', 'Nicholas Rowland Cli...         ['History']   \n",
       "\n",
       "   sentiment_score  \n",
       "0         0.662370  \n",
       "1         0.576704  \n",
       "2         0.927460  \n",
       "3         0.867688  \n",
       "4         0.063062  "
      ]
     },
     "execution_count": 36,
     "metadata": {},
     "output_type": "execute_result"
    }
   ],
   "source": [
    "title_sentiment_aggregated[:5]"
   ]
  },
  {
   "cell_type": "code",
   "execution_count": 37,
   "id": "5f15760b",
   "metadata": {
    "execution": {
     "iopub.execute_input": "2024-03-08T01:45:24.013778Z",
     "iopub.status.busy": "2024-03-08T01:45:24.012941Z",
     "iopub.status.idle": "2024-03-08T01:45:24.019016Z",
     "shell.execute_reply": "2024-03-08T01:45:24.018118Z"
    },
    "papermill": {
     "duration": 0.033842,
     "end_time": "2024-03-08T01:45:24.020873",
     "exception": false,
     "start_time": "2024-03-08T01:45:23.987031",
     "status": "completed"
    },
    "tags": []
   },
   "outputs": [
    {
     "data": {
      "text/plain": [
       "206711"
      ]
     },
     "execution_count": 37,
     "metadata": {},
     "output_type": "execute_result"
    }
   ],
   "source": [
    "len(title_sentiment_aggregated)"
   ]
  },
  {
   "cell_type": "code",
   "execution_count": 38,
   "id": "43aa3dd4",
   "metadata": {
    "execution": {
     "iopub.execute_input": "2024-03-08T01:45:24.073648Z",
     "iopub.status.busy": "2024-03-08T01:45:24.072774Z",
     "iopub.status.idle": "2024-03-08T01:45:24.729032Z",
     "shell.execute_reply": "2024-03-08T01:45:24.727937Z"
    },
    "papermill": {
     "duration": 0.685308,
     "end_time": "2024-03-08T01:45:24.731404",
     "exception": false,
     "start_time": "2024-03-08T01:45:24.046096",
     "status": "completed"
    },
    "tags": []
   },
   "outputs": [],
   "source": [
    "# Create a mapping of unique categories, authors, and titles\n",
    "unique_categories = merged_df['categories'].unique()\n",
    "unique_authors = merged_df['authors'].unique()\n",
    "unique_titles = title_sentiment_aggregated['Title'].unique()\n",
    "\n",
    "category_to_index = {category: idx for idx, category in enumerate(unique_categories)}\n",
    "author_to_index = {author: idx for idx, author in enumerate(unique_authors)}\n",
    "title_to_index = {title: idx for idx, title in enumerate(unique_titles)}"
   ]
  },
  {
   "cell_type": "code",
   "execution_count": 39,
   "id": "be31def3",
   "metadata": {
    "execution": {
     "iopub.execute_input": "2024-03-08T01:45:24.786837Z",
     "iopub.status.busy": "2024-03-08T01:45:24.785720Z",
     "iopub.status.idle": "2024-03-08T01:45:25.102822Z",
     "shell.execute_reply": "2024-03-08T01:45:25.101929Z"
    },
    "papermill": {
     "duration": 0.347801,
     "end_time": "2024-03-08T01:45:25.105115",
     "exception": false,
     "start_time": "2024-03-08T01:45:24.757314",
     "status": "completed"
    },
    "tags": []
   },
   "outputs": [],
   "source": [
    "# Convert categories, authors, titles to tensors\n",
    "category_indices = torch.tensor([category_to_index[category] for category in title_sentiment_aggregated['categories']], dtype=torch.long)\n",
    "author_indices = torch.tensor([author_to_index[author] for author in title_sentiment_aggregated['authors']], dtype=torch.long)\n",
    "title_indices = torch.tensor([title_to_index[title] for title in title_sentiment_aggregated['Title']], dtype=torch.long)\n"
   ]
  },
  {
   "cell_type": "code",
   "execution_count": 40,
   "id": "83e99423",
   "metadata": {
    "execution": {
     "iopub.execute_input": "2024-03-08T01:45:25.157557Z",
     "iopub.status.busy": "2024-03-08T01:45:25.156725Z",
     "iopub.status.idle": "2024-03-08T01:45:25.981720Z",
     "shell.execute_reply": "2024-03-08T01:45:25.980873Z"
    },
    "papermill": {
     "duration": 0.853287,
     "end_time": "2024-03-08T01:45:25.984086",
     "exception": false,
     "start_time": "2024-03-08T01:45:25.130799",
     "status": "completed"
    },
    "tags": []
   },
   "outputs": [],
   "source": [
    "# Convert sentiment scores to tensor\n",
    "sentiment_scores = torch.tensor(title_sentiment_aggregated['sentiment_score'].values, dtype=torch.float32)\n",
    "\n",
    "# Use sentiment labels or sentiment scores as the target variable\n",
    "target_variable = torch.tensor(merged_df.groupby('Title')['sentiment_label'].mean().values, dtype=torch.float32)"
   ]
  },
  {
   "cell_type": "code",
   "execution_count": 41,
   "id": "ae9a5c3c",
   "metadata": {
    "execution": {
     "iopub.execute_input": "2024-03-08T01:45:26.038475Z",
     "iopub.status.busy": "2024-03-08T01:45:26.038099Z",
     "iopub.status.idle": "2024-03-08T01:45:26.043016Z",
     "shell.execute_reply": "2024-03-08T01:45:26.042153Z"
    },
    "papermill": {
     "duration": 0.034869,
     "end_time": "2024-03-08T01:45:26.044967",
     "exception": false,
     "start_time": "2024-03-08T01:45:26.010098",
     "status": "completed"
    },
    "tags": []
   },
   "outputs": [],
   "source": [
    "# Create a DataLoader\n",
    "cbf_dataset = TensorDataset(category_indices, author_indices, title_indices, sentiment_scores, target_variable)\n",
    "cbf_dataloader = DataLoader(cbf_dataset, batch_size=64, shuffle=True)"
   ]
  },
  {
   "cell_type": "markdown",
   "id": "c6e68fc6",
   "metadata": {
    "papermill": {
     "duration": 0.025923,
     "end_time": "2024-03-08T01:45:26.097236",
     "exception": false,
     "start_time": "2024-03-08T01:45:26.071313",
     "status": "completed"
    },
    "tags": []
   },
   "source": [
    "**I will consider this model as regression type even if target or true label has only two values (0 or 1) and i will not use sigmoid because i will use this model to filter and sort the titles which were given by collaborative filtering model later**"
   ]
  },
  {
   "cell_type": "code",
   "execution_count": 42,
   "id": "f4f3b519",
   "metadata": {
    "execution": {
     "iopub.execute_input": "2024-03-08T01:45:26.151186Z",
     "iopub.status.busy": "2024-03-08T01:45:26.150837Z",
     "iopub.status.idle": "2024-03-08T01:45:26.159014Z",
     "shell.execute_reply": "2024-03-08T01:45:26.158143Z"
    },
    "papermill": {
     "duration": 0.037367,
     "end_time": "2024-03-08T01:45:26.161074",
     "exception": false,
     "start_time": "2024-03-08T01:45:26.123707",
     "status": "completed"
    },
    "tags": []
   },
   "outputs": [],
   "source": [
    "# Define the content-based filtering model\n",
    "class ContentBasedFilteringModel(nn.Module):\n",
    "    def __init__(self, num_categories, num_authors, num_titles, embedding_dim):\n",
    "        super(ContentBasedFilteringModel, self).__init__()\n",
    "        self.category_embedding = nn.Embedding(num_categories, embedding_dim)\n",
    "        self.author_embedding = nn.Embedding(num_authors, embedding_dim)\n",
    "        self.title_embedding = nn.Embedding(num_titles, embedding_dim)\n",
    "        self.sentiment_linear = nn.Linear(4 * embedding_dim, 1)\n",
    "\n",
    "    def forward(self, category_indices, author_indices, title_indices, sentiment_scores):\n",
    "        category_embedded = self.category_embedding(category_indices)\n",
    "        author_embedded = self.author_embedding(author_indices)\n",
    "        title_embedded = self.title_embedding(title_indices)\n",
    "        sentiment_expanded = sentiment_scores.unsqueeze(1).expand_as(category_embedded) \n",
    "        # It serves as a constant tensor that gets expanded to match the size of category_embedded for concatenation, and its values remain fixed throughout training\n",
    "        #self.expand_as(other) is equivalent to self.expand(other.size()).\n",
    "\n",
    "        concatenated = torch.cat([category_embedded, author_embedded, title_embedded, sentiment_expanded], dim=1)\n",
    "        output = self.sentiment_linear(concatenated)\n",
    "        return output\n",
    "    \n",
    "   "
   ]
  },
  {
   "cell_type": "code",
   "execution_count": 43,
   "id": "5bd46958",
   "metadata": {
    "execution": {
     "iopub.execute_input": "2024-03-08T01:45:26.213077Z",
     "iopub.status.busy": "2024-03-08T01:45:26.212726Z",
     "iopub.status.idle": "2024-03-08T01:45:26.447904Z",
     "shell.execute_reply": "2024-03-08T01:45:26.446883Z"
    },
    "papermill": {
     "duration": 0.264014,
     "end_time": "2024-03-08T01:45:26.449931",
     "exception": false,
     "start_time": "2024-03-08T01:45:26.185917",
     "status": "completed"
    },
    "tags": []
   },
   "outputs": [
    {
     "data": {
      "text/plain": [
       "ContentBasedFilteringModel(\n",
       "  (category_embedding): Embedding(10669, 64)\n",
       "  (author_embedding): Embedding(124098, 64)\n",
       "  (title_embedding): Embedding(206711, 64)\n",
       "  (sentiment_linear): Linear(in_features=256, out_features=1, bias=True)\n",
       ")"
      ]
     },
     "execution_count": 43,
     "metadata": {},
     "output_type": "execute_result"
    }
   ],
   "source": [
    "# Instantiate the model\n",
    "num_categories = len(unique_categories)\n",
    "num_authors = len(unique_authors)\n",
    "num_titles = len(unique_titles)\n",
    "embedding_dim = 64  # You can adjust this dimension based on your needs\n",
    "cbf_model = ContentBasedFilteringModel(num_categories, num_authors, num_titles, embedding_dim)\n",
    "cbf_model.to(device)"
   ]
  },
  {
   "cell_type": "code",
   "execution_count": 44,
   "id": "804be580",
   "metadata": {
    "execution": {
     "iopub.execute_input": "2024-03-08T01:45:26.502338Z",
     "iopub.status.busy": "2024-03-08T01:45:26.501551Z",
     "iopub.status.idle": "2024-03-08T01:45:26.506342Z",
     "shell.execute_reply": "2024-03-08T01:45:26.505485Z"
    },
    "papermill": {
     "duration": 0.032867,
     "end_time": "2024-03-08T01:45:26.508375",
     "exception": false,
     "start_time": "2024-03-08T01:45:26.475508",
     "status": "completed"
    },
    "tags": []
   },
   "outputs": [],
   "source": [
    "# Define loss function and optimizer\n",
    "criterion_cbf = nn.BCEWithLogitsLoss()\n",
    "optimizer_cbf = optim.Adam(cbf_model.parameters(), lr=0.001)"
   ]
  },
  {
   "cell_type": "code",
   "execution_count": 45,
   "id": "57a48824",
   "metadata": {
    "execution": {
     "iopub.execute_input": "2024-03-08T01:45:26.560882Z",
     "iopub.status.busy": "2024-03-08T01:45:26.560586Z",
     "iopub.status.idle": "2024-03-08T01:45:49.481637Z",
     "shell.execute_reply": "2024-03-08T01:45:49.480645Z"
    },
    "papermill": {
     "duration": 22.9502,
     "end_time": "2024-03-08T01:45:49.484093",
     "exception": false,
     "start_time": "2024-03-08T01:45:26.533893",
     "status": "completed"
    },
    "tags": []
   },
   "outputs": [
    {
     "data": {
      "application/vnd.jupyter.widget-view+json": {
       "model_id": "30dfab96a1c54d06ac57ad8edc00e37e",
       "version_major": 2,
       "version_minor": 0
      },
      "text/plain": [
       "Training Content based filtering model:   0%|          | 0/1 [00:00<?, ?it/s]"
      ]
     },
     "metadata": {},
     "output_type": "display_data"
    },
    {
     "data": {
      "application/vnd.jupyter.widget-view+json": {
       "model_id": "158efc8503434447a1dcbe8057f84b05",
       "version_major": 2,
       "version_minor": 0
      },
      "text/plain": [
       "  0%|          | 0/3230 [00:00<?, ?it/s]"
      ]
     },
     "metadata": {},
     "output_type": "display_data"
    },
    {
     "name": "stdout",
     "output_type": "stream",
     "text": [
      "Epoch 1/1, Average Loss: 0.3741\n"
     ]
    }
   ],
   "source": [
    "# Training loop\n",
    "epochs_cbf = 1 #total used around 3 epochs...\n",
    "\n",
    "for epoch in tqdm(range(epochs_cbf),desc='Training Content based filtering model'):\n",
    "    cbf_model.train()\n",
    "    total_loss_cbf = 0.0\n",
    "\n",
    "    for category_batch, author_batch, title_batch, sentiment_batch, target_batch in tqdm(cbf_dataloader):\n",
    "        category_batch, author_batch, title_batch, sentiment_batch, target_batch = category_batch.to(device), author_batch.to(device), title_batch.to(device), sentiment_batch.to(device), target_batch.to(device)\n",
    "        optimizer_cbf.zero_grad()\n",
    "        predictions_cbf = cbf_model(\n",
    "            category_batch, author_batch, title_batch, sentiment_batch\n",
    "        ).squeeze()\n",
    "        loss_cbf = criterion_cbf(\n",
    "            predictions_cbf, target_batch\n",
    "        )\n",
    "        loss_cbf.backward()\n",
    "        optimizer_cbf.step()\n",
    "        total_loss_cbf += loss_cbf.item()\n",
    "\n",
    "    average_loss = total_loss_cbf / len(cbf_dataloader)\n",
    "    print(f'Epoch {epoch + 1}/{epochs_cbf}, Average Loss: {average_loss:.4f}')"
   ]
  },
  {
   "cell_type": "markdown",
   "id": "fd2f098b",
   "metadata": {
    "papermill": {
     "duration": 0.02636,
     "end_time": "2024-03-08T01:45:49.537598",
     "exception": false,
     "start_time": "2024-03-08T01:45:49.511238",
     "status": "completed"
    },
    "tags": []
   },
   "source": [
    "**evaluating(not using evaluation metrics like f1score for now)**"
   ]
  },
  {
   "cell_type": "code",
   "execution_count": 46,
   "id": "4e9f21ba",
   "metadata": {
    "execution": {
     "iopub.execute_input": "2024-03-08T01:45:49.591380Z",
     "iopub.status.busy": "2024-03-08T01:45:49.591010Z",
     "iopub.status.idle": "2024-03-08T01:45:56.009656Z",
     "shell.execute_reply": "2024-03-08T01:45:56.008624Z"
    },
    "papermill": {
     "duration": 6.448168,
     "end_time": "2024-03-08T01:45:56.011804",
     "exception": false,
     "start_time": "2024-03-08T01:45:49.563636",
     "status": "completed"
    },
    "tags": []
   },
   "outputs": [
    {
     "name": "stdout",
     "output_type": "stream",
     "text": [
      "Evaluation Loss: 0.3389\n"
     ]
    }
   ],
   "source": [
    "# Evaluation loop\n",
    "cbf_model.eval()\n",
    "total_loss_cbf = 0.0\n",
    "\n",
    "with torch.inference_mode():\n",
    "    for category_batch, author_batch, title_batch, sentiment_batch, target_batch in cbf_dataloader:\n",
    "        category_batch, author_batch, title_batch, sentiment_batch, target_batch = category_batch.to(device), author_batch.to(device), title_batch.to(device), sentiment_batch.to(device), target_batch.to(device)\n",
    "        predictions_cbf = cbf_model(\n",
    "            category_batch, author_batch, title_batch, sentiment_batch\n",
    "        ).squeeze()\n",
    "        loss_cbf = criterion_cbf(\n",
    "            predictions_cbf, target_batch\n",
    "        )\n",
    "        total_loss_cbf += loss_cbf.item()\n",
    "\n",
    "    average_loss = total_loss_cbf / len(cbf_dataloader)\n",
    "    print(f'Evaluation Loss: {average_loss:.4f}')\n"
   ]
  },
  {
   "cell_type": "code",
   "execution_count": 47,
   "id": "503b2f05",
   "metadata": {
    "execution": {
     "iopub.execute_input": "2024-03-08T01:45:56.066325Z",
     "iopub.status.busy": "2024-03-08T01:45:56.065602Z",
     "iopub.status.idle": "2024-03-08T01:45:56.074038Z",
     "shell.execute_reply": "2024-03-08T01:45:56.073105Z"
    },
    "papermill": {
     "duration": 0.037568,
     "end_time": "2024-03-08T01:45:56.075908",
     "exception": false,
     "start_time": "2024-03-08T01:45:56.038340",
     "status": "completed"
    },
    "tags": []
   },
   "outputs": [
    {
     "name": "stdout",
     "output_type": "stream",
     "text": [
      "Predicted Sentiment: 3.5401\n"
     ]
    }
   ],
   "source": [
    "category_index = torch.tensor([0], dtype=torch.long)\n",
    "author_index = torch.tensor([0], dtype=torch.long)\n",
    "sentiment_index = torch.tensor([0], dtype=torch.long)\n",
    "title_index = torch.tensor([1], dtype=torch.long)\n",
    "category_index, author_index, title_index, sentiment_index= category_index.to(device), author_index.to(device), title_index.to(device), sentiment_index.to(device)\n",
    "prediction = cbf_model(category_index, author_index,sentiment_index,title_index).item()\n",
    "print(f'Predicted Sentiment: {prediction:.4f}')"
   ]
  },
  {
   "cell_type": "markdown",
   "id": "f722142b",
   "metadata": {
    "papermill": {
     "duration": 0.025762,
     "end_time": "2024-03-08T01:45:56.127756",
     "exception": false,
     "start_time": "2024-03-08T01:45:56.101994",
     "status": "completed"
    },
    "tags": []
   },
   "source": [
    "**saving the model**"
   ]
  },
  {
   "cell_type": "code",
   "execution_count": 48,
   "id": "8cb6c4b0",
   "metadata": {
    "execution": {
     "iopub.execute_input": "2024-03-08T01:45:56.181364Z",
     "iopub.status.busy": "2024-03-08T01:45:56.180723Z",
     "iopub.status.idle": "2024-03-08T01:45:56.357131Z",
     "shell.execute_reply": "2024-03-08T01:45:56.356222Z"
    },
    "papermill": {
     "duration": 0.205964,
     "end_time": "2024-03-08T01:45:56.359252",
     "exception": false,
     "start_time": "2024-03-08T01:45:56.153288",
     "status": "completed"
    },
    "tags": []
   },
   "outputs": [
    {
     "name": "stdout",
     "output_type": "stream",
     "text": [
      "Model saved to content_based_filtering_model.pth\n"
     ]
    }
   ],
   "source": [
    "# Save the collaborative filtering model\n",
    "model_path = 'content_based_filtering_model.pth'\n",
    "# Save the entire model\n",
    "torch.save(cbf_model, model_path)\n",
    "print(f'Model saved to {model_path}')\n"
   ]
  },
  {
   "cell_type": "markdown",
   "id": "f763ad5e",
   "metadata": {
    "papermill": {
     "duration": 0.030181,
     "end_time": "2024-03-08T01:45:56.419817",
     "exception": false,
     "start_time": "2024-03-08T01:45:56.389636",
     "status": "completed"
    },
    "tags": []
   },
   "source": [
    "**retrieving the model**"
   ]
  },
  {
   "cell_type": "code",
   "execution_count": 49,
   "id": "1660a7da",
   "metadata": {
    "execution": {
     "iopub.execute_input": "2024-03-08T01:45:56.482974Z",
     "iopub.status.busy": "2024-03-08T01:45:56.481942Z",
     "iopub.status.idle": "2024-03-08T01:45:57.365138Z",
     "shell.execute_reply": "2024-03-08T01:45:57.364195Z"
    },
    "papermill": {
     "duration": 0.916928,
     "end_time": "2024-03-08T01:45:57.367287",
     "exception": false,
     "start_time": "2024-03-08T01:45:56.450359",
     "status": "completed"
    },
    "tags": []
   },
   "outputs": [
    {
     "data": {
      "text/plain": [
       "ContentBasedFilteringModel(\n",
       "  (category_embedding): Embedding(10669, 64)\n",
       "  (author_embedding): Embedding(124098, 64)\n",
       "  (title_embedding): Embedding(206711, 64)\n",
       "  (sentiment_linear): Linear(in_features=256, out_features=1, bias=True)\n",
       ")"
      ]
     },
     "execution_count": 49,
     "metadata": {},
     "output_type": "execute_result"
    }
   ],
   "source": [
    "model_path=\"/kaggle/input/content-based-filtering-model/content_based_filtering_model.pth\"\n",
    "# Load the entire model\n",
    "cbf_model = torch.load(model_path, map_location=device)\n",
    "cbf_model.to(device)"
   ]
  },
  {
   "cell_type": "markdown",
   "id": "e76ef0a4",
   "metadata": {
    "papermill": {
     "duration": 0.026115,
     "end_time": "2024-03-08T01:45:57.421421",
     "exception": false,
     "start_time": "2024-03-08T01:45:57.395306",
     "status": "completed"
    },
    "tags": []
   },
   "source": [
    "## Hybrid Model"
   ]
  },
  {
   "cell_type": "markdown",
   "id": "9f2585e0",
   "metadata": {
    "papermill": {
     "duration": 0.026237,
     "end_time": "2024-03-08T01:45:57.474168",
     "exception": false,
     "start_time": "2024-03-08T01:45:57.447931",
     "status": "completed"
    },
    "tags": []
   },
   "source": [
    "**Getting Recommendations Using Collaborative Filtering Model**"
   ]
  },
  {
   "cell_type": "code",
   "execution_count": 50,
   "id": "69e01729",
   "metadata": {
    "execution": {
     "iopub.execute_input": "2024-03-08T01:45:57.528276Z",
     "iopub.status.busy": "2024-03-08T01:45:57.527920Z",
     "iopub.status.idle": "2024-03-08T01:45:57.533440Z",
     "shell.execute_reply": "2024-03-08T01:45:57.532576Z"
    },
    "papermill": {
     "duration": 0.03483,
     "end_time": "2024-03-08T01:45:57.535273",
     "exception": false,
     "start_time": "2024-03-08T01:45:57.500443",
     "status": "completed"
    },
    "tags": []
   },
   "outputs": [],
   "source": [
    "def get_collaborative_recommendations(model, title, num_recommendations=100):\n",
    "    \n",
    "    \n",
    "    #item_to_index = {title: idx for idx, title in enumerate(item_ids)}\n",
    "    # Get index of the input title\n",
    "    input_title_index = item_to_index[title] # have already declared this before in above cells\n",
    "\n",
    "    # Get recommendations using the collaborative filtering model\n",
    "    model.eval()\n",
    "    with torch.inference_mode():\n",
    "        # Call the custom method to get similar titles\n",
    "        similar_titles = model.get_similar_titles(input_title_index, top_k=num_recommendations)\n",
    "\n",
    "    \n",
    "    # Return the recommended titles\n",
    "    return similar_titles\n"
   ]
  },
  {
   "cell_type": "code",
   "execution_count": 51,
   "id": "fb32aab6",
   "metadata": {
    "execution": {
     "iopub.execute_input": "2024-03-08T01:45:57.589213Z",
     "iopub.status.busy": "2024-03-08T01:45:57.588886Z",
     "iopub.status.idle": "2024-03-08T01:45:57.682807Z",
     "shell.execute_reply": "2024-03-08T01:45:57.681888Z"
    },
    "papermill": {
     "duration": 0.12386,
     "end_time": "2024-03-08T01:45:57.685154",
     "exception": false,
     "start_time": "2024-03-08T01:45:57.561294",
     "status": "completed"
    },
    "tags": []
   },
   "outputs": [],
   "source": [
    "input_title = \"The Universe and Dr. Einstein\"\n",
    "collab_recommendations = get_collaborative_recommendations(model, input_title,num_recommendations=1000)"
   ]
  },
  {
   "cell_type": "code",
   "execution_count": 52,
   "id": "beaf08c6",
   "metadata": {
    "execution": {
     "iopub.execute_input": "2024-03-08T01:45:57.740401Z",
     "iopub.status.busy": "2024-03-08T01:45:57.740094Z",
     "iopub.status.idle": "2024-03-08T01:45:57.746018Z",
     "shell.execute_reply": "2024-03-08T01:45:57.745246Z"
    },
    "papermill": {
     "duration": 0.035098,
     "end_time": "2024-03-08T01:45:57.747876",
     "exception": false,
     "start_time": "2024-03-08T01:45:57.712778",
     "status": "completed"
    },
    "tags": []
   },
   "outputs": [
    {
     "data": {
      "text/plain": [
       "['The Universe and Dr. Einstein',\n",
       " 'Teaching for Comprehension in Reading, Grades K-2',\n",
       " 'Make Someone Happy',\n",
       " 'The Bishopric: A Handbook on Creating Episcopacy in the African-American Pentecostal Church',\n",
       " 'Berserk, Vol. 9',\n",
       " 'The Long Dark',\n",
       " 'Miracles in Action',\n",
       " \"The Advanced Pilot's Flight Manual, Seventh Edition\",\n",
       " \"Nicey And Wifey's Nice Cup Of Tea And A Sit Down\",\n",
       " 'Dance of Darkness (Winds of Light #8)']"
      ]
     },
     "execution_count": 52,
     "metadata": {},
     "output_type": "execute_result"
    }
   ],
   "source": [
    "collab_recommendations[:10]"
   ]
  },
  {
   "cell_type": "code",
   "execution_count": 53,
   "id": "b604f760",
   "metadata": {
    "execution": {
     "iopub.execute_input": "2024-03-08T01:45:57.801398Z",
     "iopub.status.busy": "2024-03-08T01:45:57.800738Z",
     "iopub.status.idle": "2024-03-08T01:45:57.806228Z",
     "shell.execute_reply": "2024-03-08T01:45:57.805380Z"
    },
    "papermill": {
     "duration": 0.034386,
     "end_time": "2024-03-08T01:45:57.808285",
     "exception": false,
     "start_time": "2024-03-08T01:45:57.773899",
     "status": "completed"
    },
    "tags": []
   },
   "outputs": [
    {
     "data": {
      "text/plain": [
       "206711"
      ]
     },
     "execution_count": 53,
     "metadata": {},
     "output_type": "execute_result"
    }
   ],
   "source": [
    "len(item_to_index)"
   ]
  },
  {
   "cell_type": "markdown",
   "id": "abbb6db1",
   "metadata": {
    "papermill": {
     "duration": 0.025749,
     "end_time": "2024-03-08T01:45:57.860314",
     "exception": false,
     "start_time": "2024-03-08T01:45:57.834565",
     "status": "completed"
    },
    "tags": []
   },
   "source": [
    "**FILTERING AND SORTING THE RECOMMENDED LIST OF BOOKS BY COLLABORATIVE FILTERING MODEL USING CONTENT BASED FILTERING MODEL**"
   ]
  },
  {
   "cell_type": "code",
   "execution_count": 54,
   "id": "512f4d15",
   "metadata": {
    "execution": {
     "iopub.execute_input": "2024-03-08T01:45:57.915963Z",
     "iopub.status.busy": "2024-03-08T01:45:57.915614Z",
     "iopub.status.idle": "2024-03-08T01:45:57.924779Z",
     "shell.execute_reply": "2024-03-08T01:45:57.924052Z"
    },
    "papermill": {
     "duration": 0.039754,
     "end_time": "2024-03-08T01:45:57.926538",
     "exception": false,
     "start_time": "2024-03-08T01:45:57.886784",
     "status": "completed"
    },
    "tags": []
   },
   "outputs": [],
   "source": [
    "def get_content_based_recommendations(content_based_model, collaborative_recommendations):\n",
    "    # Assuming you have a mapping of titles to details (categories, authors, sentiment_scores)\n",
    "    #nested dictionary\n",
    "    title_details = title_sentiment_aggregated.set_index('Title')[['categories', 'authors', 'sentiment_score']].to_dict(orient='index')\n",
    "    \n",
    "    # Extract details for collaborative recommendations\n",
    "    details = [title_details[title] for title in collaborative_recommendations]\n",
    "\n",
    "    # Convert details to tensors\n",
    "    category_indices = torch.tensor([category_to_index[detail['categories']] for detail in details], dtype=torch.long)\n",
    "    author_indices = torch.tensor([author_to_index[detail['authors']] for detail in details], dtype=torch.long)\n",
    "    title_indices = torch.tensor([title_to_index[title] for title in collaborative_recommendations], dtype=torch.long)\n",
    "    sentiment_scores = torch.tensor([detail['sentiment_score'] for detail in details], dtype=torch.float32)\n",
    "    category_indices, author_indices, title_indices, sentiment_scores= category_indices.to(device), author_indices.to(device), title_indices.to(device), sentiment_scores.to(device)\n",
    "    # Assuming you have a function to get predictions from the content-based model\n",
    "    content_based_model.eval()\n",
    "    with torch.inference_mode():\n",
    "        predictions = content_based_model(category_indices, author_indices, title_indices, sentiment_scores)\n",
    "    \n",
    "    # Sort titles based on the predictions\n",
    "    sorted_titles = [title for _, title in sorted(zip(predictions, collaborative_recommendations), reverse=True)]\n",
    "\n",
    "    # Return the sorted titles\n",
    "    return sorted_titles\n"
   ]
  },
  {
   "cell_type": "markdown",
   "id": "2988787c",
   "metadata": {
    "papermill": {
     "duration": 0.025681,
     "end_time": "2024-03-08T01:45:57.978784",
     "exception": false,
     "start_time": "2024-03-08T01:45:57.953103",
     "status": "completed"
    },
    "tags": []
   },
   "source": [
    "**EXPLAINATION FOR THIS LINE: \"sorted_titles = [title for _, title in sorted(zip(predictions, collaborative_recommendations), reverse=True)]\"**\n",
    ">zip(predictions, collaborative_recommendations): This creates pairs of corresponding elements from predictions and collaborative_recommendations. For example, if predictions are [0.8, 0.6, 0.9] and collaborative_recommendations are ['Book1', 'Book2', 'Book3'], this creates pairs like [(0.8, 'Book1'), (0.6, 'Book2'), (0.9, 'Book3')].\n",
    ">\n",
    ">sorted(..., reverse=True): This sorts the pairs in descending order based on the first element of each pair (the predictions). So, in the example, it would become [(0.9, 'Book3'), (0.8, 'Book1'), (0.6, 'Book2')].\n",
    ">\n",
    ">[title for _, title in ...]: This extracts the titles from the sorted pairs. The underscore _ is used to represent the predictions, but since we are interested in titles, we only keep the titles."
   ]
  },
  {
   "cell_type": "code",
   "execution_count": 55,
   "id": "6b1ce84a",
   "metadata": {
    "execution": {
     "iopub.execute_input": "2024-03-08T01:45:58.032277Z",
     "iopub.status.busy": "2024-03-08T01:45:58.031948Z",
     "iopub.status.idle": "2024-03-08T01:45:59.646196Z",
     "shell.execute_reply": "2024-03-08T01:45:59.645043Z"
    },
    "papermill": {
     "duration": 1.643647,
     "end_time": "2024-03-08T01:45:59.648570",
     "exception": false,
     "start_time": "2024-03-08T01:45:58.004923",
     "status": "completed"
    },
    "tags": []
   },
   "outputs": [],
   "source": [
    "r=get_content_based_recommendations(cbf_model,collab_recommendations)"
   ]
  },
  {
   "cell_type": "code",
   "execution_count": 56,
   "id": "24484265",
   "metadata": {
    "execution": {
     "iopub.execute_input": "2024-03-08T01:45:59.702866Z",
     "iopub.status.busy": "2024-03-08T01:45:59.702519Z",
     "iopub.status.idle": "2024-03-08T01:45:59.709047Z",
     "shell.execute_reply": "2024-03-08T01:45:59.708188Z"
    },
    "papermill": {
     "duration": 0.03572,
     "end_time": "2024-03-08T01:45:59.710927",
     "exception": false,
     "start_time": "2024-03-08T01:45:59.675207",
     "status": "completed"
    },
    "tags": []
   },
   "outputs": [
    {
     "data": {
      "text/plain": [
       "['Shaken & Stirred',\n",
       " \"They Were Ours : Gloucester County's Loss in Vietnam\",\n",
       " 'Electromagnetic Devices',\n",
       " 'The Decline of American Liberalism',\n",
       " 'The Zaddik: The Doctrine of the Zaddik According to the Writings of Rabbi Yaakov Yosef of Polnoy',\n",
       " 'Masterpieces of Western Art: A History of Art in 900 Individual Studies (Jumbo) (Slipcased) 2 volumes',\n",
       " 'Kahlo (Basic Art)',\n",
       " 'Linear Estimation',\n",
       " 'The Maritime Paintings of Montague Dawson',\n",
       " 'MATH AND LITERATURE (K-3): BOOK ONE (Math & Literature (K-3))']"
      ]
     },
     "execution_count": 56,
     "metadata": {},
     "output_type": "execute_result"
    }
   ],
   "source": [
    "r[:10]"
   ]
  },
  {
   "cell_type": "code",
   "execution_count": 57,
   "id": "6d2b2d05",
   "metadata": {
    "execution": {
     "iopub.execute_input": "2024-03-08T01:45:59.764672Z",
     "iopub.status.busy": "2024-03-08T01:45:59.764363Z",
     "iopub.status.idle": "2024-03-08T01:45:59.769619Z",
     "shell.execute_reply": "2024-03-08T01:45:59.768771Z"
    },
    "papermill": {
     "duration": 0.034172,
     "end_time": "2024-03-08T01:45:59.771487",
     "exception": false,
     "start_time": "2024-03-08T01:45:59.737315",
     "status": "completed"
    },
    "tags": []
   },
   "outputs": [],
   "source": [
    "def partial_name_matching(partial_name, all_books):\n",
    "    matching_titles = [title for title in all_books if partial_name.lower() in title.lower()]\n",
    "    \n",
    "    # Use a set to ensure uniqueness\n",
    "    unique_matching_titles = set(matching_titles)\n",
    "    \n",
    "    # Format the output as a string\n",
    "    output_string = \"\\n\".join(unique_matching_titles)\n",
    "    \n",
    "    return output_string\n"
   ]
  },
  {
   "cell_type": "code",
   "execution_count": 58,
   "id": "3a797438",
   "metadata": {
    "execution": {
     "iopub.execute_input": "2024-03-08T01:45:59.826079Z",
     "iopub.status.busy": "2024-03-08T01:45:59.825315Z",
     "iopub.status.idle": "2024-03-08T01:46:00.675446Z",
     "shell.execute_reply": "2024-03-08T01:46:00.674571Z"
    },
    "papermill": {
     "duration": 0.879601,
     "end_time": "2024-03-08T01:46:00.677426",
     "exception": false,
     "start_time": "2024-03-08T01:45:59.797825",
     "status": "completed"
    },
    "tags": []
   },
   "outputs": [
    {
     "name": "stdout",
     "output_type": "stream",
     "text": [
      "Yet Another Introduction to Analysis\n",
      "Introduction to Analysis of Variance: Design, Analyis & Interpretation\n",
      "FORM IN TONAL MUSIC an Introduction to Analysis\n",
      "Introduction to Analysis\n",
      "Labor and the Economy: An Introduction to Analysis, Issues, and Institutions\n",
      "An Introduction To Analysis\n",
      "An Introduction to Analysis and Integration Theory (The Intext Series in Advanced Mathematics)\n"
     ]
    }
   ],
   "source": [
    "print( partial_name_matching('introduction to analy',merged_df['Title'] ))"
   ]
  },
  {
   "cell_type": "code",
   "execution_count": 59,
   "id": "502b38af",
   "metadata": {
    "execution": {
     "iopub.execute_input": "2024-03-08T01:46:00.732961Z",
     "iopub.status.busy": "2024-03-08T01:46:00.732657Z",
     "iopub.status.idle": "2024-03-08T01:46:00.774476Z",
     "shell.execute_reply": "2024-03-08T01:46:00.773635Z"
    },
    "papermill": {
     "duration": 0.083041,
     "end_time": "2024-03-08T01:46:00.787340",
     "exception": false,
     "start_time": "2024-03-08T01:46:00.704299",
     "status": "completed"
    },
    "tags": []
   },
   "outputs": [
    {
     "data": {
      "application/vnd.jupyter.widget-view+json": {
       "model_id": "6d433e10bfe14c35bc6fb251634a7c46",
       "version_major": 2,
       "version_minor": 0
      },
      "text/plain": [
       "Text(value='', placeholder='Enter partial book name')"
      ]
     },
     "metadata": {},
     "output_type": "display_data"
    },
    {
     "data": {
      "application/vnd.jupyter.widget-view+json": {
       "model_id": "eebda961552a4db4a338d5a7b2b68f5a",
       "version_major": 2,
       "version_minor": 0
      },
      "text/plain": [
       "Output()"
      ]
     },
     "metadata": {},
     "output_type": "display_data"
    },
    {
     "data": {
      "application/vnd.jupyter.widget-view+json": {
       "model_id": "0a57d9a9c9374bcfba62cb13450f8ced",
       "version_major": 2,
       "version_minor": 0
      },
      "text/plain": [
       "Text(value='', placeholder='Use recommended book name')"
      ]
     },
     "metadata": {},
     "output_type": "display_data"
    },
    {
     "data": {
      "application/vnd.jupyter.widget-view+json": {
       "model_id": "ee1225bdc0d54989876c217f475d7e48",
       "version_major": 2,
       "version_minor": 0
      },
      "text/plain": [
       "Output()"
      ]
     },
     "metadata": {},
     "output_type": "display_data"
    },
    {
     "data": {
      "application/vnd.jupyter.widget-view+json": {
       "model_id": "aead7e99e3544530b8c1ba2bff53d5bb",
       "version_major": 2,
       "version_minor": 0
      },
      "text/plain": [
       "Button(description='Previous', style=ButtonStyle())"
      ]
     },
     "metadata": {},
     "output_type": "display_data"
    },
    {
     "data": {
      "application/vnd.jupyter.widget-view+json": {
       "model_id": "bfa7df6f9b994e1bb35faeed67b0b9b7",
       "version_major": 2,
       "version_minor": 0
      },
      "text/plain": [
       "Button(description='Next', style=ButtonStyle())"
      ]
     },
     "metadata": {},
     "output_type": "display_data"
    },
    {
     "data": {
      "application/vnd.jupyter.widget-view+json": {
       "model_id": "66e1e1582b2b433c89082c752f986aa2",
       "version_major": 2,
       "version_minor": 0
      },
      "text/plain": [
       "Button(description='Show Recommendations', style=ButtonStyle())"
      ]
     },
     "metadata": {},
     "output_type": "display_data"
    }
   ],
   "source": [
    "import ipywidgets as widgets\n",
    "from IPython.display import display\n",
    "\n",
    "start_index = 0\n",
    "items_per_page = 10\n",
    "last_recommended_name = None  # To track changes in recommended book name\n",
    "\n",
    "\n",
    "# Create two text input widgets\n",
    "partial_name_input = widgets.Text(placeholder='Enter partial book name')\n",
    "recommended_name_input = widgets.Text(placeholder='Use recommended book name')\n",
    "\n",
    "# Create buttons for pagination\n",
    "prev_button = widgets.Button(description='Previous')\n",
    "next_button = widgets.Button(description='Next')\n",
    "\n",
    "# Create a button to show recommendations\n",
    "show_recommendations_button = widgets.Button(description='Show Recommendations')\n",
    "\n",
    "\n",
    "# Create an output widget to display recommendations\n",
    "output_recommendations = widgets.Output()\n",
    "output_names = widgets.Output()\n",
    "\n",
    "# Placeholder function for getting recommendations\n",
    "def partial_name_matching(partial_name, all_titles, limit=None):\n",
    "    # Placeholder logic - find unique titles containing the partial name\n",
    "    matching_titles = set(title for title in all_titles if partial_name.lower() in title.lower())\n",
    "\n",
    "    # Convert the set back to a list\n",
    "    matching_titles = list(matching_titles)\n",
    "\n",
    "    # Limit the number of results if a limit is specified\n",
    "    if limit:\n",
    "        matching_titles = matching_titles[:limit]\n",
    "\n",
    "    return matching_titles\n",
    "\n",
    "# Create an output widget to display recommendations\n",
    "output_recommendations = widgets.Output()\n",
    "\n",
    "def on_partial_name_change(change):\n",
    "    partial_name = change.new\n",
    "    if partial_name:\n",
    "        # Call your partial_name_matching function\n",
    "        matching_titles = partial_name_matching(partial_name, merged_df['Title'], limit=5)\n",
    "        \n",
    "        # Update the output widget\n",
    "        with output_names:\n",
    "            output_names.clear_output(wait=True)\n",
    "            print(\"\\n\".join(matching_titles))\n",
    "\n",
    "# Attach the on_partial_name_change function to observe changes in the text input\n",
    "partial_name_input.observe(on_partial_name_change, names='value')\n",
    "\n",
    "# Create a callback for the second text input\n",
    "def on_recommended_name_change(change):\n",
    "    recommended_name = change.new\n",
    "    \n",
    "def on_show_recommendations_button_click(_):\n",
    "    global last_recommended_name,start_index\n",
    "    recommended_name = recommended_name_input.value\n",
    "    if recommended_name :\n",
    "        if recommended_name != last_recommended_name:\n",
    "            start_index=0\n",
    "            # Call your function to get recommendations based on the recommended book name\n",
    "        recommendations_based_on_recommended_name =get_collaborative_recommendations(model,recommended_name,num_recommendations=1000)\n",
    "\n",
    "        recommendations_based_on_recommended_name=get_content_based_recommendations(cbf_model,recommendations_based_on_recommended_name)\n",
    "            \n",
    "        last_recommended_name = recommended_name\n",
    "        # Exclude the recommended book from the list\n",
    "        recommendations_without_recommended_book = [title for title in recommendations_based_on_recommended_name if title != recommended_name][start_index:start_index+items_per_page]\n",
    "\n",
    "            # Update the output widget\n",
    "        with output_recommendations:\n",
    "            output_recommendations.clear_output(wait=True)\n",
    "            print(\"\\n\".join(recommendations_without_recommended_book))\n",
    "\n",
    "\n",
    "\n",
    "# Create a callback for the previous button\n",
    "def on_prev_button_click(_):\n",
    "    global start_index\n",
    "    start_index = max(0, start_index - items_per_page)\n",
    "    on_show_recommendations_button_click(None)  # Refresh recommendations based on the current partial name\n",
    "\n",
    "# Create a callback for the next button\n",
    "def on_next_button_click(_):\n",
    "    global start_index\n",
    "    start_index += items_per_page\n",
    "    on_show_recommendations_button_click(None)  # Refresh recommendations based on the current partial name\n",
    "\n",
    "# Attach callbacks to buttons\n",
    "show_recommendations_button.on_click(on_show_recommendations_button_click)\n",
    "prev_button.on_click(on_prev_button_click)\n",
    "next_button.on_click(on_next_button_click)\n",
    "# Attach the on_recommended_name_change function to observe changes in the second text input\n",
    "recommended_name_input.observe(on_recommended_name_change, names='value')\n",
    "\n",
    "# Display the widgets\n",
    "display(partial_name_input)\n",
    "display(output_names)\n",
    "display(recommended_name_input)\n",
    "display(output_recommendations)\n",
    "\n",
    "display(prev_button)\n",
    "display(next_button)\n",
    "display(show_recommendations_button)"
   ]
  },
  {
   "cell_type": "markdown",
   "id": "450ab159",
   "metadata": {
    "papermill": {
     "duration": 0.027106,
     "end_time": "2024-03-08T01:46:00.842809",
     "exception": false,
     "start_time": "2024-03-08T01:46:00.815703",
     "status": "completed"
    },
    "tags": []
   },
   "source": [
    "**there are too many categories, i dont think i will be able to filter them in a proper way**"
   ]
  },
  {
   "cell_type": "code",
   "execution_count": 60,
   "id": "7c895015",
   "metadata": {
    "execution": {
     "iopub.execute_input": "2024-03-08T01:46:00.899326Z",
     "iopub.status.busy": "2024-03-08T01:46:00.898540Z",
     "iopub.status.idle": "2024-03-08T01:46:01.110867Z",
     "shell.execute_reply": "2024-03-08T01:46:01.109925Z"
    },
    "papermill": {
     "duration": 0.242872,
     "end_time": "2024-03-08T01:46:01.113041",
     "exception": false,
     "start_time": "2024-03-08T01:46:00.870169",
     "status": "completed"
    },
    "tags": []
   },
   "outputs": [
    {
     "data": {
      "text/plain": [
       "10669"
      ]
     },
     "execution_count": 60,
     "metadata": {},
     "output_type": "execute_result"
    }
   ],
   "source": [
    "len(merged_df['categories'].unique())"
   ]
  },
  {
   "cell_type": "code",
   "execution_count": 61,
   "id": "473b50c0",
   "metadata": {
    "execution": {
     "iopub.execute_input": "2024-03-08T01:46:01.172398Z",
     "iopub.status.busy": "2024-03-08T01:46:01.172105Z",
     "iopub.status.idle": "2024-03-08T01:46:01.186634Z",
     "shell.execute_reply": "2024-03-08T01:46:01.185780Z"
    },
    "papermill": {
     "duration": 0.048254,
     "end_time": "2024-03-08T01:46:01.189840",
     "exception": false,
     "start_time": "2024-03-08T01:46:01.141586",
     "status": "completed"
    },
    "tags": []
   },
   "outputs": [
    {
     "data": {
      "application/vnd.jupyter.widget-view+json": {
       "model_id": "cb4d021c4f84454c936304263782ed59",
       "version_major": 2,
       "version_minor": 0
      },
      "text/plain": [
       "Text(value='', placeholder='Enter partial category name')"
      ]
     },
     "metadata": {},
     "output_type": "display_data"
    },
    {
     "data": {
      "application/vnd.jupyter.widget-view+json": {
       "model_id": "330e6966464f4bfb86885e0a7a0f020c",
       "version_major": 2,
       "version_minor": 0
      },
      "text/plain": [
       "Output()"
      ]
     },
     "metadata": {},
     "output_type": "display_data"
    }
   ],
   "source": [
    "import ipywidgets as widgets\n",
    "from IPython.display import display\n",
    "\n",
    "# Create a text input widget for partial category name\n",
    "partial_category_input = widgets.Text(placeholder='Enter partial category name')\n",
    "\n",
    "# Create an output widget to display filtered recommendations\n",
    "output_filtered_recommendations = widgets.Output()\n",
    "\n",
    "def on_partial_category_change(change):\n",
    "    partial_category = change.new\n",
    "    \n",
    "    if partial_category:\n",
    "        # Filter recommendations based on the partial category name\n",
    "        filtered_recommendations = [title for title in merged_df['categories'].unique() if partial_category.lower() in title.lower()][:10]\n",
    "        \n",
    "        # Update the output widget\n",
    "        with output_filtered_recommendations:\n",
    "            output_filtered_recommendations.clear_output(wait=True)\n",
    "            print(\"\\n\".join(filtered_recommendations))\n",
    "\n",
    "# Attach the on_partial_category_change function to observe changes in the text input\n",
    "partial_category_input.observe(on_partial_category_change, names='value')\n",
    "\n",
    "# Display the widgets\n",
    "display(partial_category_input)\n",
    "display(output_filtered_recommendations)\n"
   ]
  },
  {
   "cell_type": "markdown",
   "id": "b40e3aa0",
   "metadata": {
    "papermill": {
     "duration": 0.028196,
     "end_time": "2024-03-08T01:46:01.246846",
     "exception": false,
     "start_time": "2024-03-08T01:46:01.218650",
     "status": "completed"
    },
    "tags": []
   },
   "source": [
    "**I will Stop here for now!**"
   ]
  },
  {
   "cell_type": "code",
   "execution_count": null,
   "id": "2d80381d",
   "metadata": {
    "papermill": {
     "duration": 0.027701,
     "end_time": "2024-03-08T01:46:01.302291",
     "exception": false,
     "start_time": "2024-03-08T01:46:01.274590",
     "status": "completed"
    },
    "tags": []
   },
   "outputs": [],
   "source": []
  }
 ],
 "metadata": {
  "kaggle": {
   "accelerator": "gpu",
   "dataSources": [
    {
     "datasetId": 2476732,
     "sourceId": 4200454,
     "sourceType": "datasetVersion"
    },
    {
     "datasetId": 4296815,
     "sourceId": 7391354,
     "sourceType": "datasetVersion"
    },
    {
     "datasetId": 4304376,
     "sourceId": 7402225,
     "sourceType": "datasetVersion"
    },
    {
     "datasetId": 4338523,
     "sourceId": 7453808,
     "sourceType": "datasetVersion"
    },
    {
     "datasetId": 4350935,
     "sourceId": 7473574,
     "sourceType": "datasetVersion"
    },
    {
     "datasetId": 4361279,
     "sourceId": 7490778,
     "sourceType": "datasetVersion"
    }
   ],
   "isGpuEnabled": true,
   "isInternetEnabled": true,
   "language": "python",
   "sourceType": "notebook"
  },
  "kernelspec": {
   "display_name": "Python 3",
   "language": "python",
   "name": "python3"
  },
  "language_info": {
   "codemirror_mode": {
    "name": "ipython",
    "version": 3
   },
   "file_extension": ".py",
   "mimetype": "text/x-python",
   "name": "python",
   "nbconvert_exporter": "python",
   "pygments_lexer": "ipython3",
   "version": "3.10.13"
  },
  "papermill": {
   "default_parameters": {},
   "duration": 4549.888434,
   "end_time": "2024-03-08T01:46:04.361289",
   "environment_variables": {},
   "exception": null,
   "input_path": "__notebook__.ipynb",
   "output_path": "__notebook__.ipynb",
   "parameters": {},
   "start_time": "2024-03-08T00:30:14.472855",
   "version": "2.5.0"
  },
  "widgets": {
   "application/vnd.jupyter.widget-state+json": {
    "state": {
     "00ab6f3f48404cf9bdbb70a65fdd3656": {
      "model_module": "@jupyter-widgets/controls",
      "model_module_version": "1.5.0",
      "model_name": "HBoxModel",
      "state": {
       "_dom_classes": [],
       "_model_module": "@jupyter-widgets/controls",
       "_model_module_version": "1.5.0",
       "_model_name": "HBoxModel",
       "_view_count": null,
       "_view_module": "@jupyter-widgets/controls",
       "_view_module_version": "1.5.0",
       "_view_name": "HBoxView",
       "box_style": "",
       "children": [
        "IPY_MODEL_ec07be0e6be048e890c0be61492d2b64",
        "IPY_MODEL_821ce31c66184257946590dd447f375d",
        "IPY_MODEL_fd645b3b19794602b514e86bdf9b7ae8"
       ],
       "layout": "IPY_MODEL_a5bae4d3ac714b9bb533367c4db3388d"
      }
     },
     "00f7823916034b048bbca017e5d6fa5a": {
      "model_module": "@jupyter-widgets/controls",
      "model_module_version": "1.5.0",
      "model_name": "DescriptionStyleModel",
      "state": {
       "_model_module": "@jupyter-widgets/controls",
       "_model_module_version": "1.5.0",
       "_model_name": "DescriptionStyleModel",
       "_view_count": null,
       "_view_module": "@jupyter-widgets/base",
       "_view_module_version": "1.2.0",
       "_view_name": "StyleView",
       "description_width": ""
      }
     },
     "02799092d7e14cf7a000eef9221a172e": {
      "model_module": "@jupyter-widgets/base",
      "model_module_version": "1.2.0",
      "model_name": "LayoutModel",
      "state": {
       "_model_module": "@jupyter-widgets/base",
       "_model_module_version": "1.2.0",
       "_model_name": "LayoutModel",
       "_view_count": null,
       "_view_module": "@jupyter-widgets/base",
       "_view_module_version": "1.2.0",
       "_view_name": "LayoutView",
       "align_content": null,
       "align_items": null,
       "align_self": null,
       "border": null,
       "bottom": null,
       "display": null,
       "flex": null,
       "flex_flow": null,
       "grid_area": null,
       "grid_auto_columns": null,
       "grid_auto_flow": null,
       "grid_auto_rows": null,
       "grid_column": null,
       "grid_gap": null,
       "grid_row": null,
       "grid_template_areas": null,
       "grid_template_columns": null,
       "grid_template_rows": null,
       "height": null,
       "justify_content": null,
       "justify_items": null,
       "left": null,
       "margin": null,
       "max_height": null,
       "max_width": null,
       "min_height": null,
       "min_width": null,
       "object_fit": null,
       "object_position": null,
       "order": null,
       "overflow": null,
       "overflow_x": null,
       "overflow_y": null,
       "padding": null,
       "right": null,
       "top": null,
       "visibility": null,
       "width": null
      }
     },
     "0a57d9a9c9374bcfba62cb13450f8ced": {
      "model_module": "@jupyter-widgets/controls",
      "model_module_version": "1.5.0",
      "model_name": "TextModel",
      "state": {
       "_dom_classes": [],
       "_model_module": "@jupyter-widgets/controls",
       "_model_module_version": "1.5.0",
       "_model_name": "TextModel",
       "_view_count": null,
       "_view_module": "@jupyter-widgets/controls",
       "_view_module_version": "1.5.0",
       "_view_name": "TextView",
       "continuous_update": true,
       "description": "",
       "description_tooltip": null,
       "disabled": false,
       "layout": "IPY_MODEL_02799092d7e14cf7a000eef9221a172e",
       "placeholder": "Use recommended book name",
       "style": "IPY_MODEL_00f7823916034b048bbca017e5d6fa5a",
       "value": ""
      }
     },
     "0bcaf780444245d2b9a5991fcffaeca8": {
      "model_module": "@jupyter-widgets/controls",
      "model_module_version": "1.5.0",
      "model_name": "HBoxModel",
      "state": {
       "_dom_classes": [],
       "_model_module": "@jupyter-widgets/controls",
       "_model_module_version": "1.5.0",
       "_model_name": "HBoxModel",
       "_view_count": null,
       "_view_module": "@jupyter-widgets/controls",
       "_view_module_version": "1.5.0",
       "_view_name": "HBoxView",
       "box_style": "",
       "children": [
        "IPY_MODEL_4ac34d92c27c4fec95fd4fa416ac4736",
        "IPY_MODEL_69ef5409f5c5477082edec8032b306c9",
        "IPY_MODEL_c1bc253394264caeb803e10a35dabc1d"
       ],
       "layout": "IPY_MODEL_133a5624e3044d46bfd8bb8e548d2a4c"
      }
     },
     "0d2fba51363842089d5512e06cd3128a": {
      "model_module": "@jupyter-widgets/controls",
      "model_module_version": "1.5.0",
      "model_name": "DescriptionStyleModel",
      "state": {
       "_model_module": "@jupyter-widgets/controls",
       "_model_module_version": "1.5.0",
       "_model_name": "DescriptionStyleModel",
       "_view_count": null,
       "_view_module": "@jupyter-widgets/base",
       "_view_module_version": "1.2.0",
       "_view_name": "StyleView",
       "description_width": ""
      }
     },
     "0f6c4c1bad4348d5b2f97dc76cb3df75": {
      "model_module": "@jupyter-widgets/controls",
      "model_module_version": "1.5.0",
      "model_name": "ProgressStyleModel",
      "state": {
       "_model_module": "@jupyter-widgets/controls",
       "_model_module_version": "1.5.0",
       "_model_name": "ProgressStyleModel",
       "_view_count": null,
       "_view_module": "@jupyter-widgets/base",
       "_view_module_version": "1.2.0",
       "_view_name": "StyleView",
       "bar_color": null,
       "description_width": ""
      }
     },
     "133a5624e3044d46bfd8bb8e548d2a4c": {
      "model_module": "@jupyter-widgets/base",
      "model_module_version": "1.2.0",
      "model_name": "LayoutModel",
      "state": {
       "_model_module": "@jupyter-widgets/base",
       "_model_module_version": "1.2.0",
       "_model_name": "LayoutModel",
       "_view_count": null,
       "_view_module": "@jupyter-widgets/base",
       "_view_module_version": "1.2.0",
       "_view_name": "LayoutView",
       "align_content": null,
       "align_items": null,
       "align_self": null,
       "border": null,
       "bottom": null,
       "display": null,
       "flex": null,
       "flex_flow": null,
       "grid_area": null,
       "grid_auto_columns": null,
       "grid_auto_flow": null,
       "grid_auto_rows": null,
       "grid_column": null,
       "grid_gap": null,
       "grid_row": null,
       "grid_template_areas": null,
       "grid_template_columns": null,
       "grid_template_rows": null,
       "height": null,
       "justify_content": null,
       "justify_items": null,
       "left": null,
       "margin": null,
       "max_height": null,
       "max_width": null,
       "min_height": null,
       "min_width": null,
       "object_fit": null,
       "object_position": null,
       "order": null,
       "overflow": null,
       "overflow_x": null,
       "overflow_y": null,
       "padding": null,
       "right": null,
       "top": null,
       "visibility": null,
       "width": null
      }
     },
     "158efc8503434447a1dcbe8057f84b05": {
      "model_module": "@jupyter-widgets/controls",
      "model_module_version": "1.5.0",
      "model_name": "HBoxModel",
      "state": {
       "_dom_classes": [],
       "_model_module": "@jupyter-widgets/controls",
       "_model_module_version": "1.5.0",
       "_model_name": "HBoxModel",
       "_view_count": null,
       "_view_module": "@jupyter-widgets/controls",
       "_view_module_version": "1.5.0",
       "_view_name": "HBoxView",
       "box_style": "",
       "children": [
        "IPY_MODEL_e840ed46b8544eef8335c90a197094dc",
        "IPY_MODEL_7187b5f234c44d1698a45bfdda66db23",
        "IPY_MODEL_f250aa453bdc41d99d5faaef36e75495"
       ],
       "layout": "IPY_MODEL_bdb010f80e914ed28fc6756a4c6a2df3"
      }
     },
     "160ea5b070a648859da00f1e63d2ff32": {
      "model_module": "@jupyter-widgets/base",
      "model_module_version": "1.2.0",
      "model_name": "LayoutModel",
      "state": {
       "_model_module": "@jupyter-widgets/base",
       "_model_module_version": "1.2.0",
       "_model_name": "LayoutModel",
       "_view_count": null,
       "_view_module": "@jupyter-widgets/base",
       "_view_module_version": "1.2.0",
       "_view_name": "LayoutView",
       "align_content": null,
       "align_items": null,
       "align_self": null,
       "border": null,
       "bottom": null,
       "display": null,
       "flex": null,
       "flex_flow": null,
       "grid_area": null,
       "grid_auto_columns": null,
       "grid_auto_flow": null,
       "grid_auto_rows": null,
       "grid_column": null,
       "grid_gap": null,
       "grid_row": null,
       "grid_template_areas": null,
       "grid_template_columns": null,
       "grid_template_rows": null,
       "height": null,
       "justify_content": null,
       "justify_items": null,
       "left": null,
       "margin": null,
       "max_height": null,
       "max_width": null,
       "min_height": null,
       "min_width": null,
       "object_fit": null,
       "object_position": null,
       "order": null,
       "overflow": null,
       "overflow_x": null,
       "overflow_y": null,
       "padding": null,
       "right": null,
       "top": null,
       "visibility": null,
       "width": null
      }
     },
     "1c05536987ef4f2c94d3324eaf5d2af1": {
      "model_module": "@jupyter-widgets/base",
      "model_module_version": "1.2.0",
      "model_name": "LayoutModel",
      "state": {
       "_model_module": "@jupyter-widgets/base",
       "_model_module_version": "1.2.0",
       "_model_name": "LayoutModel",
       "_view_count": null,
       "_view_module": "@jupyter-widgets/base",
       "_view_module_version": "1.2.0",
       "_view_name": "LayoutView",
       "align_content": null,
       "align_items": null,
       "align_self": null,
       "border": null,
       "bottom": null,
       "display": null,
       "flex": null,
       "flex_flow": null,
       "grid_area": null,
       "grid_auto_columns": null,
       "grid_auto_flow": null,
       "grid_auto_rows": null,
       "grid_column": null,
       "grid_gap": null,
       "grid_row": null,
       "grid_template_areas": null,
       "grid_template_columns": null,
       "grid_template_rows": null,
       "height": null,
       "justify_content": null,
       "justify_items": null,
       "left": null,
       "margin": null,
       "max_height": null,
       "max_width": null,
       "min_height": null,
       "min_width": null,
       "object_fit": null,
       "object_position": null,
       "order": null,
       "overflow": null,
       "overflow_x": null,
       "overflow_y": null,
       "padding": null,
       "right": null,
       "top": null,
       "visibility": null,
       "width": null
      }
     },
     "1ece98b00e0e489f9e238d96641b25ea": {
      "model_module": "@jupyter-widgets/base",
      "model_module_version": "1.2.0",
      "model_name": "LayoutModel",
      "state": {
       "_model_module": "@jupyter-widgets/base",
       "_model_module_version": "1.2.0",
       "_model_name": "LayoutModel",
       "_view_count": null,
       "_view_module": "@jupyter-widgets/base",
       "_view_module_version": "1.2.0",
       "_view_name": "LayoutView",
       "align_content": null,
       "align_items": null,
       "align_self": null,
       "border": null,
       "bottom": null,
       "display": null,
       "flex": null,
       "flex_flow": null,
       "grid_area": null,
       "grid_auto_columns": null,
       "grid_auto_flow": null,
       "grid_auto_rows": null,
       "grid_column": null,
       "grid_gap": null,
       "grid_row": null,
       "grid_template_areas": null,
       "grid_template_columns": null,
       "grid_template_rows": null,
       "height": null,
       "justify_content": null,
       "justify_items": null,
       "left": null,
       "margin": null,
       "max_height": null,
       "max_width": null,
       "min_height": null,
       "min_width": null,
       "object_fit": null,
       "object_position": null,
       "order": null,
       "overflow": null,
       "overflow_x": null,
       "overflow_y": null,
       "padding": null,
       "right": null,
       "top": null,
       "visibility": null,
       "width": null
      }
     },
     "2271742c82994a63bd18a1e0f5d0c804": {
      "model_module": "@jupyter-widgets/controls",
      "model_module_version": "1.5.0",
      "model_name": "DescriptionStyleModel",
      "state": {
       "_model_module": "@jupyter-widgets/controls",
       "_model_module_version": "1.5.0",
       "_model_name": "DescriptionStyleModel",
       "_view_count": null,
       "_view_module": "@jupyter-widgets/base",
       "_view_module_version": "1.2.0",
       "_view_name": "StyleView",
       "description_width": ""
      }
     },
     "25e84db82f6447f5bd9cf2958fb83de2": {
      "model_module": "@jupyter-widgets/controls",
      "model_module_version": "1.5.0",
      "model_name": "HTMLModel",
      "state": {
       "_dom_classes": [],
       "_model_module": "@jupyter-widgets/controls",
       "_model_module_version": "1.5.0",
       "_model_name": "HTMLModel",
       "_view_count": null,
       "_view_module": "@jupyter-widgets/controls",
       "_view_module_version": "1.5.0",
       "_view_name": "HTMLView",
       "description": "",
       "description_tooltip": null,
       "layout": "IPY_MODEL_25f7939b5fd24c669fb1c7ba73c189d8",
       "placeholder": "​",
       "style": "IPY_MODEL_ea9f91bfe2664d3d98827c19a79ab3ca",
       "value": " 244/244 [54:18&lt;00:00, 12.45s/it]"
      }
     },
     "25f7939b5fd24c669fb1c7ba73c189d8": {
      "model_module": "@jupyter-widgets/base",
      "model_module_version": "1.2.0",
      "model_name": "LayoutModel",
      "state": {
       "_model_module": "@jupyter-widgets/base",
       "_model_module_version": "1.2.0",
       "_model_name": "LayoutModel",
       "_view_count": null,
       "_view_module": "@jupyter-widgets/base",
       "_view_module_version": "1.2.0",
       "_view_name": "LayoutView",
       "align_content": null,
       "align_items": null,
       "align_self": null,
       "border": null,
       "bottom": null,
       "display": null,
       "flex": null,
       "flex_flow": null,
       "grid_area": null,
       "grid_auto_columns": null,
       "grid_auto_flow": null,
       "grid_auto_rows": null,
       "grid_column": null,
       "grid_gap": null,
       "grid_row": null,
       "grid_template_areas": null,
       "grid_template_columns": null,
       "grid_template_rows": null,
       "height": null,
       "justify_content": null,
       "justify_items": null,
       "left": null,
       "margin": null,
       "max_height": null,
       "max_width": null,
       "min_height": null,
       "min_width": null,
       "object_fit": null,
       "object_position": null,
       "order": null,
       "overflow": null,
       "overflow_x": null,
       "overflow_y": null,
       "padding": null,
       "right": null,
       "top": null,
       "visibility": null,
       "width": null
      }
     },
     "30dfab96a1c54d06ac57ad8edc00e37e": {
      "model_module": "@jupyter-widgets/controls",
      "model_module_version": "1.5.0",
      "model_name": "HBoxModel",
      "state": {
       "_dom_classes": [],
       "_model_module": "@jupyter-widgets/controls",
       "_model_module_version": "1.5.0",
       "_model_name": "HBoxModel",
       "_view_count": null,
       "_view_module": "@jupyter-widgets/controls",
       "_view_module_version": "1.5.0",
       "_view_name": "HBoxView",
       "box_style": "",
       "children": [
        "IPY_MODEL_6d8b2025b4954b35968e53b7fa6b7ef5",
        "IPY_MODEL_62b55164dea34963b624e9e02f14a345",
        "IPY_MODEL_f08a49245f6d4409a9a69371d5883c89"
       ],
       "layout": "IPY_MODEL_56d190245b404830aa22378b5bdf6b32"
      }
     },
     "330e6966464f4bfb86885e0a7a0f020c": {
      "model_module": "@jupyter-widgets/output",
      "model_module_version": "1.0.0",
      "model_name": "OutputModel",
      "state": {
       "_dom_classes": [],
       "_model_module": "@jupyter-widgets/output",
       "_model_module_version": "1.0.0",
       "_model_name": "OutputModel",
       "_view_count": null,
       "_view_module": "@jupyter-widgets/output",
       "_view_module_version": "1.0.0",
       "_view_name": "OutputView",
       "layout": "IPY_MODEL_469e788650e94d568e19cb782b63ee68",
       "msg_id": "",
       "outputs": []
      }
     },
     "3ce95218af084a9fa92fb0deba30749c": {
      "model_module": "@jupyter-widgets/base",
      "model_module_version": "1.2.0",
      "model_name": "LayoutModel",
      "state": {
       "_model_module": "@jupyter-widgets/base",
       "_model_module_version": "1.2.0",
       "_model_name": "LayoutModel",
       "_view_count": null,
       "_view_module": "@jupyter-widgets/base",
       "_view_module_version": "1.2.0",
       "_view_name": "LayoutView",
       "align_content": null,
       "align_items": null,
       "align_self": null,
       "border": null,
       "bottom": null,
       "display": null,
       "flex": null,
       "flex_flow": null,
       "grid_area": null,
       "grid_auto_columns": null,
       "grid_auto_flow": null,
       "grid_auto_rows": null,
       "grid_column": null,
       "grid_gap": null,
       "grid_row": null,
       "grid_template_areas": null,
       "grid_template_columns": null,
       "grid_template_rows": null,
       "height": null,
       "justify_content": null,
       "justify_items": null,
       "left": null,
       "margin": null,
       "max_height": null,
       "max_width": null,
       "min_height": null,
       "min_width": null,
       "object_fit": null,
       "object_position": null,
       "order": null,
       "overflow": null,
       "overflow_x": null,
       "overflow_y": null,
       "padding": null,
       "right": null,
       "top": null,
       "visibility": null,
       "width": null
      }
     },
     "41de39533a2a459faa2249e0af99982f": {
      "model_module": "@jupyter-widgets/controls",
      "model_module_version": "1.5.0",
      "model_name": "DescriptionStyleModel",
      "state": {
       "_model_module": "@jupyter-widgets/controls",
       "_model_module_version": "1.5.0",
       "_model_name": "DescriptionStyleModel",
       "_view_count": null,
       "_view_module": "@jupyter-widgets/base",
       "_view_module_version": "1.2.0",
       "_view_name": "StyleView",
       "description_width": ""
      }
     },
     "42b31c999c904727868225d21e0e7be7": {
      "model_module": "@jupyter-widgets/base",
      "model_module_version": "1.2.0",
      "model_name": "LayoutModel",
      "state": {
       "_model_module": "@jupyter-widgets/base",
       "_model_module_version": "1.2.0",
       "_model_name": "LayoutModel",
       "_view_count": null,
       "_view_module": "@jupyter-widgets/base",
       "_view_module_version": "1.2.0",
       "_view_name": "LayoutView",
       "align_content": null,
       "align_items": null,
       "align_self": null,
       "border": null,
       "bottom": null,
       "display": null,
       "flex": null,
       "flex_flow": null,
       "grid_area": null,
       "grid_auto_columns": null,
       "grid_auto_flow": null,
       "grid_auto_rows": null,
       "grid_column": null,
       "grid_gap": null,
       "grid_row": null,
       "grid_template_areas": null,
       "grid_template_columns": null,
       "grid_template_rows": null,
       "height": null,
       "justify_content": null,
       "justify_items": null,
       "left": null,
       "margin": null,
       "max_height": null,
       "max_width": null,
       "min_height": null,
       "min_width": null,
       "object_fit": null,
       "object_position": null,
       "order": null,
       "overflow": null,
       "overflow_x": null,
       "overflow_y": null,
       "padding": null,
       "right": null,
       "top": null,
       "visibility": null,
       "width": null
      }
     },
     "469e788650e94d568e19cb782b63ee68": {
      "model_module": "@jupyter-widgets/base",
      "model_module_version": "1.2.0",
      "model_name": "LayoutModel",
      "state": {
       "_model_module": "@jupyter-widgets/base",
       "_model_module_version": "1.2.0",
       "_model_name": "LayoutModel",
       "_view_count": null,
       "_view_module": "@jupyter-widgets/base",
       "_view_module_version": "1.2.0",
       "_view_name": "LayoutView",
       "align_content": null,
       "align_items": null,
       "align_self": null,
       "border": null,
       "bottom": null,
       "display": null,
       "flex": null,
       "flex_flow": null,
       "grid_area": null,
       "grid_auto_columns": null,
       "grid_auto_flow": null,
       "grid_auto_rows": null,
       "grid_column": null,
       "grid_gap": null,
       "grid_row": null,
       "grid_template_areas": null,
       "grid_template_columns": null,
       "grid_template_rows": null,
       "height": null,
       "justify_content": null,
       "justify_items": null,
       "left": null,
       "margin": null,
       "max_height": null,
       "max_width": null,
       "min_height": null,
       "min_width": null,
       "object_fit": null,
       "object_position": null,
       "order": null,
       "overflow": null,
       "overflow_x": null,
       "overflow_y": null,
       "padding": null,
       "right": null,
       "top": null,
       "visibility": null,
       "width": null
      }
     },
     "477b957553344748a1e7a143bffa06e1": {
      "model_module": "@jupyter-widgets/controls",
      "model_module_version": "1.5.0",
      "model_name": "ProgressStyleModel",
      "state": {
       "_model_module": "@jupyter-widgets/controls",
       "_model_module_version": "1.5.0",
       "_model_name": "ProgressStyleModel",
       "_view_count": null,
       "_view_module": "@jupyter-widgets/base",
       "_view_module_version": "1.2.0",
       "_view_name": "StyleView",
       "bar_color": null,
       "description_width": ""
      }
     },
     "498be2988a81428ea7da9b89574afd0d": {
      "model_module": "@jupyter-widgets/output",
      "model_module_version": "1.0.0",
      "model_name": "OutputModel",
      "state": {
       "_dom_classes": [],
       "_model_module": "@jupyter-widgets/output",
       "_model_module_version": "1.0.0",
       "_model_name": "OutputModel",
       "_view_count": null,
       "_view_module": "@jupyter-widgets/output",
       "_view_module_version": "1.0.0",
       "_view_name": "OutputView",
       "layout": "IPY_MODEL_83fa2c58b4b54d438efaf0094bedde70",
       "msg_id": "",
       "outputs": []
      }
     },
     "49ff964cc028479e8e76962ae6c3544f": {
      "model_module": "@jupyter-widgets/base",
      "model_module_version": "1.2.0",
      "model_name": "LayoutModel",
      "state": {
       "_model_module": "@jupyter-widgets/base",
       "_model_module_version": "1.2.0",
       "_model_name": "LayoutModel",
       "_view_count": null,
       "_view_module": "@jupyter-widgets/base",
       "_view_module_version": "1.2.0",
       "_view_name": "LayoutView",
       "align_content": null,
       "align_items": null,
       "align_self": null,
       "border": null,
       "bottom": null,
       "display": null,
       "flex": null,
       "flex_flow": null,
       "grid_area": null,
       "grid_auto_columns": null,
       "grid_auto_flow": null,
       "grid_auto_rows": null,
       "grid_column": null,
       "grid_gap": null,
       "grid_row": null,
       "grid_template_areas": null,
       "grid_template_columns": null,
       "grid_template_rows": null,
       "height": null,
       "justify_content": null,
       "justify_items": null,
       "left": null,
       "margin": null,
       "max_height": null,
       "max_width": null,
       "min_height": null,
       "min_width": null,
       "object_fit": null,
       "object_position": null,
       "order": null,
       "overflow": null,
       "overflow_x": null,
       "overflow_y": null,
       "padding": null,
       "right": null,
       "top": null,
       "visibility": null,
       "width": null
      }
     },
     "4ac34d92c27c4fec95fd4fa416ac4736": {
      "model_module": "@jupyter-widgets/controls",
      "model_module_version": "1.5.0",
      "model_name": "HTMLModel",
      "state": {
       "_dom_classes": [],
       "_model_module": "@jupyter-widgets/controls",
       "_model_module_version": "1.5.0",
       "_model_name": "HTMLModel",
       "_view_count": null,
       "_view_module": "@jupyter-widgets/controls",
       "_view_module_version": "1.5.0",
       "_view_name": "HTMLView",
       "description": "",
       "description_tooltip": null,
       "layout": "IPY_MODEL_49ff964cc028479e8e76962ae6c3544f",
       "placeholder": "​",
       "style": "IPY_MODEL_2271742c82994a63bd18a1e0f5d0c804",
       "value": "evaluating...: 100%"
      }
     },
     "52aed0c19c0a4cc7a67273ee97a6149d": {
      "model_module": "@jupyter-widgets/base",
      "model_module_version": "1.2.0",
      "model_name": "LayoutModel",
      "state": {
       "_model_module": "@jupyter-widgets/base",
       "_model_module_version": "1.2.0",
       "_model_name": "LayoutModel",
       "_view_count": null,
       "_view_module": "@jupyter-widgets/base",
       "_view_module_version": "1.2.0",
       "_view_name": "LayoutView",
       "align_content": null,
       "align_items": null,
       "align_self": null,
       "border": null,
       "bottom": null,
       "display": null,
       "flex": null,
       "flex_flow": null,
       "grid_area": null,
       "grid_auto_columns": null,
       "grid_auto_flow": null,
       "grid_auto_rows": null,
       "grid_column": null,
       "grid_gap": null,
       "grid_row": null,
       "grid_template_areas": null,
       "grid_template_columns": null,
       "grid_template_rows": null,
       "height": null,
       "justify_content": null,
       "justify_items": null,
       "left": null,
       "margin": null,
       "max_height": null,
       "max_width": null,
       "min_height": null,
       "min_width": null,
       "object_fit": null,
       "object_position": null,
       "order": null,
       "overflow": null,
       "overflow_x": null,
       "overflow_y": null,
       "padding": null,
       "right": null,
       "top": null,
       "visibility": null,
       "width": null
      }
     },
     "531ed62d5ead435a8cb90fbae00f223f": {
      "model_module": "@jupyter-widgets/controls",
      "model_module_version": "1.5.0",
      "model_name": "DescriptionStyleModel",
      "state": {
       "_model_module": "@jupyter-widgets/controls",
       "_model_module_version": "1.5.0",
       "_model_name": "DescriptionStyleModel",
       "_view_count": null,
       "_view_module": "@jupyter-widgets/base",
       "_view_module_version": "1.2.0",
       "_view_name": "StyleView",
       "description_width": ""
      }
     },
     "5552614f98b24f22b761ab8780a013b6": {
      "model_module": "@jupyter-widgets/controls",
      "model_module_version": "1.5.0",
      "model_name": "ButtonStyleModel",
      "state": {
       "_model_module": "@jupyter-widgets/controls",
       "_model_module_version": "1.5.0",
       "_model_name": "ButtonStyleModel",
       "_view_count": null,
       "_view_module": "@jupyter-widgets/base",
       "_view_module_version": "1.2.0",
       "_view_name": "StyleView",
       "button_color": null,
       "font_weight": ""
      }
     },
     "56d190245b404830aa22378b5bdf6b32": {
      "model_module": "@jupyter-widgets/base",
      "model_module_version": "1.2.0",
      "model_name": "LayoutModel",
      "state": {
       "_model_module": "@jupyter-widgets/base",
       "_model_module_version": "1.2.0",
       "_model_name": "LayoutModel",
       "_view_count": null,
       "_view_module": "@jupyter-widgets/base",
       "_view_module_version": "1.2.0",
       "_view_name": "LayoutView",
       "align_content": null,
       "align_items": null,
       "align_self": null,
       "border": null,
       "bottom": null,
       "display": null,
       "flex": null,
       "flex_flow": null,
       "grid_area": null,
       "grid_auto_columns": null,
       "grid_auto_flow": null,
       "grid_auto_rows": null,
       "grid_column": null,
       "grid_gap": null,
       "grid_row": null,
       "grid_template_areas": null,
       "grid_template_columns": null,
       "grid_template_rows": null,
       "height": null,
       "justify_content": null,
       "justify_items": null,
       "left": null,
       "margin": null,
       "max_height": null,
       "max_width": null,
       "min_height": null,
       "min_width": null,
       "object_fit": null,
       "object_position": null,
       "order": null,
       "overflow": null,
       "overflow_x": null,
       "overflow_y": null,
       "padding": null,
       "right": null,
       "top": null,
       "visibility": null,
       "width": null
      }
     },
     "5867d19920da4b6a93886827024ef420": {
      "model_module": "@jupyter-widgets/controls",
      "model_module_version": "1.5.0",
      "model_name": "HBoxModel",
      "state": {
       "_dom_classes": [],
       "_model_module": "@jupyter-widgets/controls",
       "_model_module_version": "1.5.0",
       "_model_name": "HBoxModel",
       "_view_count": null,
       "_view_module": "@jupyter-widgets/controls",
       "_view_module_version": "1.5.0",
       "_view_name": "HBoxView",
       "box_style": "",
       "children": [
        "IPY_MODEL_68f1938ea7b84aa9add1bbb11f0f4bb1",
        "IPY_MODEL_8edf149481bf415b899e521152681501",
        "IPY_MODEL_d6bde7718b654dd1abf8af49c7202fee"
       ],
       "layout": "IPY_MODEL_3ce95218af084a9fa92fb0deba30749c"
      }
     },
     "58f03e0e84df4d8395873cef07f7393e": {
      "model_module": "@jupyter-widgets/controls",
      "model_module_version": "1.5.0",
      "model_name": "ProgressStyleModel",
      "state": {
       "_model_module": "@jupyter-widgets/controls",
       "_model_module_version": "1.5.0",
       "_model_name": "ProgressStyleModel",
       "_view_count": null,
       "_view_module": "@jupyter-widgets/base",
       "_view_module_version": "1.2.0",
       "_view_name": "StyleView",
       "bar_color": null,
       "description_width": ""
      }
     },
     "59cb117701f44ebdb04950fd5114e74a": {
      "model_module": "@jupyter-widgets/controls",
      "model_module_version": "1.5.0",
      "model_name": "DescriptionStyleModel",
      "state": {
       "_model_module": "@jupyter-widgets/controls",
       "_model_module_version": "1.5.0",
       "_model_name": "DescriptionStyleModel",
       "_view_count": null,
       "_view_module": "@jupyter-widgets/base",
       "_view_module_version": "1.2.0",
       "_view_name": "StyleView",
       "description_width": ""
      }
     },
     "5f1382c5a57747a19b49a0c00dac841a": {
      "model_module": "@jupyter-widgets/base",
      "model_module_version": "1.2.0",
      "model_name": "LayoutModel",
      "state": {
       "_model_module": "@jupyter-widgets/base",
       "_model_module_version": "1.2.0",
       "_model_name": "LayoutModel",
       "_view_count": null,
       "_view_module": "@jupyter-widgets/base",
       "_view_module_version": "1.2.0",
       "_view_name": "LayoutView",
       "align_content": null,
       "align_items": null,
       "align_self": null,
       "border": null,
       "bottom": null,
       "display": null,
       "flex": null,
       "flex_flow": null,
       "grid_area": null,
       "grid_auto_columns": null,
       "grid_auto_flow": null,
       "grid_auto_rows": null,
       "grid_column": null,
       "grid_gap": null,
       "grid_row": null,
       "grid_template_areas": null,
       "grid_template_columns": null,
       "grid_template_rows": null,
       "height": null,
       "justify_content": null,
       "justify_items": null,
       "left": null,
       "margin": null,
       "max_height": null,
       "max_width": null,
       "min_height": null,
       "min_width": null,
       "object_fit": null,
       "object_position": null,
       "order": null,
       "overflow": null,
       "overflow_x": null,
       "overflow_y": null,
       "padding": null,
       "right": null,
       "top": null,
       "visibility": null,
       "width": null
      }
     },
     "62b55164dea34963b624e9e02f14a345": {
      "model_module": "@jupyter-widgets/controls",
      "model_module_version": "1.5.0",
      "model_name": "FloatProgressModel",
      "state": {
       "_dom_classes": [],
       "_model_module": "@jupyter-widgets/controls",
       "_model_module_version": "1.5.0",
       "_model_name": "FloatProgressModel",
       "_view_count": null,
       "_view_module": "@jupyter-widgets/controls",
       "_view_module_version": "1.5.0",
       "_view_name": "ProgressView",
       "bar_style": "success",
       "description": "",
       "description_tooltip": null,
       "layout": "IPY_MODEL_b130c860e51a4659ac2cbf14a040b8a6",
       "max": 1.0,
       "min": 0.0,
       "orientation": "horizontal",
       "style": "IPY_MODEL_477b957553344748a1e7a143bffa06e1",
       "value": 1.0
      }
     },
     "6418b574c4574c998472ed0527b0c6c9": {
      "model_module": "@jupyter-widgets/base",
      "model_module_version": "1.2.0",
      "model_name": "LayoutModel",
      "state": {
       "_model_module": "@jupyter-widgets/base",
       "_model_module_version": "1.2.0",
       "_model_name": "LayoutModel",
       "_view_count": null,
       "_view_module": "@jupyter-widgets/base",
       "_view_module_version": "1.2.0",
       "_view_name": "LayoutView",
       "align_content": null,
       "align_items": null,
       "align_self": null,
       "border": null,
       "bottom": null,
       "display": null,
       "flex": null,
       "flex_flow": null,
       "grid_area": null,
       "grid_auto_columns": null,
       "grid_auto_flow": null,
       "grid_auto_rows": null,
       "grid_column": null,
       "grid_gap": null,
       "grid_row": null,
       "grid_template_areas": null,
       "grid_template_columns": null,
       "grid_template_rows": null,
       "height": null,
       "justify_content": null,
       "justify_items": null,
       "left": null,
       "margin": null,
       "max_height": null,
       "max_width": null,
       "min_height": null,
       "min_width": null,
       "object_fit": null,
       "object_position": null,
       "order": null,
       "overflow": null,
       "overflow_x": null,
       "overflow_y": null,
       "padding": null,
       "right": null,
       "top": null,
       "visibility": null,
       "width": null
      }
     },
     "66e1e1582b2b433c89082c752f986aa2": {
      "model_module": "@jupyter-widgets/controls",
      "model_module_version": "1.5.0",
      "model_name": "ButtonModel",
      "state": {
       "_dom_classes": [],
       "_model_module": "@jupyter-widgets/controls",
       "_model_module_version": "1.5.0",
       "_model_name": "ButtonModel",
       "_view_count": null,
       "_view_module": "@jupyter-widgets/controls",
       "_view_module_version": "1.5.0",
       "_view_name": "ButtonView",
       "button_style": "",
       "description": "Show Recommendations",
       "disabled": false,
       "icon": "",
       "layout": "IPY_MODEL_d12ec42f135b4c728748e037838f89e3",
       "style": "IPY_MODEL_e766232a0d514b798089a0a72cd8dcbe",
       "tooltip": ""
      }
     },
     "68f1938ea7b84aa9add1bbb11f0f4bb1": {
      "model_module": "@jupyter-widgets/controls",
      "model_module_version": "1.5.0",
      "model_name": "HTMLModel",
      "state": {
       "_dom_classes": [],
       "_model_module": "@jupyter-widgets/controls",
       "_model_module_version": "1.5.0",
       "_model_name": "HTMLModel",
       "_view_count": null,
       "_view_module": "@jupyter-widgets/controls",
       "_view_module_version": "1.5.0",
       "_view_name": "HTMLView",
       "description": "",
       "description_tooltip": null,
       "layout": "IPY_MODEL_160ea5b070a648859da00f1e63d2ff32",
       "placeholder": "​",
       "style": "IPY_MODEL_d494ca72dae94d15bcce31f0a7910315",
       "value": "Epoch 1/1: 100%"
      }
     },
     "69ef5409f5c5477082edec8032b306c9": {
      "model_module": "@jupyter-widgets/controls",
      "model_module_version": "1.5.0",
      "model_name": "FloatProgressModel",
      "state": {
       "_dom_classes": [],
       "_model_module": "@jupyter-widgets/controls",
       "_model_module_version": "1.5.0",
       "_model_name": "FloatProgressModel",
       "_view_count": null,
       "_view_module": "@jupyter-widgets/controls",
       "_view_module_version": "1.5.0",
       "_view_name": "ProgressView",
       "bar_style": "success",
       "description": "",
       "description_tooltip": null,
       "layout": "IPY_MODEL_a3847710ee9f4362b3c84df1e3fae86a",
       "max": 38095.0,
       "min": 0.0,
       "orientation": "horizontal",
       "style": "IPY_MODEL_0f6c4c1bad4348d5b2f97dc76cb3df75",
       "value": 38095.0
      }
     },
     "6d433e10bfe14c35bc6fb251634a7c46": {
      "model_module": "@jupyter-widgets/controls",
      "model_module_version": "1.5.0",
      "model_name": "TextModel",
      "state": {
       "_dom_classes": [],
       "_model_module": "@jupyter-widgets/controls",
       "_model_module_version": "1.5.0",
       "_model_name": "TextModel",
       "_view_count": null,
       "_view_module": "@jupyter-widgets/controls",
       "_view_module_version": "1.5.0",
       "_view_name": "TextView",
       "continuous_update": true,
       "description": "",
       "description_tooltip": null,
       "disabled": false,
       "layout": "IPY_MODEL_eca3b5c8300342a0adea7cc22240fac5",
       "placeholder": "Enter partial book name",
       "style": "IPY_MODEL_f94b2e4f2cf24db89d01c2f1cf96ef53",
       "value": ""
      }
     },
     "6d7d8f836e2640a9bb00a759d29bd90c": {
      "model_module": "@jupyter-widgets/base",
      "model_module_version": "1.2.0",
      "model_name": "LayoutModel",
      "state": {
       "_model_module": "@jupyter-widgets/base",
       "_model_module_version": "1.2.0",
       "_model_name": "LayoutModel",
       "_view_count": null,
       "_view_module": "@jupyter-widgets/base",
       "_view_module_version": "1.2.0",
       "_view_name": "LayoutView",
       "align_content": null,
       "align_items": null,
       "align_self": null,
       "border": null,
       "bottom": null,
       "display": null,
       "flex": null,
       "flex_flow": null,
       "grid_area": null,
       "grid_auto_columns": null,
       "grid_auto_flow": null,
       "grid_auto_rows": null,
       "grid_column": null,
       "grid_gap": null,
       "grid_row": null,
       "grid_template_areas": null,
       "grid_template_columns": null,
       "grid_template_rows": null,
       "height": null,
       "justify_content": null,
       "justify_items": null,
       "left": null,
       "margin": null,
       "max_height": null,
       "max_width": null,
       "min_height": null,
       "min_width": null,
       "object_fit": null,
       "object_position": null,
       "order": null,
       "overflow": null,
       "overflow_x": null,
       "overflow_y": null,
       "padding": null,
       "right": null,
       "top": null,
       "visibility": null,
       "width": null
      }
     },
     "6d8b2025b4954b35968e53b7fa6b7ef5": {
      "model_module": "@jupyter-widgets/controls",
      "model_module_version": "1.5.0",
      "model_name": "HTMLModel",
      "state": {
       "_dom_classes": [],
       "_model_module": "@jupyter-widgets/controls",
       "_model_module_version": "1.5.0",
       "_model_name": "HTMLModel",
       "_view_count": null,
       "_view_module": "@jupyter-widgets/controls",
       "_view_module_version": "1.5.0",
       "_view_name": "HTMLView",
       "description": "",
       "description_tooltip": null,
       "layout": "IPY_MODEL_a7e167753ea0405d81b4f3ad70329727",
       "placeholder": "​",
       "style": "IPY_MODEL_59cb117701f44ebdb04950fd5114e74a",
       "value": "Training Content based filtering model: 100%"
      }
     },
     "6d9947271a6c4b648b73cd29245c77b3": {
      "model_module": "@jupyter-widgets/base",
      "model_module_version": "1.2.0",
      "model_name": "LayoutModel",
      "state": {
       "_model_module": "@jupyter-widgets/base",
       "_model_module_version": "1.2.0",
       "_model_name": "LayoutModel",
       "_view_count": null,
       "_view_module": "@jupyter-widgets/base",
       "_view_module_version": "1.2.0",
       "_view_name": "LayoutView",
       "align_content": null,
       "align_items": null,
       "align_self": null,
       "border": null,
       "bottom": null,
       "display": null,
       "flex": null,
       "flex_flow": null,
       "grid_area": null,
       "grid_auto_columns": null,
       "grid_auto_flow": null,
       "grid_auto_rows": null,
       "grid_column": null,
       "grid_gap": null,
       "grid_row": null,
       "grid_template_areas": null,
       "grid_template_columns": null,
       "grid_template_rows": null,
       "height": null,
       "justify_content": null,
       "justify_items": null,
       "left": null,
       "margin": null,
       "max_height": null,
       "max_width": null,
       "min_height": null,
       "min_width": null,
       "object_fit": null,
       "object_position": null,
       "order": null,
       "overflow": null,
       "overflow_x": null,
       "overflow_y": null,
       "padding": null,
       "right": null,
       "top": null,
       "visibility": null,
       "width": null
      }
     },
     "7187b5f234c44d1698a45bfdda66db23": {
      "model_module": "@jupyter-widgets/controls",
      "model_module_version": "1.5.0",
      "model_name": "FloatProgressModel",
      "state": {
       "_dom_classes": [],
       "_model_module": "@jupyter-widgets/controls",
       "_model_module_version": "1.5.0",
       "_model_name": "FloatProgressModel",
       "_view_count": null,
       "_view_module": "@jupyter-widgets/controls",
       "_view_module_version": "1.5.0",
       "_view_name": "ProgressView",
       "bar_style": "success",
       "description": "",
       "description_tooltip": null,
       "layout": "IPY_MODEL_ed1ed6b351174b3299a3d06bdaeb315c",
       "max": 3230.0,
       "min": 0.0,
       "orientation": "horizontal",
       "style": "IPY_MODEL_58f03e0e84df4d8395873cef07f7393e",
       "value": 3230.0
      }
     },
     "743dba12b98c4a8f8acf10be293ed6f1": {
      "model_module": "@jupyter-widgets/controls",
      "model_module_version": "1.5.0",
      "model_name": "DescriptionStyleModel",
      "state": {
       "_model_module": "@jupyter-widgets/controls",
       "_model_module_version": "1.5.0",
       "_model_name": "DescriptionStyleModel",
       "_view_count": null,
       "_view_module": "@jupyter-widgets/base",
       "_view_module_version": "1.2.0",
       "_view_name": "StyleView",
       "description_width": ""
      }
     },
     "80693854e41a40969a71a24c53d1b346": {
      "model_module": "@jupyter-widgets/controls",
      "model_module_version": "1.5.0",
      "model_name": "ProgressStyleModel",
      "state": {
       "_model_module": "@jupyter-widgets/controls",
       "_model_module_version": "1.5.0",
       "_model_name": "ProgressStyleModel",
       "_view_count": null,
       "_view_module": "@jupyter-widgets/base",
       "_view_module_version": "1.2.0",
       "_view_name": "StyleView",
       "bar_color": null,
       "description_width": ""
      }
     },
     "80c9fb2a206c4884848becaf00578a57": {
      "model_module": "@jupyter-widgets/base",
      "model_module_version": "1.2.0",
      "model_name": "LayoutModel",
      "state": {
       "_model_module": "@jupyter-widgets/base",
       "_model_module_version": "1.2.0",
       "_model_name": "LayoutModel",
       "_view_count": null,
       "_view_module": "@jupyter-widgets/base",
       "_view_module_version": "1.2.0",
       "_view_name": "LayoutView",
       "align_content": null,
       "align_items": null,
       "align_self": null,
       "border": null,
       "bottom": null,
       "display": null,
       "flex": null,
       "flex_flow": null,
       "grid_area": null,
       "grid_auto_columns": null,
       "grid_auto_flow": null,
       "grid_auto_rows": null,
       "grid_column": null,
       "grid_gap": null,
       "grid_row": null,
       "grid_template_areas": null,
       "grid_template_columns": null,
       "grid_template_rows": null,
       "height": null,
       "justify_content": null,
       "justify_items": null,
       "left": null,
       "margin": null,
       "max_height": null,
       "max_width": null,
       "min_height": null,
       "min_width": null,
       "object_fit": null,
       "object_position": null,
       "order": null,
       "overflow": null,
       "overflow_x": null,
       "overflow_y": null,
       "padding": null,
       "right": null,
       "top": null,
       "visibility": null,
       "width": null
      }
     },
     "821ce31c66184257946590dd447f375d": {
      "model_module": "@jupyter-widgets/controls",
      "model_module_version": "1.5.0",
      "model_name": "FloatProgressModel",
      "state": {
       "_dom_classes": [],
       "_model_module": "@jupyter-widgets/controls",
       "_model_module_version": "1.5.0",
       "_model_name": "FloatProgressModel",
       "_view_count": null,
       "_view_module": "@jupyter-widgets/controls",
       "_view_module_version": "1.5.0",
       "_view_name": "ProgressView",
       "bar_style": "success",
       "description": "",
       "description_tooltip": null,
       "layout": "IPY_MODEL_1ece98b00e0e489f9e238d96641b25ea",
       "max": 1.0,
       "min": 0.0,
       "orientation": "horizontal",
       "style": "IPY_MODEL_c119e05d146e4903b07cbebe7d49e259",
       "value": 1.0
      }
     },
     "824609e2b51745e9917399cd3e3e4c69": {
      "model_module": "@jupyter-widgets/base",
      "model_module_version": "1.2.0",
      "model_name": "LayoutModel",
      "state": {
       "_model_module": "@jupyter-widgets/base",
       "_model_module_version": "1.2.0",
       "_model_name": "LayoutModel",
       "_view_count": null,
       "_view_module": "@jupyter-widgets/base",
       "_view_module_version": "1.2.0",
       "_view_name": "LayoutView",
       "align_content": null,
       "align_items": null,
       "align_self": null,
       "border": null,
       "bottom": null,
       "display": null,
       "flex": null,
       "flex_flow": null,
       "grid_area": null,
       "grid_auto_columns": null,
       "grid_auto_flow": null,
       "grid_auto_rows": null,
       "grid_column": null,
       "grid_gap": null,
       "grid_row": null,
       "grid_template_areas": null,
       "grid_template_columns": null,
       "grid_template_rows": null,
       "height": null,
       "justify_content": null,
       "justify_items": null,
       "left": null,
       "margin": null,
       "max_height": null,
       "max_width": null,
       "min_height": null,
       "min_width": null,
       "object_fit": null,
       "object_position": null,
       "order": null,
       "overflow": null,
       "overflow_x": null,
       "overflow_y": null,
       "padding": null,
       "right": null,
       "top": null,
       "visibility": null,
       "width": null
      }
     },
     "83fa2c58b4b54d438efaf0094bedde70": {
      "model_module": "@jupyter-widgets/base",
      "model_module_version": "1.2.0",
      "model_name": "LayoutModel",
      "state": {
       "_model_module": "@jupyter-widgets/base",
       "_model_module_version": "1.2.0",
       "_model_name": "LayoutModel",
       "_view_count": null,
       "_view_module": "@jupyter-widgets/base",
       "_view_module_version": "1.2.0",
       "_view_name": "LayoutView",
       "align_content": null,
       "align_items": null,
       "align_self": null,
       "border": null,
       "bottom": null,
       "display": null,
       "flex": null,
       "flex_flow": null,
       "grid_area": null,
       "grid_auto_columns": null,
       "grid_auto_flow": null,
       "grid_auto_rows": null,
       "grid_column": null,
       "grid_gap": null,
       "grid_row": null,
       "grid_template_areas": null,
       "grid_template_columns": null,
       "grid_template_rows": null,
       "height": null,
       "justify_content": null,
       "justify_items": null,
       "left": null,
       "margin": null,
       "max_height": null,
       "max_width": null,
       "min_height": null,
       "min_width": null,
       "object_fit": null,
       "object_position": null,
       "order": null,
       "overflow": null,
       "overflow_x": null,
       "overflow_y": null,
       "padding": null,
       "right": null,
       "top": null,
       "visibility": null,
       "width": null
      }
     },
     "852ff6cd3588420381115667279e39c6": {
      "model_module": "@jupyter-widgets/controls",
      "model_module_version": "1.5.0",
      "model_name": "DescriptionStyleModel",
      "state": {
       "_model_module": "@jupyter-widgets/controls",
       "_model_module_version": "1.5.0",
       "_model_name": "DescriptionStyleModel",
       "_view_count": null,
       "_view_module": "@jupyter-widgets/base",
       "_view_module_version": "1.2.0",
       "_view_name": "StyleView",
       "description_width": ""
      }
     },
     "8b7b6d31804045d2b8d2efdb0a862984": {
      "model_module": "@jupyter-widgets/base",
      "model_module_version": "1.2.0",
      "model_name": "LayoutModel",
      "state": {
       "_model_module": "@jupyter-widgets/base",
       "_model_module_version": "1.2.0",
       "_model_name": "LayoutModel",
       "_view_count": null,
       "_view_module": "@jupyter-widgets/base",
       "_view_module_version": "1.2.0",
       "_view_name": "LayoutView",
       "align_content": null,
       "align_items": null,
       "align_self": null,
       "border": null,
       "bottom": null,
       "display": null,
       "flex": null,
       "flex_flow": null,
       "grid_area": null,
       "grid_auto_columns": null,
       "grid_auto_flow": null,
       "grid_auto_rows": null,
       "grid_column": null,
       "grid_gap": null,
       "grid_row": null,
       "grid_template_areas": null,
       "grid_template_columns": null,
       "grid_template_rows": null,
       "height": null,
       "justify_content": null,
       "justify_items": null,
       "left": null,
       "margin": null,
       "max_height": null,
       "max_width": null,
       "min_height": null,
       "min_width": null,
       "object_fit": null,
       "object_position": null,
       "order": null,
       "overflow": null,
       "overflow_x": null,
       "overflow_y": null,
       "padding": null,
       "right": null,
       "top": null,
       "visibility": null,
       "width": null
      }
     },
     "8c36c9b6175647bdb570f8c54f911a73": {
      "model_module": "@jupyter-widgets/controls",
      "model_module_version": "1.5.0",
      "model_name": "DescriptionStyleModel",
      "state": {
       "_model_module": "@jupyter-widgets/controls",
       "_model_module_version": "1.5.0",
       "_model_name": "DescriptionStyleModel",
       "_view_count": null,
       "_view_module": "@jupyter-widgets/base",
       "_view_module_version": "1.2.0",
       "_view_name": "StyleView",
       "description_width": ""
      }
     },
     "8edf149481bf415b899e521152681501": {
      "model_module": "@jupyter-widgets/controls",
      "model_module_version": "1.5.0",
      "model_name": "FloatProgressModel",
      "state": {
       "_dom_classes": [],
       "_model_module": "@jupyter-widgets/controls",
       "_model_module_version": "1.5.0",
       "_model_name": "FloatProgressModel",
       "_view_count": null,
       "_view_module": "@jupyter-widgets/controls",
       "_view_module_version": "1.5.0",
       "_view_name": "ProgressView",
       "bar_style": "success",
       "description": "",
       "description_tooltip": null,
       "layout": "IPY_MODEL_d076427cf1214e3fac15ec6795218d87",
       "max": 38095.0,
       "min": 0.0,
       "orientation": "horizontal",
       "style": "IPY_MODEL_80693854e41a40969a71a24c53d1b346",
       "value": 38095.0
      }
     },
     "8f9983860cca4f13b8c5d1c0c4a5545a": {
      "model_module": "@jupyter-widgets/controls",
      "model_module_version": "1.5.0",
      "model_name": "FloatProgressModel",
      "state": {
       "_dom_classes": [],
       "_model_module": "@jupyter-widgets/controls",
       "_model_module_version": "1.5.0",
       "_model_name": "FloatProgressModel",
       "_view_count": null,
       "_view_module": "@jupyter-widgets/controls",
       "_view_module_version": "1.5.0",
       "_view_name": "ProgressView",
       "bar_style": "success",
       "description": "",
       "description_tooltip": null,
       "layout": "IPY_MODEL_c808a2acccad4681913ccaae610cf483",
       "max": 244.0,
       "min": 0.0,
       "orientation": "horizontal",
       "style": "IPY_MODEL_a8d25f4fea6f40c29438e10532bb4a4e",
       "value": 244.0
      }
     },
     "a3847710ee9f4362b3c84df1e3fae86a": {
      "model_module": "@jupyter-widgets/base",
      "model_module_version": "1.2.0",
      "model_name": "LayoutModel",
      "state": {
       "_model_module": "@jupyter-widgets/base",
       "_model_module_version": "1.2.0",
       "_model_name": "LayoutModel",
       "_view_count": null,
       "_view_module": "@jupyter-widgets/base",
       "_view_module_version": "1.2.0",
       "_view_name": "LayoutView",
       "align_content": null,
       "align_items": null,
       "align_self": null,
       "border": null,
       "bottom": null,
       "display": null,
       "flex": null,
       "flex_flow": null,
       "grid_area": null,
       "grid_auto_columns": null,
       "grid_auto_flow": null,
       "grid_auto_rows": null,
       "grid_column": null,
       "grid_gap": null,
       "grid_row": null,
       "grid_template_areas": null,
       "grid_template_columns": null,
       "grid_template_rows": null,
       "height": null,
       "justify_content": null,
       "justify_items": null,
       "left": null,
       "margin": null,
       "max_height": null,
       "max_width": null,
       "min_height": null,
       "min_width": null,
       "object_fit": null,
       "object_position": null,
       "order": null,
       "overflow": null,
       "overflow_x": null,
       "overflow_y": null,
       "padding": null,
       "right": null,
       "top": null,
       "visibility": null,
       "width": null
      }
     },
     "a5bae4d3ac714b9bb533367c4db3388d": {
      "model_module": "@jupyter-widgets/base",
      "model_module_version": "1.2.0",
      "model_name": "LayoutModel",
      "state": {
       "_model_module": "@jupyter-widgets/base",
       "_model_module_version": "1.2.0",
       "_model_name": "LayoutModel",
       "_view_count": null,
       "_view_module": "@jupyter-widgets/base",
       "_view_module_version": "1.2.0",
       "_view_name": "LayoutView",
       "align_content": null,
       "align_items": null,
       "align_self": null,
       "border": null,
       "bottom": null,
       "display": null,
       "flex": null,
       "flex_flow": null,
       "grid_area": null,
       "grid_auto_columns": null,
       "grid_auto_flow": null,
       "grid_auto_rows": null,
       "grid_column": null,
       "grid_gap": null,
       "grid_row": null,
       "grid_template_areas": null,
       "grid_template_columns": null,
       "grid_template_rows": null,
       "height": null,
       "justify_content": null,
       "justify_items": null,
       "left": null,
       "margin": null,
       "max_height": null,
       "max_width": null,
       "min_height": null,
       "min_width": null,
       "object_fit": null,
       "object_position": null,
       "order": null,
       "overflow": null,
       "overflow_x": null,
       "overflow_y": null,
       "padding": null,
       "right": null,
       "top": null,
       "visibility": null,
       "width": null
      }
     },
     "a7e167753ea0405d81b4f3ad70329727": {
      "model_module": "@jupyter-widgets/base",
      "model_module_version": "1.2.0",
      "model_name": "LayoutModel",
      "state": {
       "_model_module": "@jupyter-widgets/base",
       "_model_module_version": "1.2.0",
       "_model_name": "LayoutModel",
       "_view_count": null,
       "_view_module": "@jupyter-widgets/base",
       "_view_module_version": "1.2.0",
       "_view_name": "LayoutView",
       "align_content": null,
       "align_items": null,
       "align_self": null,
       "border": null,
       "bottom": null,
       "display": null,
       "flex": null,
       "flex_flow": null,
       "grid_area": null,
       "grid_auto_columns": null,
       "grid_auto_flow": null,
       "grid_auto_rows": null,
       "grid_column": null,
       "grid_gap": null,
       "grid_row": null,
       "grid_template_areas": null,
       "grid_template_columns": null,
       "grid_template_rows": null,
       "height": null,
       "justify_content": null,
       "justify_items": null,
       "left": null,
       "margin": null,
       "max_height": null,
       "max_width": null,
       "min_height": null,
       "min_width": null,
       "object_fit": null,
       "object_position": null,
       "order": null,
       "overflow": null,
       "overflow_x": null,
       "overflow_y": null,
       "padding": null,
       "right": null,
       "top": null,
       "visibility": null,
       "width": null
      }
     },
     "a8d25f4fea6f40c29438e10532bb4a4e": {
      "model_module": "@jupyter-widgets/controls",
      "model_module_version": "1.5.0",
      "model_name": "ProgressStyleModel",
      "state": {
       "_model_module": "@jupyter-widgets/controls",
       "_model_module_version": "1.5.0",
       "_model_name": "ProgressStyleModel",
       "_view_count": null,
       "_view_module": "@jupyter-widgets/base",
       "_view_module_version": "1.2.0",
       "_view_name": "StyleView",
       "bar_color": null,
       "description_width": ""
      }
     },
     "aa054fc168824590955385ba217ec428": {
      "model_module": "@jupyter-widgets/base",
      "model_module_version": "1.2.0",
      "model_name": "LayoutModel",
      "state": {
       "_model_module": "@jupyter-widgets/base",
       "_model_module_version": "1.2.0",
       "_model_name": "LayoutModel",
       "_view_count": null,
       "_view_module": "@jupyter-widgets/base",
       "_view_module_version": "1.2.0",
       "_view_name": "LayoutView",
       "align_content": null,
       "align_items": null,
       "align_self": null,
       "border": null,
       "bottom": null,
       "display": null,
       "flex": null,
       "flex_flow": null,
       "grid_area": null,
       "grid_auto_columns": null,
       "grid_auto_flow": null,
       "grid_auto_rows": null,
       "grid_column": null,
       "grid_gap": null,
       "grid_row": null,
       "grid_template_areas": null,
       "grid_template_columns": null,
       "grid_template_rows": null,
       "height": null,
       "justify_content": null,
       "justify_items": null,
       "left": null,
       "margin": null,
       "max_height": null,
       "max_width": null,
       "min_height": null,
       "min_width": null,
       "object_fit": null,
       "object_position": null,
       "order": null,
       "overflow": null,
       "overflow_x": null,
       "overflow_y": null,
       "padding": null,
       "right": null,
       "top": null,
       "visibility": null,
       "width": null
      }
     },
     "aead7e99e3544530b8c1ba2bff53d5bb": {
      "model_module": "@jupyter-widgets/controls",
      "model_module_version": "1.5.0",
      "model_name": "ButtonModel",
      "state": {
       "_dom_classes": [],
       "_model_module": "@jupyter-widgets/controls",
       "_model_module_version": "1.5.0",
       "_model_name": "ButtonModel",
       "_view_count": null,
       "_view_module": "@jupyter-widgets/controls",
       "_view_module_version": "1.5.0",
       "_view_name": "ButtonView",
       "button_style": "",
       "description": "Previous",
       "disabled": false,
       "icon": "",
       "layout": "IPY_MODEL_824609e2b51745e9917399cd3e3e4c69",
       "style": "IPY_MODEL_5552614f98b24f22b761ab8780a013b6",
       "tooltip": ""
      }
     },
     "b130c860e51a4659ac2cbf14a040b8a6": {
      "model_module": "@jupyter-widgets/base",
      "model_module_version": "1.2.0",
      "model_name": "LayoutModel",
      "state": {
       "_model_module": "@jupyter-widgets/base",
       "_model_module_version": "1.2.0",
       "_model_name": "LayoutModel",
       "_view_count": null,
       "_view_module": "@jupyter-widgets/base",
       "_view_module_version": "1.2.0",
       "_view_name": "LayoutView",
       "align_content": null,
       "align_items": null,
       "align_self": null,
       "border": null,
       "bottom": null,
       "display": null,
       "flex": null,
       "flex_flow": null,
       "grid_area": null,
       "grid_auto_columns": null,
       "grid_auto_flow": null,
       "grid_auto_rows": null,
       "grid_column": null,
       "grid_gap": null,
       "grid_row": null,
       "grid_template_areas": null,
       "grid_template_columns": null,
       "grid_template_rows": null,
       "height": null,
       "justify_content": null,
       "justify_items": null,
       "left": null,
       "margin": null,
       "max_height": null,
       "max_width": null,
       "min_height": null,
       "min_width": null,
       "object_fit": null,
       "object_position": null,
       "order": null,
       "overflow": null,
       "overflow_x": null,
       "overflow_y": null,
       "padding": null,
       "right": null,
       "top": null,
       "visibility": null,
       "width": null
      }
     },
     "b5a1c6f33e1946878495a0d56d8955b7": {
      "model_module": "@jupyter-widgets/controls",
      "model_module_version": "1.5.0",
      "model_name": "DescriptionStyleModel",
      "state": {
       "_model_module": "@jupyter-widgets/controls",
       "_model_module_version": "1.5.0",
       "_model_name": "DescriptionStyleModel",
       "_view_count": null,
       "_view_module": "@jupyter-widgets/base",
       "_view_module_version": "1.2.0",
       "_view_name": "StyleView",
       "description_width": ""
      }
     },
     "b68c04dccc3741f9b0ec8f164f7847ef": {
      "model_module": "@jupyter-widgets/controls",
      "model_module_version": "1.5.0",
      "model_name": "DescriptionStyleModel",
      "state": {
       "_model_module": "@jupyter-widgets/controls",
       "_model_module_version": "1.5.0",
       "_model_name": "DescriptionStyleModel",
       "_view_count": null,
       "_view_module": "@jupyter-widgets/base",
       "_view_module_version": "1.2.0",
       "_view_name": "StyleView",
       "description_width": ""
      }
     },
     "bdb010f80e914ed28fc6756a4c6a2df3": {
      "model_module": "@jupyter-widgets/base",
      "model_module_version": "1.2.0",
      "model_name": "LayoutModel",
      "state": {
       "_model_module": "@jupyter-widgets/base",
       "_model_module_version": "1.2.0",
       "_model_name": "LayoutModel",
       "_view_count": null,
       "_view_module": "@jupyter-widgets/base",
       "_view_module_version": "1.2.0",
       "_view_name": "LayoutView",
       "align_content": null,
       "align_items": null,
       "align_self": null,
       "border": null,
       "bottom": null,
       "display": null,
       "flex": null,
       "flex_flow": null,
       "grid_area": null,
       "grid_auto_columns": null,
       "grid_auto_flow": null,
       "grid_auto_rows": null,
       "grid_column": null,
       "grid_gap": null,
       "grid_row": null,
       "grid_template_areas": null,
       "grid_template_columns": null,
       "grid_template_rows": null,
       "height": null,
       "justify_content": null,
       "justify_items": null,
       "left": null,
       "margin": null,
       "max_height": null,
       "max_width": null,
       "min_height": null,
       "min_width": null,
       "object_fit": null,
       "object_position": null,
       "order": null,
       "overflow": null,
       "overflow_x": null,
       "overflow_y": null,
       "padding": null,
       "right": null,
       "top": null,
       "visibility": null,
       "width": null
      }
     },
     "bfa7df6f9b994e1bb35faeed67b0b9b7": {
      "model_module": "@jupyter-widgets/controls",
      "model_module_version": "1.5.0",
      "model_name": "ButtonModel",
      "state": {
       "_dom_classes": [],
       "_model_module": "@jupyter-widgets/controls",
       "_model_module_version": "1.5.0",
       "_model_name": "ButtonModel",
       "_view_count": null,
       "_view_module": "@jupyter-widgets/controls",
       "_view_module_version": "1.5.0",
       "_view_name": "ButtonView",
       "button_style": "",
       "description": "Next",
       "disabled": false,
       "icon": "",
       "layout": "IPY_MODEL_caa19b4c65f44999928b04d7d4cfbbec",
       "style": "IPY_MODEL_fd871593a0e14f70a18f12b376dc2470",
       "tooltip": ""
      }
     },
     "c119e05d146e4903b07cbebe7d49e259": {
      "model_module": "@jupyter-widgets/controls",
      "model_module_version": "1.5.0",
      "model_name": "ProgressStyleModel",
      "state": {
       "_model_module": "@jupyter-widgets/controls",
       "_model_module_version": "1.5.0",
       "_model_name": "ProgressStyleModel",
       "_view_count": null,
       "_view_module": "@jupyter-widgets/base",
       "_view_module_version": "1.2.0",
       "_view_name": "StyleView",
       "bar_color": null,
       "description_width": ""
      }
     },
     "c1bc253394264caeb803e10a35dabc1d": {
      "model_module": "@jupyter-widgets/controls",
      "model_module_version": "1.5.0",
      "model_name": "HTMLModel",
      "state": {
       "_dom_classes": [],
       "_model_module": "@jupyter-widgets/controls",
       "_model_module_version": "1.5.0",
       "_model_name": "HTMLModel",
       "_view_count": null,
       "_view_module": "@jupyter-widgets/controls",
       "_view_module_version": "1.5.0",
       "_view_name": "HTMLView",
       "description": "",
       "description_tooltip": null,
       "layout": "IPY_MODEL_52aed0c19c0a4cc7a67273ee97a6149d",
       "placeholder": "​",
       "style": "IPY_MODEL_743dba12b98c4a8f8acf10be293ed6f1",
       "value": " 38095/38095 [00:53&lt;00:00, 682.86it/s]"
      }
     },
     "c808a2acccad4681913ccaae610cf483": {
      "model_module": "@jupyter-widgets/base",
      "model_module_version": "1.2.0",
      "model_name": "LayoutModel",
      "state": {
       "_model_module": "@jupyter-widgets/base",
       "_model_module_version": "1.2.0",
       "_model_name": "LayoutModel",
       "_view_count": null,
       "_view_module": "@jupyter-widgets/base",
       "_view_module_version": "1.2.0",
       "_view_name": "LayoutView",
       "align_content": null,
       "align_items": null,
       "align_self": null,
       "border": null,
       "bottom": null,
       "display": null,
       "flex": null,
       "flex_flow": null,
       "grid_area": null,
       "grid_auto_columns": null,
       "grid_auto_flow": null,
       "grid_auto_rows": null,
       "grid_column": null,
       "grid_gap": null,
       "grid_row": null,
       "grid_template_areas": null,
       "grid_template_columns": null,
       "grid_template_rows": null,
       "height": null,
       "justify_content": null,
       "justify_items": null,
       "left": null,
       "margin": null,
       "max_height": null,
       "max_width": null,
       "min_height": null,
       "min_width": null,
       "object_fit": null,
       "object_position": null,
       "order": null,
       "overflow": null,
       "overflow_x": null,
       "overflow_y": null,
       "padding": null,
       "right": null,
       "top": null,
       "visibility": null,
       "width": null
      }
     },
     "caa19b4c65f44999928b04d7d4cfbbec": {
      "model_module": "@jupyter-widgets/base",
      "model_module_version": "1.2.0",
      "model_name": "LayoutModel",
      "state": {
       "_model_module": "@jupyter-widgets/base",
       "_model_module_version": "1.2.0",
       "_model_name": "LayoutModel",
       "_view_count": null,
       "_view_module": "@jupyter-widgets/base",
       "_view_module_version": "1.2.0",
       "_view_name": "LayoutView",
       "align_content": null,
       "align_items": null,
       "align_self": null,
       "border": null,
       "bottom": null,
       "display": null,
       "flex": null,
       "flex_flow": null,
       "grid_area": null,
       "grid_auto_columns": null,
       "grid_auto_flow": null,
       "grid_auto_rows": null,
       "grid_column": null,
       "grid_gap": null,
       "grid_row": null,
       "grid_template_areas": null,
       "grid_template_columns": null,
       "grid_template_rows": null,
       "height": null,
       "justify_content": null,
       "justify_items": null,
       "left": null,
       "margin": null,
       "max_height": null,
       "max_width": null,
       "min_height": null,
       "min_width": null,
       "object_fit": null,
       "object_position": null,
       "order": null,
       "overflow": null,
       "overflow_x": null,
       "overflow_y": null,
       "padding": null,
       "right": null,
       "top": null,
       "visibility": null,
       "width": null
      }
     },
     "cb4d021c4f84454c936304263782ed59": {
      "model_module": "@jupyter-widgets/controls",
      "model_module_version": "1.5.0",
      "model_name": "TextModel",
      "state": {
       "_dom_classes": [],
       "_model_module": "@jupyter-widgets/controls",
       "_model_module_version": "1.5.0",
       "_model_name": "TextModel",
       "_view_count": null,
       "_view_module": "@jupyter-widgets/controls",
       "_view_module_version": "1.5.0",
       "_view_name": "TextView",
       "continuous_update": true,
       "description": "",
       "description_tooltip": null,
       "disabled": false,
       "layout": "IPY_MODEL_1c05536987ef4f2c94d3324eaf5d2af1",
       "placeholder": "Enter partial category name",
       "style": "IPY_MODEL_b5a1c6f33e1946878495a0d56d8955b7",
       "value": ""
      }
     },
     "d076427cf1214e3fac15ec6795218d87": {
      "model_module": "@jupyter-widgets/base",
      "model_module_version": "1.2.0",
      "model_name": "LayoutModel",
      "state": {
       "_model_module": "@jupyter-widgets/base",
       "_model_module_version": "1.2.0",
       "_model_name": "LayoutModel",
       "_view_count": null,
       "_view_module": "@jupyter-widgets/base",
       "_view_module_version": "1.2.0",
       "_view_name": "LayoutView",
       "align_content": null,
       "align_items": null,
       "align_self": null,
       "border": null,
       "bottom": null,
       "display": null,
       "flex": null,
       "flex_flow": null,
       "grid_area": null,
       "grid_auto_columns": null,
       "grid_auto_flow": null,
       "grid_auto_rows": null,
       "grid_column": null,
       "grid_gap": null,
       "grid_row": null,
       "grid_template_areas": null,
       "grid_template_columns": null,
       "grid_template_rows": null,
       "height": null,
       "justify_content": null,
       "justify_items": null,
       "left": null,
       "margin": null,
       "max_height": null,
       "max_width": null,
       "min_height": null,
       "min_width": null,
       "object_fit": null,
       "object_position": null,
       "order": null,
       "overflow": null,
       "overflow_x": null,
       "overflow_y": null,
       "padding": null,
       "right": null,
       "top": null,
       "visibility": null,
       "width": null
      }
     },
     "d12ec42f135b4c728748e037838f89e3": {
      "model_module": "@jupyter-widgets/base",
      "model_module_version": "1.2.0",
      "model_name": "LayoutModel",
      "state": {
       "_model_module": "@jupyter-widgets/base",
       "_model_module_version": "1.2.0",
       "_model_name": "LayoutModel",
       "_view_count": null,
       "_view_module": "@jupyter-widgets/base",
       "_view_module_version": "1.2.0",
       "_view_name": "LayoutView",
       "align_content": null,
       "align_items": null,
       "align_self": null,
       "border": null,
       "bottom": null,
       "display": null,
       "flex": null,
       "flex_flow": null,
       "grid_area": null,
       "grid_auto_columns": null,
       "grid_auto_flow": null,
       "grid_auto_rows": null,
       "grid_column": null,
       "grid_gap": null,
       "grid_row": null,
       "grid_template_areas": null,
       "grid_template_columns": null,
       "grid_template_rows": null,
       "height": null,
       "justify_content": null,
       "justify_items": null,
       "left": null,
       "margin": null,
       "max_height": null,
       "max_width": null,
       "min_height": null,
       "min_width": null,
       "object_fit": null,
       "object_position": null,
       "order": null,
       "overflow": null,
       "overflow_x": null,
       "overflow_y": null,
       "padding": null,
       "right": null,
       "top": null,
       "visibility": null,
       "width": null
      }
     },
     "d494ca72dae94d15bcce31f0a7910315": {
      "model_module": "@jupyter-widgets/controls",
      "model_module_version": "1.5.0",
      "model_name": "DescriptionStyleModel",
      "state": {
       "_model_module": "@jupyter-widgets/controls",
       "_model_module_version": "1.5.0",
       "_model_name": "DescriptionStyleModel",
       "_view_count": null,
       "_view_module": "@jupyter-widgets/base",
       "_view_module_version": "1.2.0",
       "_view_name": "StyleView",
       "description_width": ""
      }
     },
     "d6bde7718b654dd1abf8af49c7202fee": {
      "model_module": "@jupyter-widgets/controls",
      "model_module_version": "1.5.0",
      "model_name": "HTMLModel",
      "state": {
       "_dom_classes": [],
       "_model_module": "@jupyter-widgets/controls",
       "_model_module_version": "1.5.0",
       "_model_name": "HTMLModel",
       "_view_count": null,
       "_view_module": "@jupyter-widgets/controls",
       "_view_module_version": "1.5.0",
       "_view_name": "HTMLView",
       "description": "",
       "description_tooltip": null,
       "layout": "IPY_MODEL_42b31c999c904727868225d21e0e7be7",
       "placeholder": "​",
       "style": "IPY_MODEL_b68c04dccc3741f9b0ec8f164f7847ef",
       "value": " 38095/38095 [13:54&lt;00:00, 26.97it/s]"
      }
     },
     "e24484ed1092443a8a0845cb17f395d4": {
      "model_module": "@jupyter-widgets/controls",
      "model_module_version": "1.5.0",
      "model_name": "HBoxModel",
      "state": {
       "_dom_classes": [],
       "_model_module": "@jupyter-widgets/controls",
       "_model_module_version": "1.5.0",
       "_model_name": "HBoxModel",
       "_view_count": null,
       "_view_module": "@jupyter-widgets/controls",
       "_view_module_version": "1.5.0",
       "_view_name": "HBoxView",
       "box_style": "",
       "children": [
        "IPY_MODEL_f4d220e529b94f058699a486272c0ced",
        "IPY_MODEL_8f9983860cca4f13b8c5d1c0c4a5545a",
        "IPY_MODEL_25e84db82f6447f5bd9cf2958fb83de2"
       ],
       "layout": "IPY_MODEL_6418b574c4574c998472ed0527b0c6c9"
      }
     },
     "e766232a0d514b798089a0a72cd8dcbe": {
      "model_module": "@jupyter-widgets/controls",
      "model_module_version": "1.5.0",
      "model_name": "ButtonStyleModel",
      "state": {
       "_model_module": "@jupyter-widgets/controls",
       "_model_module_version": "1.5.0",
       "_model_name": "ButtonStyleModel",
       "_view_count": null,
       "_view_module": "@jupyter-widgets/base",
       "_view_module_version": "1.2.0",
       "_view_name": "StyleView",
       "button_color": null,
       "font_weight": ""
      }
     },
     "e840ed46b8544eef8335c90a197094dc": {
      "model_module": "@jupyter-widgets/controls",
      "model_module_version": "1.5.0",
      "model_name": "HTMLModel",
      "state": {
       "_dom_classes": [],
       "_model_module": "@jupyter-widgets/controls",
       "_model_module_version": "1.5.0",
       "_model_name": "HTMLModel",
       "_view_count": null,
       "_view_module": "@jupyter-widgets/controls",
       "_view_module_version": "1.5.0",
       "_view_name": "HTMLView",
       "description": "",
       "description_tooltip": null,
       "layout": "IPY_MODEL_80c9fb2a206c4884848becaf00578a57",
       "placeholder": "​",
       "style": "IPY_MODEL_fe3011f61b224dcaa5620202091b4a41",
       "value": "100%"
      }
     },
     "ea9f91bfe2664d3d98827c19a79ab3ca": {
      "model_module": "@jupyter-widgets/controls",
      "model_module_version": "1.5.0",
      "model_name": "DescriptionStyleModel",
      "state": {
       "_model_module": "@jupyter-widgets/controls",
       "_model_module_version": "1.5.0",
       "_model_name": "DescriptionStyleModel",
       "_view_count": null,
       "_view_module": "@jupyter-widgets/base",
       "_view_module_version": "1.2.0",
       "_view_name": "StyleView",
       "description_width": ""
      }
     },
     "ec07be0e6be048e890c0be61492d2b64": {
      "model_module": "@jupyter-widgets/controls",
      "model_module_version": "1.5.0",
      "model_name": "HTMLModel",
      "state": {
       "_dom_classes": [],
       "_model_module": "@jupyter-widgets/controls",
       "_model_module_version": "1.5.0",
       "_model_name": "HTMLModel",
       "_view_count": null,
       "_view_module": "@jupyter-widgets/controls",
       "_view_module_version": "1.5.0",
       "_view_name": "HTMLView",
       "description": "",
       "description_tooltip": null,
       "layout": "IPY_MODEL_5f1382c5a57747a19b49a0c00dac841a",
       "placeholder": "​",
       "style": "IPY_MODEL_852ff6cd3588420381115667279e39c6",
       "value": "Training Collaborative Model: 100%"
      }
     },
     "eca3b5c8300342a0adea7cc22240fac5": {
      "model_module": "@jupyter-widgets/base",
      "model_module_version": "1.2.0",
      "model_name": "LayoutModel",
      "state": {
       "_model_module": "@jupyter-widgets/base",
       "_model_module_version": "1.2.0",
       "_model_name": "LayoutModel",
       "_view_count": null,
       "_view_module": "@jupyter-widgets/base",
       "_view_module_version": "1.2.0",
       "_view_name": "LayoutView",
       "align_content": null,
       "align_items": null,
       "align_self": null,
       "border": null,
       "bottom": null,
       "display": null,
       "flex": null,
       "flex_flow": null,
       "grid_area": null,
       "grid_auto_columns": null,
       "grid_auto_flow": null,
       "grid_auto_rows": null,
       "grid_column": null,
       "grid_gap": null,
       "grid_row": null,
       "grid_template_areas": null,
       "grid_template_columns": null,
       "grid_template_rows": null,
       "height": null,
       "justify_content": null,
       "justify_items": null,
       "left": null,
       "margin": null,
       "max_height": null,
       "max_width": null,
       "min_height": null,
       "min_width": null,
       "object_fit": null,
       "object_position": null,
       "order": null,
       "overflow": null,
       "overflow_x": null,
       "overflow_y": null,
       "padding": null,
       "right": null,
       "top": null,
       "visibility": null,
       "width": null
      }
     },
     "ed1ed6b351174b3299a3d06bdaeb315c": {
      "model_module": "@jupyter-widgets/base",
      "model_module_version": "1.2.0",
      "model_name": "LayoutModel",
      "state": {
       "_model_module": "@jupyter-widgets/base",
       "_model_module_version": "1.2.0",
       "_model_name": "LayoutModel",
       "_view_count": null,
       "_view_module": "@jupyter-widgets/base",
       "_view_module_version": "1.2.0",
       "_view_name": "LayoutView",
       "align_content": null,
       "align_items": null,
       "align_self": null,
       "border": null,
       "bottom": null,
       "display": null,
       "flex": null,
       "flex_flow": null,
       "grid_area": null,
       "grid_auto_columns": null,
       "grid_auto_flow": null,
       "grid_auto_rows": null,
       "grid_column": null,
       "grid_gap": null,
       "grid_row": null,
       "grid_template_areas": null,
       "grid_template_columns": null,
       "grid_template_rows": null,
       "height": null,
       "justify_content": null,
       "justify_items": null,
       "left": null,
       "margin": null,
       "max_height": null,
       "max_width": null,
       "min_height": null,
       "min_width": null,
       "object_fit": null,
       "object_position": null,
       "order": null,
       "overflow": null,
       "overflow_x": null,
       "overflow_y": null,
       "padding": null,
       "right": null,
       "top": null,
       "visibility": null,
       "width": null
      }
     },
     "ee1225bdc0d54989876c217f475d7e48": {
      "model_module": "@jupyter-widgets/output",
      "model_module_version": "1.0.0",
      "model_name": "OutputModel",
      "state": {
       "_dom_classes": [],
       "_model_module": "@jupyter-widgets/output",
       "_model_module_version": "1.0.0",
       "_model_name": "OutputModel",
       "_view_count": null,
       "_view_module": "@jupyter-widgets/output",
       "_view_module_version": "1.0.0",
       "_view_name": "OutputView",
       "layout": "IPY_MODEL_f094c45580a341808d1de41dab2be8b4",
       "msg_id": "",
       "outputs": []
      }
     },
     "eebda961552a4db4a338d5a7b2b68f5a": {
      "model_module": "@jupyter-widgets/output",
      "model_module_version": "1.0.0",
      "model_name": "OutputModel",
      "state": {
       "_dom_classes": [],
       "_model_module": "@jupyter-widgets/output",
       "_model_module_version": "1.0.0",
       "_model_name": "OutputModel",
       "_view_count": null,
       "_view_module": "@jupyter-widgets/output",
       "_view_module_version": "1.0.0",
       "_view_name": "OutputView",
       "layout": "IPY_MODEL_6d7d8f836e2640a9bb00a759d29bd90c",
       "msg_id": "",
       "outputs": []
      }
     },
     "f08a49245f6d4409a9a69371d5883c89": {
      "model_module": "@jupyter-widgets/controls",
      "model_module_version": "1.5.0",
      "model_name": "HTMLModel",
      "state": {
       "_dom_classes": [],
       "_model_module": "@jupyter-widgets/controls",
       "_model_module_version": "1.5.0",
       "_model_name": "HTMLModel",
       "_view_count": null,
       "_view_module": "@jupyter-widgets/controls",
       "_view_module_version": "1.5.0",
       "_view_name": "HTMLView",
       "description": "",
       "description_tooltip": null,
       "layout": "IPY_MODEL_aa054fc168824590955385ba217ec428",
       "placeholder": "​",
       "style": "IPY_MODEL_531ed62d5ead435a8cb90fbae00f223f",
       "value": " 1/1 [00:22&lt;00:00, 22.91s/it]"
      }
     },
     "f094c45580a341808d1de41dab2be8b4": {
      "model_module": "@jupyter-widgets/base",
      "model_module_version": "1.2.0",
      "model_name": "LayoutModel",
      "state": {
       "_model_module": "@jupyter-widgets/base",
       "_model_module_version": "1.2.0",
       "_model_name": "LayoutModel",
       "_view_count": null,
       "_view_module": "@jupyter-widgets/base",
       "_view_module_version": "1.2.0",
       "_view_name": "LayoutView",
       "align_content": null,
       "align_items": null,
       "align_self": null,
       "border": null,
       "bottom": null,
       "display": null,
       "flex": null,
       "flex_flow": null,
       "grid_area": null,
       "grid_auto_columns": null,
       "grid_auto_flow": null,
       "grid_auto_rows": null,
       "grid_column": null,
       "grid_gap": null,
       "grid_row": null,
       "grid_template_areas": null,
       "grid_template_columns": null,
       "grid_template_rows": null,
       "height": null,
       "justify_content": null,
       "justify_items": null,
       "left": null,
       "margin": null,
       "max_height": null,
       "max_width": null,
       "min_height": null,
       "min_width": null,
       "object_fit": null,
       "object_position": null,
       "order": null,
       "overflow": null,
       "overflow_x": null,
       "overflow_y": null,
       "padding": null,
       "right": null,
       "top": null,
       "visibility": null,
       "width": null
      }
     },
     "f250aa453bdc41d99d5faaef36e75495": {
      "model_module": "@jupyter-widgets/controls",
      "model_module_version": "1.5.0",
      "model_name": "HTMLModel",
      "state": {
       "_dom_classes": [],
       "_model_module": "@jupyter-widgets/controls",
       "_model_module_version": "1.5.0",
       "_model_name": "HTMLModel",
       "_view_count": null,
       "_view_module": "@jupyter-widgets/controls",
       "_view_module_version": "1.5.0",
       "_view_name": "HTMLView",
       "description": "",
       "description_tooltip": null,
       "layout": "IPY_MODEL_6d9947271a6c4b648b73cd29245c77b3",
       "placeholder": "​",
       "style": "IPY_MODEL_0d2fba51363842089d5512e06cd3128a",
       "value": " 3230/3230 [00:22&lt;00:00, 137.31it/s]"
      }
     },
     "f4c615b224a641d58aa22f4fe5fba178": {
      "model_module": "@jupyter-widgets/base",
      "model_module_version": "1.2.0",
      "model_name": "LayoutModel",
      "state": {
       "_model_module": "@jupyter-widgets/base",
       "_model_module_version": "1.2.0",
       "_model_name": "LayoutModel",
       "_view_count": null,
       "_view_module": "@jupyter-widgets/base",
       "_view_module_version": "1.2.0",
       "_view_name": "LayoutView",
       "align_content": null,
       "align_items": null,
       "align_self": null,
       "border": null,
       "bottom": null,
       "display": null,
       "flex": null,
       "flex_flow": null,
       "grid_area": null,
       "grid_auto_columns": null,
       "grid_auto_flow": null,
       "grid_auto_rows": null,
       "grid_column": null,
       "grid_gap": null,
       "grid_row": null,
       "grid_template_areas": null,
       "grid_template_columns": null,
       "grid_template_rows": null,
       "height": null,
       "justify_content": null,
       "justify_items": null,
       "left": null,
       "margin": null,
       "max_height": null,
       "max_width": null,
       "min_height": null,
       "min_width": null,
       "object_fit": null,
       "object_position": null,
       "order": null,
       "overflow": null,
       "overflow_x": null,
       "overflow_y": null,
       "padding": null,
       "right": null,
       "top": null,
       "visibility": null,
       "width": null
      }
     },
     "f4d220e529b94f058699a486272c0ced": {
      "model_module": "@jupyter-widgets/controls",
      "model_module_version": "1.5.0",
      "model_name": "HTMLModel",
      "state": {
       "_dom_classes": [],
       "_model_module": "@jupyter-widgets/controls",
       "_model_module_version": "1.5.0",
       "_model_name": "HTMLModel",
       "_view_count": null,
       "_view_module": "@jupyter-widgets/controls",
       "_view_module_version": "1.5.0",
       "_view_name": "HTMLView",
       "description": "",
       "description_tooltip": null,
       "layout": "IPY_MODEL_f4c615b224a641d58aa22f4fe5fba178",
       "placeholder": "​",
       "style": "IPY_MODEL_8c36c9b6175647bdb570f8c54f911a73",
       "value": "Processing Reviews: 100%"
      }
     },
     "f94b2e4f2cf24db89d01c2f1cf96ef53": {
      "model_module": "@jupyter-widgets/controls",
      "model_module_version": "1.5.0",
      "model_name": "DescriptionStyleModel",
      "state": {
       "_model_module": "@jupyter-widgets/controls",
       "_model_module_version": "1.5.0",
       "_model_name": "DescriptionStyleModel",
       "_view_count": null,
       "_view_module": "@jupyter-widgets/base",
       "_view_module_version": "1.2.0",
       "_view_name": "StyleView",
       "description_width": ""
      }
     },
     "fd645b3b19794602b514e86bdf9b7ae8": {
      "model_module": "@jupyter-widgets/controls",
      "model_module_version": "1.5.0",
      "model_name": "HTMLModel",
      "state": {
       "_dom_classes": [],
       "_model_module": "@jupyter-widgets/controls",
       "_model_module_version": "1.5.0",
       "_model_name": "HTMLModel",
       "_view_count": null,
       "_view_module": "@jupyter-widgets/controls",
       "_view_module_version": "1.5.0",
       "_view_name": "HTMLView",
       "description": "",
       "description_tooltip": null,
       "layout": "IPY_MODEL_8b7b6d31804045d2b8d2efdb0a862984",
       "placeholder": "​",
       "style": "IPY_MODEL_41de39533a2a459faa2249e0af99982f",
       "value": " 1/1 [13:55&lt;00:00, 835.01s/it]"
      }
     },
     "fd871593a0e14f70a18f12b376dc2470": {
      "model_module": "@jupyter-widgets/controls",
      "model_module_version": "1.5.0",
      "model_name": "ButtonStyleModel",
      "state": {
       "_model_module": "@jupyter-widgets/controls",
       "_model_module_version": "1.5.0",
       "_model_name": "ButtonStyleModel",
       "_view_count": null,
       "_view_module": "@jupyter-widgets/base",
       "_view_module_version": "1.2.0",
       "_view_name": "StyleView",
       "button_color": null,
       "font_weight": ""
      }
     },
     "fe3011f61b224dcaa5620202091b4a41": {
      "model_module": "@jupyter-widgets/controls",
      "model_module_version": "1.5.0",
      "model_name": "DescriptionStyleModel",
      "state": {
       "_model_module": "@jupyter-widgets/controls",
       "_model_module_version": "1.5.0",
       "_model_name": "DescriptionStyleModel",
       "_view_count": null,
       "_view_module": "@jupyter-widgets/base",
       "_view_module_version": "1.2.0",
       "_view_name": "StyleView",
       "description_width": ""
      }
     }
    },
    "version_major": 2,
    "version_minor": 0
   }
  }
 },
 "nbformat": 4,
 "nbformat_minor": 5
}
